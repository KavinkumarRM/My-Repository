{
 "cells": [
  {
   "cell_type": "code",
   "execution_count": 27,
   "metadata": {},
   "outputs": [],
   "source": [
    "import numpy as np\n",
    "import matplotlib.pyplot as plt\n",
    "import pandas as pd\n",
    "from sklearn.model_selection import train_test_split\n",
    "from sklearn.preprocessing import LabelEncoder\n",
    "from keras.utils import np_utils\n",
    "from keras.models import Model, Sequential\n",
    "from keras.layers import LSTM, Activation, Dense, Dropout, Input, Embedding\n",
    "from keras.optimizers import RMSprop\n",
    "from keras.preprocessing.text import Tokenizer\n",
    "from keras.preprocessing import sequence\n",
    "from keras.callbacks import EarlyStopping\n",
    "from keras import layers"
   ]
  },
  {
   "cell_type": "code",
   "execution_count": 18,
   "metadata": {},
   "outputs": [
    {
     "data": {
      "text/html": [
       "<div>\n",
       "<style scoped>\n",
       "    .dataframe tbody tr th:only-of-type {\n",
       "        vertical-align: middle;\n",
       "    }\n",
       "\n",
       "    .dataframe tbody tr th {\n",
       "        vertical-align: top;\n",
       "    }\n",
       "\n",
       "    .dataframe thead th {\n",
       "        text-align: right;\n",
       "    }\n",
       "</style>\n",
       "<table border=\"1\" class=\"dataframe\">\n",
       "  <thead>\n",
       "    <tr style=\"text-align: right;\">\n",
       "      <th></th>\n",
       "      <th>Unnamed: 0</th>\n",
       "      <th>Artist</th>\n",
       "      <th>Title</th>\n",
       "      <th>Mood</th>\n",
       "      <th>Lyrics</th>\n",
       "    </tr>\n",
       "  </thead>\n",
       "  <tbody>\n",
       "    <tr>\n",
       "      <td>0</td>\n",
       "      <td>0</td>\n",
       "      <td>Usher</td>\n",
       "      <td>There Goes My Baby</td>\n",
       "      <td>relaxed</td>\n",
       "      <td>There goes my baby\\n(Ooh girl look at you)\\nYo...</td>\n",
       "    </tr>\n",
       "    <tr>\n",
       "      <td>1</td>\n",
       "      <td>1</td>\n",
       "      <td>Da'Ville</td>\n",
       "      <td>On My Mind</td>\n",
       "      <td>relaxed</td>\n",
       "      <td>I'm thinking about you\\nGirl I miss you\\nBaby ...</td>\n",
       "    </tr>\n",
       "    <tr>\n",
       "      <td>2</td>\n",
       "      <td>2</td>\n",
       "      <td>Rihanna</td>\n",
       "      <td>Rockstar 101</td>\n",
       "      <td>relaxed</td>\n",
       "      <td>I told ya\\nI told ya\\nI told ya\\nBaby\\nBaby\\n\\...</td>\n",
       "    </tr>\n",
       "    <tr>\n",
       "      <td>3</td>\n",
       "      <td>3</td>\n",
       "      <td>J. Holiday</td>\n",
       "      <td>Bed</td>\n",
       "      <td>relaxed</td>\n",
       "      <td>(J. Holiday: speaking)\\nJ. Holiday\\nL.O.S.\\nAy...</td>\n",
       "    </tr>\n",
       "    <tr>\n",
       "      <td>4</td>\n",
       "      <td>4</td>\n",
       "      <td>Morgan Heritage</td>\n",
       "      <td>Don't Haffi Dread</td>\n",
       "      <td>angry</td>\n",
       "      <td>Yeah, yeah, yeah - ragga so ragga\\n\\nYou don't...</td>\n",
       "    </tr>\n",
       "    <tr>\n",
       "      <td>...</td>\n",
       "      <td>...</td>\n",
       "      <td>...</td>\n",
       "      <td>...</td>\n",
       "      <td>...</td>\n",
       "      <td>...</td>\n",
       "    </tr>\n",
       "    <tr>\n",
       "      <td>2572</td>\n",
       "      <td>2572</td>\n",
       "      <td>Slayer</td>\n",
       "      <td>Fight Till Death</td>\n",
       "      <td>angry</td>\n",
       "      <td>Metal and men clash once more to the end\\nWarr...</td>\n",
       "    </tr>\n",
       "    <tr>\n",
       "      <td>2573</td>\n",
       "      <td>2573</td>\n",
       "      <td>Anthrax</td>\n",
       "      <td>Among the Living</td>\n",
       "      <td>angry</td>\n",
       "      <td>Disease, disease\\nSpreading the disease\\nWith ...</td>\n",
       "    </tr>\n",
       "    <tr>\n",
       "      <td>2574</td>\n",
       "      <td>2574</td>\n",
       "      <td>Opeth</td>\n",
       "      <td>Heir Apparent</td>\n",
       "      <td>sad</td>\n",
       "      <td>Slow days\\nSlow words\\nSlow lies\\nSlow ends\\n\\...</td>\n",
       "    </tr>\n",
       "    <tr>\n",
       "      <td>2575</td>\n",
       "      <td>2575</td>\n",
       "      <td>Sepultura</td>\n",
       "      <td>Territory</td>\n",
       "      <td>angry</td>\n",
       "      <td>Unknown man\\nSpeaks to the world\\nSucking your...</td>\n",
       "    </tr>\n",
       "    <tr>\n",
       "      <td>2576</td>\n",
       "      <td>2576</td>\n",
       "      <td>Bing Crosby</td>\n",
       "      <td>Sweet Leilani</td>\n",
       "      <td>relaxed</td>\n",
       "      <td>Sweet Leilani\\nHeavenly flower\\nNature fashion...</td>\n",
       "    </tr>\n",
       "  </tbody>\n",
       "</table>\n",
       "<p>2577 rows × 5 columns</p>\n",
       "</div>"
      ],
      "text/plain": [
       "      Unnamed: 0           Artist               Title     Mood  \\\n",
       "0              0            Usher  There Goes My Baby  relaxed   \n",
       "1              1         Da'Ville          On My Mind  relaxed   \n",
       "2              2          Rihanna       Rockstar 101   relaxed   \n",
       "3              3       J. Holiday                 Bed  relaxed   \n",
       "4              4  Morgan Heritage   Don't Haffi Dread    angry   \n",
       "...          ...              ...                 ...      ...   \n",
       "2572        2572           Slayer    Fight Till Death    angry   \n",
       "2573        2573          Anthrax    Among the Living    angry   \n",
       "2574        2574            Opeth       Heir Apparent      sad   \n",
       "2575        2575        Sepultura           Territory    angry   \n",
       "2576        2576      Bing Crosby       Sweet Leilani  relaxed   \n",
       "\n",
       "                                                 Lyrics  \n",
       "0     There goes my baby\\n(Ooh girl look at you)\\nYo...  \n",
       "1     I'm thinking about you\\nGirl I miss you\\nBaby ...  \n",
       "2     I told ya\\nI told ya\\nI told ya\\nBaby\\nBaby\\n\\...  \n",
       "3     (J. Holiday: speaking)\\nJ. Holiday\\nL.O.S.\\nAy...  \n",
       "4     Yeah, yeah, yeah - ragga so ragga\\n\\nYou don't...  \n",
       "...                                                 ...  \n",
       "2572  Metal and men clash once more to the end\\nWarr...  \n",
       "2573  Disease, disease\\nSpreading the disease\\nWith ...  \n",
       "2574  Slow days\\nSlow words\\nSlow lies\\nSlow ends\\n\\...  \n",
       "2575  Unknown man\\nSpeaks to the world\\nSucking your...  \n",
       "2576  Sweet Leilani\\nHeavenly flower\\nNature fashion...  \n",
       "\n",
       "[2577 rows x 5 columns]"
      ]
     },
     "execution_count": 18,
     "metadata": {},
     "output_type": "execute_result"
    }
   ],
   "source": [
    "lyricsdataframe=pd.read_csv('./finallyrics1.csv',error_bad_lines=False)\n",
    "lyricsdataframe"
   ]
  },
  {
   "cell_type": "code",
   "execution_count": 19,
   "metadata": {},
   "outputs": [
    {
     "data": {
      "text/plain": [
       "0       There goes my baby\\n(Ooh girl look at you)\\nYo...\n",
       "1       I'm thinking about you\\nGirl I miss you\\nBaby ...\n",
       "2       I told ya\\nI told ya\\nI told ya\\nBaby\\nBaby\\n\\...\n",
       "3       (J. Holiday: speaking)\\nJ. Holiday\\nL.O.S.\\nAy...\n",
       "4       Yeah, yeah, yeah - ragga so ragga\\n\\nYou don't...\n",
       "                              ...                        \n",
       "2572    Metal and men clash once more to the end\\nWarr...\n",
       "2573    Disease, disease\\nSpreading the disease\\nWith ...\n",
       "2574    Slow days\\nSlow words\\nSlow lies\\nSlow ends\\n\\...\n",
       "2575    Unknown man\\nSpeaks to the world\\nSucking your...\n",
       "2576    Sweet Leilani\\nHeavenly flower\\nNature fashion...\n",
       "Name: Lyrics, Length: 2577, dtype: object"
      ]
     },
     "execution_count": 19,
     "metadata": {},
     "output_type": "execute_result"
    }
   ],
   "source": [
    "X=lyricsdataframe['Lyrics']\n",
    "X"
   ]
  },
  {
   "cell_type": "code",
   "execution_count": 20,
   "metadata": {},
   "outputs": [
    {
     "data": {
      "text/plain": [
       "0       relaxed\n",
       "1       relaxed\n",
       "2       relaxed\n",
       "3       relaxed\n",
       "4         angry\n",
       "         ...   \n",
       "2572      angry\n",
       "2573      angry\n",
       "2574        sad\n",
       "2575      angry\n",
       "2576    relaxed\n",
       "Name: Mood, Length: 2577, dtype: object"
      ]
     },
     "execution_count": 20,
     "metadata": {},
     "output_type": "execute_result"
    }
   ],
   "source": [
    "Y=lyricsdataframe['Mood']\n",
    "Y"
   ]
  },
  {
   "cell_type": "code",
   "execution_count": 26,
   "metadata": {},
   "outputs": [
    {
     "data": {
      "text/plain": [
       "array([[0., 0., 1., 0.],\n",
       "       [0., 0., 1., 0.],\n",
       "       [0., 0., 1., 0.],\n",
       "       ...,\n",
       "       [0., 0., 0., 1.],\n",
       "       [1., 0., 0., 0.],\n",
       "       [0., 0., 1., 0.]], dtype=float32)"
      ]
     },
     "execution_count": 26,
     "metadata": {},
     "output_type": "execute_result"
    }
   ],
   "source": [
    "laen=LabelEncoder()\n",
    "y=laen.fit_transform(Y)\n",
    "y=np_utils.to_categorical(y)\n",
    "y"
   ]
  },
  {
   "cell_type": "code",
   "execution_count": 24,
   "metadata": {},
   "outputs": [],
   "source": [
    "X_train,X_test,Y_train,Y_test=train_test_split(X,y,test_size=0.2)"
   ]
  },
  {
   "cell_type": "code",
   "execution_count": 29,
   "metadata": {},
   "outputs": [],
   "source": [
    "def tokkk(x,max_w,max_l):\n",
    "    lyricstok = Tokenizer(num_words=max_w)\n",
    "    lyricstok.fit_on_texts(x)\n",
    "    seque = lyricstok.texts_to_sequences(x)\n",
    "    sequen_matrix = sequence.pad_sequences(seque,maxlen=max_l)\n",
    "    return sequen_matrix"
   ]
  },
  {
   "cell_type": "code",
   "execution_count": 31,
   "metadata": {},
   "outputs": [
    {
     "data": {
      "text/plain": [
       "(2061, 600)"
      ]
     },
     "execution_count": 31,
     "metadata": {},
     "output_type": "execute_result"
    }
   ],
   "source": [
    "sequences_matrix = tokkk(X_train,550,600)\n",
    "sequences_matrix.shape"
   ]
  },
  {
   "cell_type": "code",
   "execution_count": 32,
   "metadata": {},
   "outputs": [],
   "source": [
    "max_words = 550\n",
    "max_len = 600"
   ]
  },
  {
   "cell_type": "code",
   "execution_count": 33,
   "metadata": {},
   "outputs": [],
   "source": [
    "inp = Input(name='inputs',shape=[max_len])\n",
    "i = Embedding(max_words,50,input_length=max_len)(inp)\n",
    "i = LSTM(32)(i)\n",
    "i = Dense(256, name='FC1')(i)\n",
    "i = Activation('relu')(i)\n",
    "i = Dropout(0.2)(i)\n",
    "i = Dense(4,name='out_layer')(i)\n",
    "out = Activation('softmax')(i)\n",
    "model = Model(inputs=inp,outputs=out)"
   ]
  },
  {
   "cell_type": "code",
   "execution_count": 34,
   "metadata": {},
   "outputs": [],
   "source": [
    "model.compile(loss='categorical_crossentropy',optimizer=RMSprop(),metrics=['accuracy'])"
   ]
  },
  {
   "cell_type": "code",
   "execution_count": 35,
   "metadata": {},
   "outputs": [
    {
     "name": "stdout",
     "output_type": "stream",
     "text": [
      "WARNING:tensorflow:From /Library/Frameworks/Python.framework/Versions/3.7/lib/python3.7/site-packages/keras/backend/tensorflow_backend.py:422: The name tf.global_variables is deprecated. Please use tf.compat.v1.global_variables instead.\n",
      "\n",
      "Train on 1648 samples, validate on 413 samples\n",
      "Epoch 1/5\n",
      "1648/1648 [==============================] - 4s 2ms/step - loss: 1.3323 - accuracy: 0.3677 - val_loss: 1.1439 - val_accuracy: 0.5496\n",
      "Epoch 2/5\n",
      "1648/1648 [==============================] - 4s 2ms/step - loss: 1.0198 - accuracy: 0.5843 - val_loss: 0.9392 - val_accuracy: 0.5981\n",
      "Epoch 3/5\n",
      "1648/1648 [==============================] - 4s 2ms/step - loss: 1.0681 - accuracy: 0.6280 - val_loss: 0.8623 - val_accuracy: 0.6489\n",
      "Epoch 4/5\n",
      "1648/1648 [==============================] - 4s 2ms/step - loss: 0.7782 - accuracy: 0.7051 - val_loss: 0.7781 - val_accuracy: 0.7046\n",
      "Epoch 5/5\n",
      "1648/1648 [==============================] - 4s 2ms/step - loss: 0.6535 - accuracy: 0.7591 - val_loss: 0.7545 - val_accuracy: 0.6707\n"
     ]
    }
   ],
   "source": [
    "history=model.fit(sequences_matrix,Y_train,batch_size=128,epochs=5,validation_split=0.2)"
   ]
  },
  {
   "cell_type": "code",
   "execution_count": 39,
   "metadata": {},
   "outputs": [
    {
     "data": {
      "image/png": "[encoded data removed]",
      "text/plain": [
       "<Figure size 432x288 with 1 Axes>"
      ]
     },
     "metadata": {
      "needs_background": "light"
     },
     "output_type": "display_data"
    }
   ],
   "source": [
    "plt.plot(history.history['accuracy'])\n",
    "plt.plot(history.history['val_accuracy'])\n",
    "plt.title('Model accuracy')\n",
    "plt.ylabel('Accuracy')\n",
    "plt.xlabel('Epoch')\n",
    "plt.legend(['Train', 'Test'], loc='upper left')\n",
    "plt.show()"
   ]
  }
 ],
 "metadata": {
  "kernelspec": {
   "display_name": "Python 3",
   "language": "python",
   "name": "python3"
  },
  "language_info": {
   "codemirror_mode": {
    "name": "ipython",
    "version": 3
   },
   "file_extension": ".py",
   "mimetype": "text/x-python",
   "name": "python",
   "nbconvert_exporter": "python",
   "pygments_lexer": "ipython3",
   "version": "3.7.4"
  }
 },
 "nbformat": 4,
 "nbformat_minor": 2
}
