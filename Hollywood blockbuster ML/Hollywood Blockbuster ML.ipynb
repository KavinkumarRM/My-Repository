{
 "cells": [
  {
   "cell_type": "code",
   "execution_count": 1,
   "metadata": {},
   "outputs": [],
   "source": [
    "import pandas as pd\n",
    "import numpy as np\n",
    "from sklearn.preprocessing import OneHotEncoder,LabelEncoder,MinMaxScaler\n",
    "from sklearn.feature_extraction.text import TfidfVectorizer\n",
    "from sklearn.feature_selection import SelectPercentile,f_classif,f_regression\n",
    "from sklearn.model_selection import train_test_split\n",
    "import matplotlib.pyplot as plt\n",
    "from imblearn.over_sampling import SMOTE"
   ]
  },
  {
   "cell_type": "code",
   "execution_count": 425,
   "metadata": {},
   "outputs": [],
   "source": [
    "from sklearn.metrics import classification_report,precision_score,recall_score,f1_score\n",
    "from sklearn import svm\n",
    "from sklearn.neighbors import KNeighborsClassifier\n",
    "from sklearn.model_selection import cross_val_score\n",
    "from sklearn.naive_bayes import GaussianNB"
   ]
  },
  {
   "cell_type": "code",
   "execution_count": 2,
   "metadata": {},
   "outputs": [],
   "source": [
    "from sklearn.ensemble import RandomForestClassifier"
   ]
  },
  {
   "cell_type": "code",
   "execution_count": 433,
   "metadata": {},
   "outputs": [],
   "source": [
    "import keras\n",
    "from keras.preprocessing.text import Tokenizer\n",
    "from keras.preprocessing import sequence\n",
    "from keras.preprocessing.text import Tokenizer\n",
    "import h2o\n",
    "from bayes_opt import BayesianOptimization"
   ]
  },
  {
   "cell_type": "code",
   "execution_count": 4,
   "metadata": {},
   "outputs": [
    {
     "name": "stderr",
     "output_type": "stream",
     "text": [
      "/anaconda2/lib/python2.7/site-packages/lightgbm/__init__.py:46: UserWarning: Starting from version 2.2.1, the library file in distribution wheels for macOS is built by the Apple Clang (Xcode_9.4.1) compiler.\n",
      "This means that in case of installing LightGBM from PyPI via the ``pip install lightgbm`` command, you don't need to install the gcc compiler anymore.\n",
      "Instead of that, you need to install the OpenMP library, which is required for running LightGBM on the system with the Apple Clang compiler.\n",
      "You can install the OpenMP library by the following command: ``brew install libomp``.\n",
      "  \"You can install the OpenMP library by the following command: ``brew install libomp``.\", UserWarning)\n"
     ]
    }
   ],
   "source": [
    "import os\n",
    "os.environ['KMP_DUPLICATE_LIB_OK']='True'\n",
    "from lightgbm import LGBMRegressor,LGBMClassifier,LGBMModel\n",
    "import lightgbm as lgb"
   ]
  },
  {
   "cell_type": "code",
   "execution_count": 5,
   "metadata": {},
   "outputs": [],
   "source": [
    "data=pd.read_excel('./Training sheet.xlsx')"
   ]
  },
  {
   "cell_type": "code",
   "execution_count": 6,
   "metadata": {},
   "outputs": [],
   "source": [
    "data=data.set_index(data['id'])"
   ]
  },
  {
   "cell_type": "code",
   "execution_count": 7,
   "metadata": {},
   "outputs": [],
   "source": [
    "del data['id']"
   ]
  },
  {
   "cell_type": "code",
   "execution_count": 8,
   "metadata": {},
   "outputs": [
    {
     "data": {
      "text/html": [
       "<div>\n",
       "<style scoped>\n",
       "    .dataframe tbody tr th:only-of-type {\n",
       "        vertical-align: middle;\n",
       "    }\n",
       "\n",
       "    .dataframe tbody tr th {\n",
       "        vertical-align: top;\n",
       "    }\n",
       "\n",
       "    .dataframe thead th {\n",
       "        text-align: right;\n",
       "    }\n",
       "</style>\n",
       "<table border=\"1\" class=\"dataframe\">\n",
       "  <thead>\n",
       "    <tr style=\"text-align: right;\">\n",
       "      <th></th>\n",
       "      <th>name</th>\n",
       "      <th>display_name</th>\n",
       "      <th>production_year</th>\n",
       "      <th>movie_sequel</th>\n",
       "      <th>creative_type</th>\n",
       "      <th>source</th>\n",
       "      <th>production_method</th>\n",
       "      <th>genre</th>\n",
       "      <th>language</th>\n",
       "      <th>board_rating_reason</th>\n",
       "      <th>movie_board_rating_display_name</th>\n",
       "      <th>movie_release_pattern_display_name</th>\n",
       "      <th>total</th>\n",
       "      <th>Category</th>\n",
       "    </tr>\n",
       "    <tr>\n",
       "      <th>id</th>\n",
       "      <th></th>\n",
       "      <th></th>\n",
       "      <th></th>\n",
       "      <th></th>\n",
       "      <th></th>\n",
       "      <th></th>\n",
       "      <th></th>\n",
       "      <th></th>\n",
       "      <th></th>\n",
       "      <th></th>\n",
       "      <th></th>\n",
       "      <th></th>\n",
       "      <th></th>\n",
       "      <th></th>\n",
       "    </tr>\n",
       "  </thead>\n",
       "  <tbody>\n",
       "    <tr>\n",
       "      <th>7950115</th>\n",
       "      <td>Avatar</td>\n",
       "      <td>Avatar</td>\n",
       "      <td>2009</td>\n",
       "      <td>0</td>\n",
       "      <td>Science Fiction</td>\n",
       "      <td>Original Screenplay</td>\n",
       "      <td>Animation/Live Action</td>\n",
       "      <td>Action</td>\n",
       "      <td>English</td>\n",
       "      <td>For intense epic battle sequences and warfare,...</td>\n",
       "      <td>PG-13</td>\n",
       "      <td>Wide</td>\n",
       "      <td>2784</td>\n",
       "      <td>9</td>\n",
       "    </tr>\n",
       "    <tr>\n",
       "      <th>50950115</th>\n",
       "      <td>Harry Potter and the Deathly Hallows: Part II</td>\n",
       "      <td>Harry Potter and the Deathly Hallows: Part II</td>\n",
       "      <td>2011</td>\n",
       "      <td>1</td>\n",
       "      <td>Fantasy</td>\n",
       "      <td>Based on Fiction Book/Short Story</td>\n",
       "      <td>Animation/Live Action</td>\n",
       "      <td>Adventure</td>\n",
       "      <td>English</td>\n",
       "      <td>for some sequences of intense action violence ...</td>\n",
       "      <td>PG-13</td>\n",
       "      <td>Wide</td>\n",
       "      <td>1328</td>\n",
       "      <td>9</td>\n",
       "    </tr>\n",
       "    <tr>\n",
       "      <th>119870115</th>\n",
       "      <td>Transformers 3</td>\n",
       "      <td>Transformers: Dark of the Moon</td>\n",
       "      <td>2011</td>\n",
       "      <td>1</td>\n",
       "      <td>Science Fiction</td>\n",
       "      <td>Based on TV</td>\n",
       "      <td>Animation/Live Action</td>\n",
       "      <td>Action</td>\n",
       "      <td>English</td>\n",
       "      <td>for intense prolonged sequences of sci-fi acti...</td>\n",
       "      <td>PG-13</td>\n",
       "      <td>Wide</td>\n",
       "      <td>1124</td>\n",
       "      <td>9</td>\n",
       "    </tr>\n",
       "    <tr>\n",
       "      <th>119590115</th>\n",
       "      <td>Toy Story 3</td>\n",
       "      <td>Toy Story 3</td>\n",
       "      <td>2010</td>\n",
       "      <td>1</td>\n",
       "      <td>Kids Fiction</td>\n",
       "      <td>Original Screenplay</td>\n",
       "      <td>Digital Animation</td>\n",
       "      <td>Adventure</td>\n",
       "      <td>English</td>\n",
       "      <td>General</td>\n",
       "      <td>G</td>\n",
       "      <td>Wide</td>\n",
       "      <td>1064</td>\n",
       "      <td>9</td>\n",
       "    </tr>\n",
       "    <tr>\n",
       "      <th>91700115</th>\n",
       "      <td>Pirates of the Caribbean 4</td>\n",
       "      <td>Pirates of the Caribbean: On Stranger Tides</td>\n",
       "      <td>2011</td>\n",
       "      <td>1</td>\n",
       "      <td>Fantasy</td>\n",
       "      <td>Based on Theme Park Ride</td>\n",
       "      <td>Live Action</td>\n",
       "      <td>Adventure</td>\n",
       "      <td>English</td>\n",
       "      <td>for intense sequences of action/adventure viol...</td>\n",
       "      <td>PG-13</td>\n",
       "      <td>Wide</td>\n",
       "      <td>1044</td>\n",
       "      <td>9</td>\n",
       "    </tr>\n",
       "    <tr>\n",
       "      <th>3480115</th>\n",
       "      <td>Alice in Wonderland (2010)</td>\n",
       "      <td>Alice in Wonderland</td>\n",
       "      <td>2010</td>\n",
       "      <td>0</td>\n",
       "      <td>Fantasy</td>\n",
       "      <td>Based on Fiction Book/Short Story</td>\n",
       "      <td>Animation/Live Action</td>\n",
       "      <td>Adventure</td>\n",
       "      <td>English</td>\n",
       "      <td>for fantasy action/violence involving scary im...</td>\n",
       "      <td>PG</td>\n",
       "      <td>Wide</td>\n",
       "      <td>1024</td>\n",
       "      <td>9</td>\n",
       "    </tr>\n",
       "    <tr>\n",
       "      <th>27870115</th>\n",
       "      <td>Dark Knight, The</td>\n",
       "      <td>The Dark Knight</td>\n",
       "      <td>2008</td>\n",
       "      <td>1</td>\n",
       "      <td>Super Hero</td>\n",
       "      <td>Based on Comic/Graphic Novel</td>\n",
       "      <td>Live Action</td>\n",
       "      <td>Action</td>\n",
       "      <td>English</td>\n",
       "      <td>for intense sequences of violence and some men...</td>\n",
       "      <td>PG-13</td>\n",
       "      <td>Wide</td>\n",
       "      <td>1003</td>\n",
       "      <td>9</td>\n",
       "    </tr>\n",
       "    <tr>\n",
       "      <th>91710115</th>\n",
       "      <td>Pirates of the Caribbean: At Worlds End</td>\n",
       "      <td>Pirates of the Caribbean: At World's End</td>\n",
       "      <td>2007</td>\n",
       "      <td>1</td>\n",
       "      <td>Historical Fiction</td>\n",
       "      <td>Based on Theme Park Ride</td>\n",
       "      <td>Live Action</td>\n",
       "      <td>Adventure</td>\n",
       "      <td>English</td>\n",
       "      <td>for intense sequences of action/adventure viol...</td>\n",
       "      <td>PG-13</td>\n",
       "      <td>Wide</td>\n",
       "      <td>961</td>\n",
       "      <td>9</td>\n",
       "    </tr>\n",
       "    <tr>\n",
       "      <th>50940115</th>\n",
       "      <td>Harry Potter and the Deathly Hallows: Part I</td>\n",
       "      <td>Harry Potter and the Deathly Hallows: Part I</td>\n",
       "      <td>2010</td>\n",
       "      <td>1</td>\n",
       "      <td>Fantasy</td>\n",
       "      <td>Based on Fiction Book/Short Story</td>\n",
       "      <td>Animation/Live Action</td>\n",
       "      <td>Adventure</td>\n",
       "      <td>English</td>\n",
       "      <td>for some sequences of intense action violence,...</td>\n",
       "      <td>PG-13</td>\n",
       "      <td>Wide</td>\n",
       "      <td>956</td>\n",
       "      <td>9</td>\n",
       "    </tr>\n",
       "    <tr>\n",
       "      <th>50990115</th>\n",
       "      <td>Harry Potter and the Order of the Phoenix</td>\n",
       "      <td>Harry Potter and the Order of the Phoenix</td>\n",
       "      <td>2007</td>\n",
       "      <td>1</td>\n",
       "      <td>Fantasy</td>\n",
       "      <td>Based on Fiction Book/Short Story</td>\n",
       "      <td>Animation/Live Action</td>\n",
       "      <td>Adventure</td>\n",
       "      <td>English</td>\n",
       "      <td>for sequences of fantasy violence and frighten...</td>\n",
       "      <td>PG-13</td>\n",
       "      <td>Wide</td>\n",
       "      <td>943</td>\n",
       "      <td>9</td>\n",
       "    </tr>\n",
       "    <tr>\n",
       "      <th>50980115</th>\n",
       "      <td>Harry Potter and the Half-Blood Prince</td>\n",
       "      <td>Harry Potter and the Half-Blood Prince</td>\n",
       "      <td>2009</td>\n",
       "      <td>1</td>\n",
       "      <td>Fantasy</td>\n",
       "      <td>Based on Fiction Book/Short Story</td>\n",
       "      <td>Animation/Live Action</td>\n",
       "      <td>Adventure</td>\n",
       "      <td>English</td>\n",
       "      <td>for scary images, some violence, language and ...</td>\n",
       "      <td>PG</td>\n",
       "      <td>Wide</td>\n",
       "      <td>934</td>\n",
       "      <td>9</td>\n",
       "    </tr>\n",
       "    <tr>\n",
       "      <th>109870115</th>\n",
       "      <td>Spider-Man 3</td>\n",
       "      <td>Spider-Man 3</td>\n",
       "      <td>2007</td>\n",
       "      <td>1</td>\n",
       "      <td>Super Hero</td>\n",
       "      <td>Based on Comic/Graphic Novel</td>\n",
       "      <td>Live Action</td>\n",
       "      <td>Adventure</td>\n",
       "      <td>English</td>\n",
       "      <td>for sequences of intense action violence</td>\n",
       "      <td>PG-13</td>\n",
       "      <td>Wide</td>\n",
       "      <td>891</td>\n",
       "      <td>9</td>\n",
       "    </tr>\n",
       "    <tr>\n",
       "      <th>56810115</th>\n",
       "      <td>Ice Age: Dawn of the Dinosaurs</td>\n",
       "      <td>Ice Age: Dawn of the Dinosaurs</td>\n",
       "      <td>2009</td>\n",
       "      <td>1</td>\n",
       "      <td>Kids Fiction</td>\n",
       "      <td>Original Screenplay</td>\n",
       "      <td>Digital Animation</td>\n",
       "      <td>Adventure</td>\n",
       "      <td>English</td>\n",
       "      <td>For some mild rude humor and peril</td>\n",
       "      <td>PG</td>\n",
       "      <td>Wide</td>\n",
       "      <td>887</td>\n",
       "      <td>9</td>\n",
       "    </tr>\n",
       "    <tr>\n",
       "      <th>119890115</th>\n",
       "      <td>Transformers: Revenge of the Fallen</td>\n",
       "      <td>Transformers: Revenge of the Fallen</td>\n",
       "      <td>2009</td>\n",
       "      <td>1</td>\n",
       "      <td>Science Fiction</td>\n",
       "      <td>Based on TV</td>\n",
       "      <td>Animation/Live Action</td>\n",
       "      <td>Action</td>\n",
       "      <td>English</td>\n",
       "      <td>for intense sequences of sci-fi action violenc...</td>\n",
       "      <td>PG-13</td>\n",
       "      <td>Wide</td>\n",
       "      <td>837</td>\n",
       "      <td>9</td>\n",
       "    </tr>\n",
       "    <tr>\n",
       "      <th>58150115</th>\n",
       "      <td>Inception</td>\n",
       "      <td>Inception</td>\n",
       "      <td>2010</td>\n",
       "      <td>0</td>\n",
       "      <td>Science Fiction</td>\n",
       "      <td>Original Screenplay</td>\n",
       "      <td>Animation/Live Action</td>\n",
       "      <td>Thriller/Suspense</td>\n",
       "      <td>English</td>\n",
       "      <td>for sequences of violence and action throughout</td>\n",
       "      <td>PG-13</td>\n",
       "      <td>Wide</td>\n",
       "      <td>833</td>\n",
       "      <td>9</td>\n",
       "    </tr>\n",
       "    <tr>\n",
       "      <th>105940115</th>\n",
       "      <td>Shrek the Third</td>\n",
       "      <td>Shrek the Third</td>\n",
       "      <td>2007</td>\n",
       "      <td>1</td>\n",
       "      <td>Kids Fiction</td>\n",
       "      <td>Based on Fiction Book/Short Story</td>\n",
       "      <td>Digital Animation</td>\n",
       "      <td>Adventure</td>\n",
       "      <td>English</td>\n",
       "      <td>for some crude humor, suggestive content and s...</td>\n",
       "      <td>PG</td>\n",
       "      <td>Wide</td>\n",
       "      <td>799</td>\n",
       "      <td>9</td>\n",
       "    </tr>\n",
       "    <tr>\n",
       "      <th>58390115</th>\n",
       "      <td>Indiana Jones and the Kingdom of the Crystal S...</td>\n",
       "      <td>Indiana Jones and the Kingdom of the Crystal S...</td>\n",
       "      <td>2008</td>\n",
       "      <td>1</td>\n",
       "      <td>Historical Fiction</td>\n",
       "      <td>Original Screenplay</td>\n",
       "      <td>Live Action</td>\n",
       "      <td>Adventure</td>\n",
       "      <td>English</td>\n",
       "      <td>for adventure violence and scary images.</td>\n",
       "      <td>PG-13</td>\n",
       "      <td>Wide</td>\n",
       "      <td>787</td>\n",
       "      <td>9</td>\n",
       "    </tr>\n",
       "    <tr>\n",
       "      <th>640115</th>\n",
       "      <td>2012</td>\n",
       "      <td>2012</td>\n",
       "      <td>2009</td>\n",
       "      <td>0</td>\n",
       "      <td>Science Fiction</td>\n",
       "      <td>Original Screenplay</td>\n",
       "      <td>Live Action</td>\n",
       "      <td>Action</td>\n",
       "      <td>English</td>\n",
       "      <td>for intense disaster sequences and some language</td>\n",
       "      <td>PG-13</td>\n",
       "      <td>Wide</td>\n",
       "      <td>767</td>\n",
       "      <td>9</td>\n",
       "    </tr>\n",
       "    <tr>\n",
       "      <th>105920115</th>\n",
       "      <td>Shrek Goes Fourth</td>\n",
       "      <td>Shrek Forever After</td>\n",
       "      <td>2010</td>\n",
       "      <td>1</td>\n",
       "      <td>Kids Fiction</td>\n",
       "      <td>Based on Fiction Book/Short Story</td>\n",
       "      <td>Digital Animation</td>\n",
       "      <td>Adventure</td>\n",
       "      <td>English</td>\n",
       "      <td>for mild action, some rude humor and brief lan...</td>\n",
       "      <td>PG</td>\n",
       "      <td>Wide</td>\n",
       "      <td>753</td>\n",
       "      <td>9</td>\n",
       "    </tr>\n",
       "    <tr>\n",
       "      <th>123280115</th>\n",
       "      <td>Up</td>\n",
       "      <td>Up</td>\n",
       "      <td>2009</td>\n",
       "      <td>0</td>\n",
       "      <td>Fantasy</td>\n",
       "      <td>Original Screenplay</td>\n",
       "      <td>Digital Animation</td>\n",
       "      <td>Adventure</td>\n",
       "      <td>English</td>\n",
       "      <td>for some peril and action</td>\n",
       "      <td>PG</td>\n",
       "      <td>Wide</td>\n",
       "      <td>732</td>\n",
       "      <td>8</td>\n",
       "    </tr>\n",
       "    <tr>\n",
       "      <th>83180115</th>\n",
       "      <td>New Moon</td>\n",
       "      <td>The Twilight Saga: New Moon</td>\n",
       "      <td>2009</td>\n",
       "      <td>1</td>\n",
       "      <td>Fantasy</td>\n",
       "      <td>Based on Fiction Book/Short Story</td>\n",
       "      <td>Live Action</td>\n",
       "      <td>Drama</td>\n",
       "      <td>English</td>\n",
       "      <td>For some violence and action</td>\n",
       "      <td>PG-13</td>\n",
       "      <td>Wide</td>\n",
       "      <td>710</td>\n",
       "      <td>8</td>\n",
       "    </tr>\n",
       "    <tr>\n",
       "      <th>136010115</th>\n",
       "      <td>Twilight Saga Breaking Dawn Part 1 The</td>\n",
       "      <td>The Twilight Saga: Breaking Dawn, Part 1</td>\n",
       "      <td>2011</td>\n",
       "      <td>1</td>\n",
       "      <td>Fantasy</td>\n",
       "      <td>Based on Fiction Book/Short Story</td>\n",
       "      <td>Live Action</td>\n",
       "      <td>Drama</td>\n",
       "      <td>English</td>\n",
       "      <td>for disturbing images, violence, sexuality/par...</td>\n",
       "      <td>PG-13</td>\n",
       "      <td>Wide</td>\n",
       "      <td>710</td>\n",
       "      <td>8</td>\n",
       "    </tr>\n",
       "    <tr>\n",
       "      <th>119880115</th>\n",
       "      <td>Transformers, The</td>\n",
       "      <td>Transformers</td>\n",
       "      <td>2007</td>\n",
       "      <td>0</td>\n",
       "      <td>Science Fiction</td>\n",
       "      <td>Based on TV</td>\n",
       "      <td>Animation/Live Action</td>\n",
       "      <td>Action</td>\n",
       "      <td>English</td>\n",
       "      <td>for intense sequences of sci-fi action violenc...</td>\n",
       "      <td>PG-13</td>\n",
       "      <td>Wide</td>\n",
       "      <td>708</td>\n",
       "      <td>8</td>\n",
       "    </tr>\n",
       "    <tr>\n",
       "      <th>154440115</th>\n",
       "      <td>Mission Impossible IV</td>\n",
       "      <td>Mission: Impossible - Ghost Protocol</td>\n",
       "      <td>2011</td>\n",
       "      <td>1</td>\n",
       "      <td>Contemporary Fiction</td>\n",
       "      <td>Original Screenplay</td>\n",
       "      <td>Live Action</td>\n",
       "      <td>Action</td>\n",
       "      <td>English</td>\n",
       "      <td>for sequences of intense action and violence.</td>\n",
       "      <td>PG-13</td>\n",
       "      <td>Expands Wide</td>\n",
       "      <td>695</td>\n",
       "      <td>8</td>\n",
       "    </tr>\n",
       "    <tr>\n",
       "      <th>34530115</th>\n",
       "      <td>Eclipse</td>\n",
       "      <td>The Twilight Saga: Eclipse</td>\n",
       "      <td>2010</td>\n",
       "      <td>1</td>\n",
       "      <td>Fantasy</td>\n",
       "      <td>Based on Fiction Book/Short Story</td>\n",
       "      <td>Live Action</td>\n",
       "      <td>Drama</td>\n",
       "      <td>English</td>\n",
       "      <td>for intense sequences of action and violence, ...</td>\n",
       "      <td>PG-13</td>\n",
       "      <td>Wide</td>\n",
       "      <td>693</td>\n",
       "      <td>8</td>\n",
       "    </tr>\n",
       "    <tr>\n",
       "      <th>65380115</th>\n",
       "      <td>Kung Fu Panda 2</td>\n",
       "      <td>Kung Fu Panda 2</td>\n",
       "      <td>2011</td>\n",
       "      <td>1</td>\n",
       "      <td>Kids Fiction</td>\n",
       "      <td>Original Screenplay</td>\n",
       "      <td>Digital Animation</td>\n",
       "      <td>Adventure</td>\n",
       "      <td>English</td>\n",
       "      <td>for sequences of martial arts action and mild ...</td>\n",
       "      <td>PG</td>\n",
       "      <td>Wide</td>\n",
       "      <td>665</td>\n",
       "      <td>8</td>\n",
       "    </tr>\n",
       "    <tr>\n",
       "      <th>142870115</th>\n",
       "      <td>Hunger Games The</td>\n",
       "      <td>The Hunger Games</td>\n",
       "      <td>2011</td>\n",
       "      <td>0</td>\n",
       "      <td>Science Fiction</td>\n",
       "      <td>Based on Fiction Book/Short Story</td>\n",
       "      <td>Live Action</td>\n",
       "      <td>Thriller/Suspense</td>\n",
       "      <td>English</td>\n",
       "      <td>for intense violent thematic material and dist...</td>\n",
       "      <td>PG-13</td>\n",
       "      <td>Wide</td>\n",
       "      <td>658</td>\n",
       "      <td>8</td>\n",
       "    </tr>\n",
       "    <tr>\n",
       "      <th>65370115</th>\n",
       "      <td>Kung Fu Panda</td>\n",
       "      <td>Kung Fu Panda</td>\n",
       "      <td>2008</td>\n",
       "      <td>0</td>\n",
       "      <td>Kids Fiction</td>\n",
       "      <td>Original Screenplay</td>\n",
       "      <td>Digital Animation</td>\n",
       "      <td>Adventure</td>\n",
       "      <td>English</td>\n",
       "      <td>for sequences of martial arts action</td>\n",
       "      <td>PG</td>\n",
       "      <td>Wide</td>\n",
       "      <td>632</td>\n",
       "      <td>8</td>\n",
       "    </tr>\n",
       "    <tr>\n",
       "      <th>135280115</th>\n",
       "      <td>Fast Five</td>\n",
       "      <td>Fast Five</td>\n",
       "      <td>2011</td>\n",
       "      <td>1</td>\n",
       "      <td>Contemporary Fiction</td>\n",
       "      <td>Based on Factual Book/Article</td>\n",
       "      <td>Live Action</td>\n",
       "      <td>Action</td>\n",
       "      <td>English</td>\n",
       "      <td>for intense sequences of violence and action, ...</td>\n",
       "      <td>PG-13</td>\n",
       "      <td>Wide</td>\n",
       "      <td>629</td>\n",
       "      <td>8</td>\n",
       "    </tr>\n",
       "    <tr>\n",
       "      <th>140990115</th>\n",
       "      <td>Men in Black 3</td>\n",
       "      <td>Men in Black 3</td>\n",
       "      <td>2011</td>\n",
       "      <td>1</td>\n",
       "      <td>Science Fiction</td>\n",
       "      <td>Based on Comic/Graphic Novel</td>\n",
       "      <td>Animation/Live Action</td>\n",
       "      <td>Action</td>\n",
       "      <td>English</td>\n",
       "      <td>for sci-fi action violence, and brief suggesti...</td>\n",
       "      <td>PG-13</td>\n",
       "      <td>Wide</td>\n",
       "      <td>625</td>\n",
       "      <td>8</td>\n",
       "    </tr>\n",
       "    <tr>\n",
       "      <th>...</th>\n",
       "      <td>...</td>\n",
       "      <td>...</td>\n",
       "      <td>...</td>\n",
       "      <td>...</td>\n",
       "      <td>...</td>\n",
       "      <td>...</td>\n",
       "      <td>...</td>\n",
       "      <td>...</td>\n",
       "      <td>...</td>\n",
       "      <td>...</td>\n",
       "      <td>...</td>\n",
       "      <td>...</td>\n",
       "      <td>...</td>\n",
       "      <td>...</td>\n",
       "    </tr>\n",
       "    <tr>\n",
       "      <th>58040115</th>\n",
       "      <td>In the Shadow of the Moon</td>\n",
       "      <td>In the Shadow of the Moon</td>\n",
       "      <td>2007</td>\n",
       "      <td>0</td>\n",
       "      <td>Factual</td>\n",
       "      <td>Based on Real Life Events</td>\n",
       "      <td>Live Action</td>\n",
       "      <td>Documentary</td>\n",
       "      <td>English</td>\n",
       "      <td>for mild language, brief violent images and in...</td>\n",
       "      <td>PG</td>\n",
       "      <td>Exclusive</td>\n",
       "      <td>1</td>\n",
       "      <td>1</td>\n",
       "    </tr>\n",
       "    <tr>\n",
       "      <th>143210115</th>\n",
       "      <td>Killer Joe</td>\n",
       "      <td>Killer Joe</td>\n",
       "      <td>2011</td>\n",
       "      <td>0</td>\n",
       "      <td>Contemporary Fiction</td>\n",
       "      <td>Based on Play</td>\n",
       "      <td>Live Action</td>\n",
       "      <td>Black Comedy</td>\n",
       "      <td>English</td>\n",
       "      <td>for strong and disturbing violence, sexuality,...</td>\n",
       "      <td>R</td>\n",
       "      <td>Limited</td>\n",
       "      <td>1</td>\n",
       "      <td>1</td>\n",
       "    </tr>\n",
       "    <tr>\n",
       "      <th>106420115</th>\n",
       "      <td>Silk</td>\n",
       "      <td>Silk</td>\n",
       "      <td>2007</td>\n",
       "      <td>0</td>\n",
       "      <td>Historical Fiction</td>\n",
       "      <td>Based on Fiction Book/Short Story</td>\n",
       "      <td>Live Action</td>\n",
       "      <td>Drama</td>\n",
       "      <td>English</td>\n",
       "      <td>for sexuality and nudity</td>\n",
       "      <td>R</td>\n",
       "      <td>Limited</td>\n",
       "      <td>1</td>\n",
       "      <td>1</td>\n",
       "    </tr>\n",
       "    <tr>\n",
       "      <th>145450115</th>\n",
       "      <td>Take This Waltz</td>\n",
       "      <td>Take This Waltz</td>\n",
       "      <td>2010</td>\n",
       "      <td>0</td>\n",
       "      <td>Contemporary Fiction</td>\n",
       "      <td>Original Screenplay</td>\n",
       "      <td>Live Action</td>\n",
       "      <td>Drama</td>\n",
       "      <td>English</td>\n",
       "      <td>for language, some strong sexual content and g...</td>\n",
       "      <td>R</td>\n",
       "      <td>Limited</td>\n",
       "      <td>1</td>\n",
       "      <td>1</td>\n",
       "    </tr>\n",
       "    <tr>\n",
       "      <th>75680115</th>\n",
       "      <td>Me and Orson Welles</td>\n",
       "      <td>Me and Orson Welles</td>\n",
       "      <td>2009</td>\n",
       "      <td>0</td>\n",
       "      <td>Historical Fiction</td>\n",
       "      <td>Based on Fiction Book/Short Story</td>\n",
       "      <td>Live Action</td>\n",
       "      <td>Drama</td>\n",
       "      <td>English</td>\n",
       "      <td>For sexual references and smoking</td>\n",
       "      <td>PG-13</td>\n",
       "      <td>Limited</td>\n",
       "      <td>1</td>\n",
       "      <td>1</td>\n",
       "    </tr>\n",
       "    <tr>\n",
       "      <th>85520115</th>\n",
       "      <td>Nuovomondo</td>\n",
       "      <td>Nuovomondo</td>\n",
       "      <td>2007</td>\n",
       "      <td>0</td>\n",
       "      <td>Historical Fiction</td>\n",
       "      <td>Original Screenplay</td>\n",
       "      <td>Live Action</td>\n",
       "      <td>Drama</td>\n",
       "      <td>English</td>\n",
       "      <td>for brief graphic nudity.</td>\n",
       "      <td>PG-13</td>\n",
       "      <td>Exclusive</td>\n",
       "      <td>1</td>\n",
       "      <td>1</td>\n",
       "    </tr>\n",
       "    <tr>\n",
       "      <th>156140115</th>\n",
       "      <td>Beats Rhymes and Life The Travels of a Tribe C...</td>\n",
       "      <td>Beats, Rhymes &amp; Life: The Travels of a Tribe C...</td>\n",
       "      <td>2011</td>\n",
       "      <td>0</td>\n",
       "      <td>Factual</td>\n",
       "      <td>Based on Real Life Events</td>\n",
       "      <td>Live Action</td>\n",
       "      <td>Documentary</td>\n",
       "      <td>English</td>\n",
       "      <td>for language.</td>\n",
       "      <td>R</td>\n",
       "      <td>Limited</td>\n",
       "      <td>1</td>\n",
       "      <td>1</td>\n",
       "    </tr>\n",
       "    <tr>\n",
       "      <th>152310115</th>\n",
       "      <td>Hodejegeme</td>\n",
       "      <td>Hodejegeme</td>\n",
       "      <td>2011</td>\n",
       "      <td>0</td>\n",
       "      <td>Contemporary Fiction</td>\n",
       "      <td>Based on Fiction Book/Short Story</td>\n",
       "      <td>Live Action</td>\n",
       "      <td>Thriller/Suspense</td>\n",
       "      <td>Norwegian</td>\n",
       "      <td>for bloody violence including some grisly imag...</td>\n",
       "      <td>R</td>\n",
       "      <td>Limited</td>\n",
       "      <td>1</td>\n",
       "      <td>1</td>\n",
       "    </tr>\n",
       "    <tr>\n",
       "      <th>131020115</th>\n",
       "      <td>Yoo-Hoo, Mrs. Goldberg</td>\n",
       "      <td>Yoo-Hoo, Mrs. Goldberg</td>\n",
       "      <td>2009</td>\n",
       "      <td>0</td>\n",
       "      <td>Factual</td>\n",
       "      <td>Based on Real Life Events</td>\n",
       "      <td>Live Action</td>\n",
       "      <td>Documentary</td>\n",
       "      <td>English</td>\n",
       "      <td>International - to be excluded</td>\n",
       "      <td>Not Rated</td>\n",
       "      <td>Limited</td>\n",
       "      <td>1</td>\n",
       "      <td>1</td>\n",
       "    </tr>\n",
       "    <tr>\n",
       "      <th>154830115</th>\n",
       "      <td>Kill the Irishman</td>\n",
       "      <td>Kill the Irishman</td>\n",
       "      <td>2010</td>\n",
       "      <td>0</td>\n",
       "      <td>Historical Fiction</td>\n",
       "      <td>Based on Factual Book/Article</td>\n",
       "      <td>Live Action</td>\n",
       "      <td>Drama</td>\n",
       "      <td>English</td>\n",
       "      <td>for strong violence, language and some sexual ...</td>\n",
       "      <td>R</td>\n",
       "      <td>Limited</td>\n",
       "      <td>1</td>\n",
       "      <td>1</td>\n",
       "    </tr>\n",
       "    <tr>\n",
       "      <th>72350115</th>\n",
       "      <td>Ma Tante Aline</td>\n",
       "      <td>Ma Tante Aline</td>\n",
       "      <td>2007</td>\n",
       "      <td>0</td>\n",
       "      <td>Contemporary Fiction</td>\n",
       "      <td>Original Screenplay</td>\n",
       "      <td>Live Action</td>\n",
       "      <td>Comedy</td>\n",
       "      <td>English</td>\n",
       "      <td>International - to be excluded</td>\n",
       "      <td>Not Rated</td>\n",
       "      <td>Limited</td>\n",
       "      <td>1</td>\n",
       "      <td>1</td>\n",
       "    </tr>\n",
       "    <tr>\n",
       "      <th>107270115</th>\n",
       "      <td>Skinwalkers</td>\n",
       "      <td>Skinwalkers</td>\n",
       "      <td>2007</td>\n",
       "      <td>0</td>\n",
       "      <td>Fantasy</td>\n",
       "      <td>Original Screenplay</td>\n",
       "      <td>Live Action</td>\n",
       "      <td>Horror</td>\n",
       "      <td>English</td>\n",
       "      <td>for intense sequences of violence and action, ...</td>\n",
       "      <td>PG-13</td>\n",
       "      <td>Wide</td>\n",
       "      <td>1</td>\n",
       "      <td>1</td>\n",
       "    </tr>\n",
       "    <tr>\n",
       "      <th>117510115</th>\n",
       "      <td>Thr3e</td>\n",
       "      <td>Thr3e</td>\n",
       "      <td>2007</td>\n",
       "      <td>0</td>\n",
       "      <td>Contemporary Fiction</td>\n",
       "      <td>Based on Fiction Book/Short Story</td>\n",
       "      <td>Live Action</td>\n",
       "      <td>Thriller/Suspense</td>\n",
       "      <td>English</td>\n",
       "      <td>for violence, disturbing images and terror.</td>\n",
       "      <td>PG-13</td>\n",
       "      <td>Limited</td>\n",
       "      <td>1</td>\n",
       "      <td>1</td>\n",
       "    </tr>\n",
       "    <tr>\n",
       "      <th>47700115</th>\n",
       "      <td>Goyas Ghosts</td>\n",
       "      <td>Goya's Ghosts</td>\n",
       "      <td>2007</td>\n",
       "      <td>0</td>\n",
       "      <td>Dramatization</td>\n",
       "      <td>Based on Real Life Events</td>\n",
       "      <td>Live Action</td>\n",
       "      <td>Drama</td>\n",
       "      <td>English</td>\n",
       "      <td>for violence, disturbing images, some sexual c...</td>\n",
       "      <td>R</td>\n",
       "      <td>Limited</td>\n",
       "      <td>1</td>\n",
       "      <td>1</td>\n",
       "    </tr>\n",
       "    <tr>\n",
       "      <th>76690115</th>\n",
       "      <td>Messenger, The</td>\n",
       "      <td>The Messenger</td>\n",
       "      <td>2009</td>\n",
       "      <td>0</td>\n",
       "      <td>Contemporary Fiction</td>\n",
       "      <td>Original Screenplay</td>\n",
       "      <td>Live Action</td>\n",
       "      <td>Drama</td>\n",
       "      <td>English</td>\n",
       "      <td>for language and some sexual content/nudity</td>\n",
       "      <td>R</td>\n",
       "      <td>Limited</td>\n",
       "      <td>1</td>\n",
       "      <td>1</td>\n",
       "    </tr>\n",
       "    <tr>\n",
       "      <th>10970115</th>\n",
       "      <td>Before the Rains</td>\n",
       "      <td>Before the Rains</td>\n",
       "      <td>2008</td>\n",
       "      <td>0</td>\n",
       "      <td>Historical Fiction</td>\n",
       "      <td>Remake</td>\n",
       "      <td>Live Action</td>\n",
       "      <td>Drama</td>\n",
       "      <td>English</td>\n",
       "      <td>for violent content and a scene of sexuality</td>\n",
       "      <td>PG-13</td>\n",
       "      <td>Limited</td>\n",
       "      <td>1</td>\n",
       "      <td>1</td>\n",
       "    </tr>\n",
       "    <tr>\n",
       "      <th>113140115</th>\n",
       "      <td>Sugar</td>\n",
       "      <td>Sugar</td>\n",
       "      <td>2009</td>\n",
       "      <td>0</td>\n",
       "      <td>Contemporary Fiction</td>\n",
       "      <td>Original Screenplay</td>\n",
       "      <td>Live Action</td>\n",
       "      <td>Drama</td>\n",
       "      <td>English</td>\n",
       "      <td>for language, some sexuality and brief drug use</td>\n",
       "      <td>R</td>\n",
       "      <td>Limited</td>\n",
       "      <td>1</td>\n",
       "      <td>1</td>\n",
       "    </tr>\n",
       "    <tr>\n",
       "      <th>160110115</th>\n",
       "      <td>Sholem Aleichem Laughing in the Darkness</td>\n",
       "      <td>Sholem Aleichem: Laughing in the Darkness</td>\n",
       "      <td>2011</td>\n",
       "      <td>0</td>\n",
       "      <td>Factual</td>\n",
       "      <td>Based on Real Life Events</td>\n",
       "      <td>Live Action</td>\n",
       "      <td>Documentary</td>\n",
       "      <td>English</td>\n",
       "      <td>International - to be excluded</td>\n",
       "      <td>Not Rated</td>\n",
       "      <td>Limited</td>\n",
       "      <td>1</td>\n",
       "      <td>1</td>\n",
       "    </tr>\n",
       "    <tr>\n",
       "      <th>145810115</th>\n",
       "      <td>Deep Blue Sea The</td>\n",
       "      <td>The Deep Blue Sea</td>\n",
       "      <td>2011</td>\n",
       "      <td>0</td>\n",
       "      <td>Contemporary Fiction</td>\n",
       "      <td>Based on Play</td>\n",
       "      <td>Live Action</td>\n",
       "      <td>Drama</td>\n",
       "      <td>English</td>\n",
       "      <td>for a scene of sexuality and nudity.</td>\n",
       "      <td>R</td>\n",
       "      <td>Limited</td>\n",
       "      <td>1</td>\n",
       "      <td>1</td>\n",
       "    </tr>\n",
       "    <tr>\n",
       "      <th>146670115</th>\n",
       "      <td>Whistleblower The</td>\n",
       "      <td>The Whistleblower</td>\n",
       "      <td>2010</td>\n",
       "      <td>0</td>\n",
       "      <td>Dramatization</td>\n",
       "      <td>Based on Real Life Events</td>\n",
       "      <td>Live Action</td>\n",
       "      <td>Drama</td>\n",
       "      <td>English</td>\n",
       "      <td>for disturbing violent content including a bru...</td>\n",
       "      <td>R</td>\n",
       "      <td>Limited</td>\n",
       "      <td>1</td>\n",
       "      <td>1</td>\n",
       "    </tr>\n",
       "    <tr>\n",
       "      <th>1220115</th>\n",
       "      <td>5150, Rue des Ormes</td>\n",
       "      <td>5150, Rue des Ormes</td>\n",
       "      <td>2009</td>\n",
       "      <td>0</td>\n",
       "      <td>Contemporary Fiction</td>\n",
       "      <td>Original Screenplay</td>\n",
       "      <td>Live Action</td>\n",
       "      <td>Multiple Genres</td>\n",
       "      <td>English</td>\n",
       "      <td>International - to be excluded</td>\n",
       "      <td>Not Rated</td>\n",
       "      <td>Wide</td>\n",
       "      <td>1</td>\n",
       "      <td>1</td>\n",
       "    </tr>\n",
       "    <tr>\n",
       "      <th>148590115</th>\n",
       "      <td>Heart Specialist The</td>\n",
       "      <td>The Heart Specialist</td>\n",
       "      <td>2010</td>\n",
       "      <td>0</td>\n",
       "      <td>Contemporary Fiction</td>\n",
       "      <td>Original Screenplay</td>\n",
       "      <td>Live Action</td>\n",
       "      <td>Romantic Comedy</td>\n",
       "      <td>English</td>\n",
       "      <td>for some sexual content and language.</td>\n",
       "      <td>R</td>\n",
       "      <td>Limited</td>\n",
       "      <td>1</td>\n",
       "      <td>1</td>\n",
       "    </tr>\n",
       "    <tr>\n",
       "      <th>156030115</th>\n",
       "      <td>Page One</td>\n",
       "      <td>Page One: Inside the New York Times</td>\n",
       "      <td>2011</td>\n",
       "      <td>0</td>\n",
       "      <td>Factual</td>\n",
       "      <td>Based on Real Life Events</td>\n",
       "      <td>Live Action</td>\n",
       "      <td>Documentary</td>\n",
       "      <td>English</td>\n",
       "      <td>for language including some sexual references.</td>\n",
       "      <td>R</td>\n",
       "      <td>Limited</td>\n",
       "      <td>1</td>\n",
       "      <td>1</td>\n",
       "    </tr>\n",
       "    <tr>\n",
       "      <th>103800115</th>\n",
       "      <td>September Dawn</td>\n",
       "      <td>September Dawn</td>\n",
       "      <td>2007</td>\n",
       "      <td>0</td>\n",
       "      <td>Dramatization</td>\n",
       "      <td>Based on Real Life Events</td>\n",
       "      <td>Live Action</td>\n",
       "      <td>Drama</td>\n",
       "      <td>English</td>\n",
       "      <td>for violence</td>\n",
       "      <td>R</td>\n",
       "      <td>Wide</td>\n",
       "      <td>1</td>\n",
       "      <td>1</td>\n",
       "    </tr>\n",
       "    <tr>\n",
       "      <th>134500115</th>\n",
       "      <td>Oogieloves in the BIG Balloon Adventure, The</td>\n",
       "      <td>The Oogieloves in the BIG Balloon Adventure</td>\n",
       "      <td>2010</td>\n",
       "      <td>0</td>\n",
       "      <td>Kids Fiction</td>\n",
       "      <td>Original Screenplay</td>\n",
       "      <td>Live Action</td>\n",
       "      <td>Adventure</td>\n",
       "      <td>English</td>\n",
       "      <td>General</td>\n",
       "      <td>G</td>\n",
       "      <td>Limited</td>\n",
       "      <td>1</td>\n",
       "      <td>1</td>\n",
       "    </tr>\n",
       "    <tr>\n",
       "      <th>144410115</th>\n",
       "      <td>Red State</td>\n",
       "      <td>Red State</td>\n",
       "      <td>2011</td>\n",
       "      <td>0</td>\n",
       "      <td>Contemporary Fiction</td>\n",
       "      <td>Original Screenplay</td>\n",
       "      <td>Live Action</td>\n",
       "      <td>Horror</td>\n",
       "      <td>English</td>\n",
       "      <td>for strong violence/disturbing content, some s...</td>\n",
       "      <td>R</td>\n",
       "      <td>Limited</td>\n",
       "      <td>1</td>\n",
       "      <td>1</td>\n",
       "    </tr>\n",
       "    <tr>\n",
       "      <th>133000115</th>\n",
       "      <td>Mission, La</td>\n",
       "      <td>La Mission</td>\n",
       "      <td>2009</td>\n",
       "      <td>0</td>\n",
       "      <td>Contemporary Fiction</td>\n",
       "      <td>Original Screenplay</td>\n",
       "      <td>Live Action</td>\n",
       "      <td>Documentary</td>\n",
       "      <td>English</td>\n",
       "      <td>for language, some violence and sexual content</td>\n",
       "      <td>R</td>\n",
       "      <td>Limited</td>\n",
       "      <td>1</td>\n",
       "      <td>1</td>\n",
       "    </tr>\n",
       "    <tr>\n",
       "      <th>630115</th>\n",
       "      <td>2010 Oscar Shorts</td>\n",
       "      <td>2010 Oscar Shorts</td>\n",
       "      <td>2009</td>\n",
       "      <td>1</td>\n",
       "      <td>Multiple Creative Types</td>\n",
       "      <td>Compilation</td>\n",
       "      <td>Multiple Production Methods</td>\n",
       "      <td>Multiple Genres</td>\n",
       "      <td>English</td>\n",
       "      <td>International - to be excluded</td>\n",
       "      <td>Not Rated</td>\n",
       "      <td>Limited</td>\n",
       "      <td>1</td>\n",
       "      <td>1</td>\n",
       "    </tr>\n",
       "    <tr>\n",
       "      <th>133360115</th>\n",
       "      <td>sept jours du talion, Les</td>\n",
       "      <td>Les sept jours du talion</td>\n",
       "      <td>2010</td>\n",
       "      <td>0</td>\n",
       "      <td>Contemporary Fiction</td>\n",
       "      <td>Original Screenplay</td>\n",
       "      <td>Live Action</td>\n",
       "      <td>Documentary</td>\n",
       "      <td>English</td>\n",
       "      <td>International - to be excluded</td>\n",
       "      <td>Not Rated</td>\n",
       "      <td>Wide</td>\n",
       "      <td>1</td>\n",
       "      <td>1</td>\n",
       "    </tr>\n",
       "    <tr>\n",
       "      <th>146890115</th>\n",
       "      <td>Damsels in Distress</td>\n",
       "      <td>Damsels in Distress</td>\n",
       "      <td>2010</td>\n",
       "      <td>0</td>\n",
       "      <td>Contemporary Fiction</td>\n",
       "      <td>Original Screenplay</td>\n",
       "      <td>Live Action</td>\n",
       "      <td>Black Comedy</td>\n",
       "      <td>English</td>\n",
       "      <td>for mature thematic content including some sex...</td>\n",
       "      <td>PG-13</td>\n",
       "      <td>Limited</td>\n",
       "      <td>1</td>\n",
       "      <td>1</td>\n",
       "    </tr>\n",
       "  </tbody>\n",
       "</table>\n",
       "<p>1196 rows × 14 columns</p>\n",
       "</div>"
      ],
      "text/plain": [
       "                                                        name  \\\n",
       "id                                                             \n",
       "7950115                                               Avatar   \n",
       "50950115       Harry Potter and the Deathly Hallows: Part II   \n",
       "119870115                                     Transformers 3   \n",
       "119590115                                        Toy Story 3   \n",
       "91700115                          Pirates of the Caribbean 4   \n",
       "3480115                           Alice in Wonderland (2010)   \n",
       "27870115                                    Dark Knight, The   \n",
       "91710115             Pirates of the Caribbean: At Worlds End   \n",
       "50940115        Harry Potter and the Deathly Hallows: Part I   \n",
       "50990115           Harry Potter and the Order of the Phoenix   \n",
       "50980115              Harry Potter and the Half-Blood Prince   \n",
       "109870115                                       Spider-Man 3   \n",
       "56810115                      Ice Age: Dawn of the Dinosaurs   \n",
       "119890115                Transformers: Revenge of the Fallen   \n",
       "58150115                                           Inception   \n",
       "105940115                                    Shrek the Third   \n",
       "58390115   Indiana Jones and the Kingdom of the Crystal S...   \n",
       "640115                                                  2012   \n",
       "105920115                                  Shrek Goes Fourth   \n",
       "123280115                                                 Up   \n",
       "83180115                                            New Moon   \n",
       "136010115             Twilight Saga Breaking Dawn Part 1 The   \n",
       "119880115                                  Transformers, The   \n",
       "154440115                              Mission Impossible IV   \n",
       "34530115                                             Eclipse   \n",
       "65380115                                     Kung Fu Panda 2   \n",
       "142870115                                   Hunger Games The   \n",
       "65370115                                       Kung Fu Panda   \n",
       "135280115                                          Fast Five   \n",
       "140990115                                     Men in Black 3   \n",
       "...                                                      ...   \n",
       "58040115                           In the Shadow of the Moon   \n",
       "143210115                                         Killer Joe   \n",
       "106420115                                               Silk   \n",
       "145450115                                    Take This Waltz   \n",
       "75680115                                 Me and Orson Welles   \n",
       "85520115                                          Nuovomondo   \n",
       "156140115  Beats Rhymes and Life The Travels of a Tribe C...   \n",
       "152310115                                         Hodejegeme   \n",
       "131020115                             Yoo-Hoo, Mrs. Goldberg   \n",
       "154830115                                  Kill the Irishman   \n",
       "72350115                                      Ma Tante Aline   \n",
       "107270115                                        Skinwalkers   \n",
       "117510115                                              Thr3e   \n",
       "47700115                                        Goyas Ghosts   \n",
       "76690115                                      Messenger, The   \n",
       "10970115                                    Before the Rains   \n",
       "113140115                                              Sugar   \n",
       "160110115           Sholem Aleichem Laughing in the Darkness   \n",
       "145810115                                  Deep Blue Sea The   \n",
       "146670115                                  Whistleblower The   \n",
       "1220115                                  5150, Rue des Ormes   \n",
       "148590115                               Heart Specialist The   \n",
       "156030115                                           Page One   \n",
       "103800115                                     September Dawn   \n",
       "134500115       Oogieloves in the BIG Balloon Adventure, The   \n",
       "144410115                                          Red State   \n",
       "133000115                                        Mission, La   \n",
       "630115                                     2010 Oscar Shorts   \n",
       "133360115                          sept jours du talion, Les   \n",
       "146890115                                Damsels in Distress   \n",
       "\n",
       "                                                display_name  production_year  \\\n",
       "id                                                                              \n",
       "7950115                                               Avatar             2009   \n",
       "50950115       Harry Potter and the Deathly Hallows: Part II             2011   \n",
       "119870115                     Transformers: Dark of the Moon             2011   \n",
       "119590115                                        Toy Story 3             2010   \n",
       "91700115         Pirates of the Caribbean: On Stranger Tides             2011   \n",
       "3480115                                  Alice in Wonderland             2010   \n",
       "27870115                                     The Dark Knight             2008   \n",
       "91710115            Pirates of the Caribbean: At World's End             2007   \n",
       "50940115        Harry Potter and the Deathly Hallows: Part I             2010   \n",
       "50990115           Harry Potter and the Order of the Phoenix             2007   \n",
       "50980115              Harry Potter and the Half-Blood Prince             2009   \n",
       "109870115                                       Spider-Man 3             2007   \n",
       "56810115                      Ice Age: Dawn of the Dinosaurs             2009   \n",
       "119890115                Transformers: Revenge of the Fallen             2009   \n",
       "58150115                                           Inception             2010   \n",
       "105940115                                    Shrek the Third             2007   \n",
       "58390115   Indiana Jones and the Kingdom of the Crystal S...             2008   \n",
       "640115                                                  2012             2009   \n",
       "105920115                                Shrek Forever After             2010   \n",
       "123280115                                                 Up             2009   \n",
       "83180115                         The Twilight Saga: New Moon             2009   \n",
       "136010115           The Twilight Saga: Breaking Dawn, Part 1             2011   \n",
       "119880115                                       Transformers             2007   \n",
       "154440115               Mission: Impossible - Ghost Protocol             2011   \n",
       "34530115                          The Twilight Saga: Eclipse             2010   \n",
       "65380115                                     Kung Fu Panda 2             2011   \n",
       "142870115                                   The Hunger Games             2011   \n",
       "65370115                                       Kung Fu Panda             2008   \n",
       "135280115                                          Fast Five             2011   \n",
       "140990115                                     Men in Black 3             2011   \n",
       "...                                                      ...              ...   \n",
       "58040115                           In the Shadow of the Moon             2007   \n",
       "143210115                                         Killer Joe             2011   \n",
       "106420115                                               Silk             2007   \n",
       "145450115                                    Take This Waltz             2010   \n",
       "75680115                                 Me and Orson Welles             2009   \n",
       "85520115                                          Nuovomondo             2007   \n",
       "156140115  Beats, Rhymes & Life: The Travels of a Tribe C...             2011   \n",
       "152310115                                         Hodejegeme             2011   \n",
       "131020115                             Yoo-Hoo, Mrs. Goldberg             2009   \n",
       "154830115                                  Kill the Irishman             2010   \n",
       "72350115                                      Ma Tante Aline             2007   \n",
       "107270115                                        Skinwalkers             2007   \n",
       "117510115                                              Thr3e             2007   \n",
       "47700115                                       Goya's Ghosts             2007   \n",
       "76690115                                       The Messenger             2009   \n",
       "10970115                                    Before the Rains             2008   \n",
       "113140115                                              Sugar             2009   \n",
       "160110115          Sholem Aleichem: Laughing in the Darkness             2011   \n",
       "145810115                                  The Deep Blue Sea             2011   \n",
       "146670115                                  The Whistleblower             2010   \n",
       "1220115                                  5150, Rue des Ormes             2009   \n",
       "148590115                               The Heart Specialist             2010   \n",
       "156030115                Page One: Inside the New York Times             2011   \n",
       "103800115                                     September Dawn             2007   \n",
       "134500115        The Oogieloves in the BIG Balloon Adventure             2010   \n",
       "144410115                                          Red State             2011   \n",
       "133000115                                         La Mission             2009   \n",
       "630115                                     2010 Oscar Shorts             2009   \n",
       "133360115                           Les sept jours du talion             2010   \n",
       "146890115                                Damsels in Distress             2010   \n",
       "\n",
       "           movie_sequel            creative_type  \\\n",
       "id                                                 \n",
       "7950115               0          Science Fiction   \n",
       "50950115              1                  Fantasy   \n",
       "119870115             1          Science Fiction   \n",
       "119590115             1             Kids Fiction   \n",
       "91700115              1                  Fantasy   \n",
       "3480115               0                  Fantasy   \n",
       "27870115              1               Super Hero   \n",
       "91710115              1       Historical Fiction   \n",
       "50940115              1                  Fantasy   \n",
       "50990115              1                  Fantasy   \n",
       "50980115              1                  Fantasy   \n",
       "109870115             1               Super Hero   \n",
       "56810115              1             Kids Fiction   \n",
       "119890115             1          Science Fiction   \n",
       "58150115              0          Science Fiction   \n",
       "105940115             1             Kids Fiction   \n",
       "58390115              1       Historical Fiction   \n",
       "640115                0          Science Fiction   \n",
       "105920115             1             Kids Fiction   \n",
       "123280115             0                  Fantasy   \n",
       "83180115              1                  Fantasy   \n",
       "136010115             1                  Fantasy   \n",
       "119880115             0          Science Fiction   \n",
       "154440115             1     Contemporary Fiction   \n",
       "34530115              1                  Fantasy   \n",
       "65380115              1             Kids Fiction   \n",
       "142870115             0          Science Fiction   \n",
       "65370115              0             Kids Fiction   \n",
       "135280115             1     Contemporary Fiction   \n",
       "140990115             1          Science Fiction   \n",
       "...                 ...                      ...   \n",
       "58040115              0                  Factual   \n",
       "143210115             0     Contemporary Fiction   \n",
       "106420115             0       Historical Fiction   \n",
       "145450115             0     Contemporary Fiction   \n",
       "75680115              0       Historical Fiction   \n",
       "85520115              0       Historical Fiction   \n",
       "156140115             0                  Factual   \n",
       "152310115             0     Contemporary Fiction   \n",
       "131020115             0                  Factual   \n",
       "154830115             0       Historical Fiction   \n",
       "72350115              0     Contemporary Fiction   \n",
       "107270115             0                  Fantasy   \n",
       "117510115             0     Contemporary Fiction   \n",
       "47700115              0            Dramatization   \n",
       "76690115              0     Contemporary Fiction   \n",
       "10970115              0       Historical Fiction   \n",
       "113140115             0     Contemporary Fiction   \n",
       "160110115             0                  Factual   \n",
       "145810115             0     Contemporary Fiction   \n",
       "146670115             0            Dramatization   \n",
       "1220115               0     Contemporary Fiction   \n",
       "148590115             0     Contemporary Fiction   \n",
       "156030115             0                  Factual   \n",
       "103800115             0            Dramatization   \n",
       "134500115             0             Kids Fiction   \n",
       "144410115             0     Contemporary Fiction   \n",
       "133000115             0     Contemporary Fiction   \n",
       "630115                1  Multiple Creative Types   \n",
       "133360115             0     Contemporary Fiction   \n",
       "146890115             0     Contemporary Fiction   \n",
       "\n",
       "                                      source            production_method  \\\n",
       "id                                                                          \n",
       "7950115                  Original Screenplay        Animation/Live Action   \n",
       "50950115   Based on Fiction Book/Short Story        Animation/Live Action   \n",
       "119870115                        Based on TV        Animation/Live Action   \n",
       "119590115                Original Screenplay            Digital Animation   \n",
       "91700115            Based on Theme Park Ride                  Live Action   \n",
       "3480115    Based on Fiction Book/Short Story        Animation/Live Action   \n",
       "27870115        Based on Comic/Graphic Novel                  Live Action   \n",
       "91710115            Based on Theme Park Ride                  Live Action   \n",
       "50940115   Based on Fiction Book/Short Story        Animation/Live Action   \n",
       "50990115   Based on Fiction Book/Short Story        Animation/Live Action   \n",
       "50980115   Based on Fiction Book/Short Story        Animation/Live Action   \n",
       "109870115       Based on Comic/Graphic Novel                  Live Action   \n",
       "56810115                 Original Screenplay            Digital Animation   \n",
       "119890115                        Based on TV        Animation/Live Action   \n",
       "58150115                 Original Screenplay        Animation/Live Action   \n",
       "105940115  Based on Fiction Book/Short Story            Digital Animation   \n",
       "58390115                 Original Screenplay                  Live Action   \n",
       "640115                   Original Screenplay                  Live Action   \n",
       "105920115  Based on Fiction Book/Short Story            Digital Animation   \n",
       "123280115                Original Screenplay            Digital Animation   \n",
       "83180115   Based on Fiction Book/Short Story                  Live Action   \n",
       "136010115  Based on Fiction Book/Short Story                  Live Action   \n",
       "119880115                        Based on TV        Animation/Live Action   \n",
       "154440115                Original Screenplay                  Live Action   \n",
       "34530115   Based on Fiction Book/Short Story                  Live Action   \n",
       "65380115                 Original Screenplay            Digital Animation   \n",
       "142870115  Based on Fiction Book/Short Story                  Live Action   \n",
       "65370115                 Original Screenplay            Digital Animation   \n",
       "135280115      Based on Factual Book/Article                  Live Action   \n",
       "140990115       Based on Comic/Graphic Novel        Animation/Live Action   \n",
       "...                                      ...                          ...   \n",
       "58040115           Based on Real Life Events                  Live Action   \n",
       "143210115                      Based on Play                  Live Action   \n",
       "106420115  Based on Fiction Book/Short Story                  Live Action   \n",
       "145450115                Original Screenplay                  Live Action   \n",
       "75680115   Based on Fiction Book/Short Story                  Live Action   \n",
       "85520115                 Original Screenplay                  Live Action   \n",
       "156140115          Based on Real Life Events                  Live Action   \n",
       "152310115  Based on Fiction Book/Short Story                  Live Action   \n",
       "131020115          Based on Real Life Events                  Live Action   \n",
       "154830115      Based on Factual Book/Article                  Live Action   \n",
       "72350115                 Original Screenplay                  Live Action   \n",
       "107270115                Original Screenplay                  Live Action   \n",
       "117510115  Based on Fiction Book/Short Story                  Live Action   \n",
       "47700115           Based on Real Life Events                  Live Action   \n",
       "76690115                 Original Screenplay                  Live Action   \n",
       "10970115                              Remake                  Live Action   \n",
       "113140115                Original Screenplay                  Live Action   \n",
       "160110115          Based on Real Life Events                  Live Action   \n",
       "145810115                      Based on Play                  Live Action   \n",
       "146670115          Based on Real Life Events                  Live Action   \n",
       "1220115                  Original Screenplay                  Live Action   \n",
       "148590115                Original Screenplay                  Live Action   \n",
       "156030115          Based on Real Life Events                  Live Action   \n",
       "103800115          Based on Real Life Events                  Live Action   \n",
       "134500115                Original Screenplay                  Live Action   \n",
       "144410115                Original Screenplay                  Live Action   \n",
       "133000115                Original Screenplay                  Live Action   \n",
       "630115                           Compilation  Multiple Production Methods   \n",
       "133360115                Original Screenplay                  Live Action   \n",
       "146890115                Original Screenplay                  Live Action   \n",
       "\n",
       "                       genre   language  \\\n",
       "id                                        \n",
       "7950115               Action    English   \n",
       "50950115           Adventure    English   \n",
       "119870115             Action    English   \n",
       "119590115          Adventure    English   \n",
       "91700115           Adventure    English   \n",
       "3480115            Adventure    English   \n",
       "27870115              Action    English   \n",
       "91710115           Adventure    English   \n",
       "50940115           Adventure    English   \n",
       "50990115           Adventure    English   \n",
       "50980115           Adventure    English   \n",
       "109870115          Adventure    English   \n",
       "56810115           Adventure    English   \n",
       "119890115             Action    English   \n",
       "58150115   Thriller/Suspense    English   \n",
       "105940115          Adventure    English   \n",
       "58390115           Adventure    English   \n",
       "640115                Action    English   \n",
       "105920115          Adventure    English   \n",
       "123280115          Adventure    English   \n",
       "83180115               Drama    English   \n",
       "136010115              Drama    English   \n",
       "119880115             Action    English   \n",
       "154440115             Action    English   \n",
       "34530115               Drama    English   \n",
       "65380115           Adventure    English   \n",
       "142870115  Thriller/Suspense    English   \n",
       "65370115           Adventure    English   \n",
       "135280115             Action    English   \n",
       "140990115             Action    English   \n",
       "...                      ...        ...   \n",
       "58040115         Documentary    English   \n",
       "143210115       Black Comedy    English   \n",
       "106420115              Drama    English   \n",
       "145450115              Drama    English   \n",
       "75680115               Drama    English   \n",
       "85520115               Drama    English   \n",
       "156140115        Documentary    English   \n",
       "152310115  Thriller/Suspense  Norwegian   \n",
       "131020115        Documentary    English   \n",
       "154830115              Drama    English   \n",
       "72350115              Comedy    English   \n",
       "107270115             Horror    English   \n",
       "117510115  Thriller/Suspense    English   \n",
       "47700115               Drama    English   \n",
       "76690115               Drama    English   \n",
       "10970115               Drama    English   \n",
       "113140115              Drama    English   \n",
       "160110115        Documentary    English   \n",
       "145810115              Drama    English   \n",
       "146670115              Drama    English   \n",
       "1220115      Multiple Genres    English   \n",
       "148590115    Romantic Comedy    English   \n",
       "156030115        Documentary    English   \n",
       "103800115              Drama    English   \n",
       "134500115          Adventure    English   \n",
       "144410115             Horror    English   \n",
       "133000115        Documentary    English   \n",
       "630115       Multiple Genres    English   \n",
       "133360115        Documentary    English   \n",
       "146890115       Black Comedy    English   \n",
       "\n",
       "                                         board_rating_reason  \\\n",
       "id                                                             \n",
       "7950115    For intense epic battle sequences and warfare,...   \n",
       "50950115   for some sequences of intense action violence ...   \n",
       "119870115  for intense prolonged sequences of sci-fi acti...   \n",
       "119590115                                            General   \n",
       "91700115   for intense sequences of action/adventure viol...   \n",
       "3480115    for fantasy action/violence involving scary im...   \n",
       "27870115   for intense sequences of violence and some men...   \n",
       "91710115   for intense sequences of action/adventure viol...   \n",
       "50940115   for some sequences of intense action violence,...   \n",
       "50990115   for sequences of fantasy violence and frighten...   \n",
       "50980115   for scary images, some violence, language and ...   \n",
       "109870115           for sequences of intense action violence   \n",
       "56810115                  For some mild rude humor and peril   \n",
       "119890115  for intense sequences of sci-fi action violenc...   \n",
       "58150115     for sequences of violence and action throughout   \n",
       "105940115  for some crude humor, suggestive content and s...   \n",
       "58390115            for adventure violence and scary images.   \n",
       "640115      for intense disaster sequences and some language   \n",
       "105920115  for mild action, some rude humor and brief lan...   \n",
       "123280115                          for some peril and action   \n",
       "83180115                        For some violence and action   \n",
       "136010115  for disturbing images, violence, sexuality/par...   \n",
       "119880115  for intense sequences of sci-fi action violenc...   \n",
       "154440115      for sequences of intense action and violence.   \n",
       "34530115   for intense sequences of action and violence, ...   \n",
       "65380115   for sequences of martial arts action and mild ...   \n",
       "142870115  for intense violent thematic material and dist...   \n",
       "65370115                for sequences of martial arts action   \n",
       "135280115  for intense sequences of violence and action, ...   \n",
       "140990115  for sci-fi action violence, and brief suggesti...   \n",
       "...                                                      ...   \n",
       "58040115   for mild language, brief violent images and in...   \n",
       "143210115  for strong and disturbing violence, sexuality,...   \n",
       "106420115                           for sexuality and nudity   \n",
       "145450115  for language, some strong sexual content and g...   \n",
       "75680115                   For sexual references and smoking   \n",
       "85520115                           for brief graphic nudity.   \n",
       "156140115                                      for language.   \n",
       "152310115  for bloody violence including some grisly imag...   \n",
       "131020115                     International - to be excluded   \n",
       "154830115  for strong violence, language and some sexual ...   \n",
       "72350115                      International - to be excluded   \n",
       "107270115  for intense sequences of violence and action, ...   \n",
       "117510115        for violence, disturbing images and terror.   \n",
       "47700115   for violence, disturbing images, some sexual c...   \n",
       "76690115         for language and some sexual content/nudity   \n",
       "10970115        for violent content and a scene of sexuality   \n",
       "113140115    for language, some sexuality and brief drug use   \n",
       "160110115                     International - to be excluded   \n",
       "145810115               for a scene of sexuality and nudity.   \n",
       "146670115  for disturbing violent content including a bru...   \n",
       "1220115                       International - to be excluded   \n",
       "148590115              for some sexual content and language.   \n",
       "156030115     for language including some sexual references.   \n",
       "103800115                                       for violence   \n",
       "134500115                                            General   \n",
       "144410115  for strong violence/disturbing content, some s...   \n",
       "133000115     for language, some violence and sexual content   \n",
       "630115                        International - to be excluded   \n",
       "133360115                     International - to be excluded   \n",
       "146890115  for mature thematic content including some sex...   \n",
       "\n",
       "          movie_board_rating_display_name movie_release_pattern_display_name  \\\n",
       "id                                                                             \n",
       "7950115                             PG-13                               Wide   \n",
       "50950115                            PG-13                               Wide   \n",
       "119870115                           PG-13                               Wide   \n",
       "119590115                               G                               Wide   \n",
       "91700115                            PG-13                               Wide   \n",
       "3480115                                PG                               Wide   \n",
       "27870115                            PG-13                               Wide   \n",
       "91710115                            PG-13                               Wide   \n",
       "50940115                            PG-13                               Wide   \n",
       "50990115                            PG-13                               Wide   \n",
       "50980115                               PG                               Wide   \n",
       "109870115                           PG-13                               Wide   \n",
       "56810115                               PG                               Wide   \n",
       "119890115                           PG-13                               Wide   \n",
       "58150115                            PG-13                               Wide   \n",
       "105940115                              PG                               Wide   \n",
       "58390115                            PG-13                               Wide   \n",
       "640115                              PG-13                               Wide   \n",
       "105920115                              PG                               Wide   \n",
       "123280115                              PG                               Wide   \n",
       "83180115                            PG-13                               Wide   \n",
       "136010115                           PG-13                               Wide   \n",
       "119880115                           PG-13                               Wide   \n",
       "154440115                           PG-13                       Expands Wide   \n",
       "34530115                            PG-13                               Wide   \n",
       "65380115                               PG                               Wide   \n",
       "142870115                           PG-13                               Wide   \n",
       "65370115                               PG                               Wide   \n",
       "135280115                           PG-13                               Wide   \n",
       "140990115                           PG-13                               Wide   \n",
       "...                                   ...                                ...   \n",
       "58040115                               PG                          Exclusive   \n",
       "143210115                               R                            Limited   \n",
       "106420115                               R                            Limited   \n",
       "145450115                               R                            Limited   \n",
       "75680115                            PG-13                            Limited   \n",
       "85520115                            PG-13                          Exclusive   \n",
       "156140115                               R                            Limited   \n",
       "152310115                               R                            Limited   \n",
       "131020115                       Not Rated                            Limited   \n",
       "154830115                               R                            Limited   \n",
       "72350115                        Not Rated                            Limited   \n",
       "107270115                           PG-13                               Wide   \n",
       "117510115                           PG-13                            Limited   \n",
       "47700115                                R                            Limited   \n",
       "76690115                                R                            Limited   \n",
       "10970115                            PG-13                            Limited   \n",
       "113140115                               R                            Limited   \n",
       "160110115                       Not Rated                            Limited   \n",
       "145810115                               R                            Limited   \n",
       "146670115                               R                            Limited   \n",
       "1220115                         Not Rated                               Wide   \n",
       "148590115                               R                            Limited   \n",
       "156030115                               R                            Limited   \n",
       "103800115                               R                               Wide   \n",
       "134500115                               G                            Limited   \n",
       "144410115                               R                            Limited   \n",
       "133000115                               R                            Limited   \n",
       "630115                          Not Rated                            Limited   \n",
       "133360115                       Not Rated                               Wide   \n",
       "146890115                           PG-13                            Limited   \n",
       "\n",
       "           total  Category  \n",
       "id                          \n",
       "7950115     2784         9  \n",
       "50950115    1328         9  \n",
       "119870115   1124         9  \n",
       "119590115   1064         9  \n",
       "91700115    1044         9  \n",
       "3480115     1024         9  \n",
       "27870115    1003         9  \n",
       "91710115     961         9  \n",
       "50940115     956         9  \n",
       "50990115     943         9  \n",
       "50980115     934         9  \n",
       "109870115    891         9  \n",
       "56810115     887         9  \n",
       "119890115    837         9  \n",
       "58150115     833         9  \n",
       "105940115    799         9  \n",
       "58390115     787         9  \n",
       "640115       767         9  \n",
       "105920115    753         9  \n",
       "123280115    732         8  \n",
       "83180115     710         8  \n",
       "136010115    710         8  \n",
       "119880115    708         8  \n",
       "154440115    695         8  \n",
       "34530115     693         8  \n",
       "65380115     665         8  \n",
       "142870115    658         8  \n",
       "65370115     632         8  \n",
       "135280115    629         8  \n",
       "140990115    625         8  \n",
       "...          ...       ...  \n",
       "58040115       1         1  \n",
       "143210115      1         1  \n",
       "106420115      1         1  \n",
       "145450115      1         1  \n",
       "75680115       1         1  \n",
       "85520115       1         1  \n",
       "156140115      1         1  \n",
       "152310115      1         1  \n",
       "131020115      1         1  \n",
       "154830115      1         1  \n",
       "72350115       1         1  \n",
       "107270115      1         1  \n",
       "117510115      1         1  \n",
       "47700115       1         1  \n",
       "76690115       1         1  \n",
       "10970115       1         1  \n",
       "113140115      1         1  \n",
       "160110115      1         1  \n",
       "145810115      1         1  \n",
       "146670115      1         1  \n",
       "1220115        1         1  \n",
       "148590115      1         1  \n",
       "156030115      1         1  \n",
       "103800115      1         1  \n",
       "134500115      1         1  \n",
       "144410115      1         1  \n",
       "133000115      1         1  \n",
       "630115         1         1  \n",
       "133360115      1         1  \n",
       "146890115      1         1  \n",
       "\n",
       "[1196 rows x 14 columns]"
      ]
     },
     "execution_count": 8,
     "metadata": {},
     "output_type": "execute_result"
    }
   ],
   "source": [
    "data"
   ]
  },
  {
   "cell_type": "code",
   "execution_count": 9,
   "metadata": {},
   "outputs": [],
   "source": [
    "columns=[a.encode('utf-8') for a in list(data.columns)]"
   ]
  },
  {
   "cell_type": "code",
   "execution_count": 10,
   "metadata": {
    "scrolled": true
   },
   "outputs": [
    {
     "data": {
      "text/plain": [
       "['name',\n",
       " 'display_name',\n",
       " 'production_year',\n",
       " 'movie_sequel',\n",
       " 'creative_type',\n",
       " 'source',\n",
       " 'production_method',\n",
       " 'genre',\n",
       " 'language',\n",
       " 'board_rating_reason',\n",
       " 'movie_board_rating_display_name',\n",
       " 'movie_release_pattern_display_name',\n",
       " 'total',\n",
       " 'Category']"
      ]
     },
     "execution_count": 10,
     "metadata": {},
     "output_type": "execute_result"
    }
   ],
   "source": [
    "columns"
   ]
  },
  {
   "cell_type": "code",
   "execution_count": 11,
   "metadata": {},
   "outputs": [
    {
     "data": {
      "text/plain": [
       "name                                  False\n",
       "display_name                          False\n",
       "production_year                       False\n",
       "movie_sequel                          False\n",
       "creative_type                         False\n",
       "source                                False\n",
       "production_method                     False\n",
       "genre                                 False\n",
       "language                              False\n",
       "board_rating_reason                   False\n",
       "movie_board_rating_display_name       False\n",
       "movie_release_pattern_display_name    False\n",
       "total                                 False\n",
       "Category                              False\n",
       "dtype: bool"
      ]
     },
     "execution_count": 11,
     "metadata": {},
     "output_type": "execute_result"
    }
   ],
   "source": [
    "data.isnull().any()"
   ]
  },
  {
   "cell_type": "code",
   "execution_count": 12,
   "metadata": {},
   "outputs": [
    {
     "data": {
      "text/plain": [
       "<matplotlib.axes._subplots.AxesSubplot at 0x1a2f5c8290>"
      ]
     },
     "execution_count": 12,
     "metadata": {},
     "output_type": "execute_result"
    },
    {
     "data": {
      "image/png": "[encoded data removed]",
      "text/plain": [
       "<Figure size 432x288 with 1 Axes>"
      ]
     },
     "metadata": {},
     "output_type": "display_data"
    }
   ],
   "source": [
    "data['Category'].value_counts().plot(kind='bar')"
   ]
  },
  {
   "cell_type": "code",
   "execution_count": 13,
   "metadata": {},
   "outputs": [
    {
     "data": {
      "text/plain": [
       "pandas.core.series.Series"
      ]
     },
     "execution_count": 13,
     "metadata": {},
     "output_type": "execute_result"
    }
   ],
   "source": [
    "type(data['Category'])"
   ]
  },
  {
   "cell_type": "code",
   "execution_count": 14,
   "metadata": {},
   "outputs": [],
   "source": [
    "Y=data['Category']"
   ]
  },
  {
   "cell_type": "code",
   "execution_count": 15,
   "metadata": {},
   "outputs": [],
   "source": [
    "dictx={}"
   ]
  },
  {
   "cell_type": "code",
   "execution_count": 16,
   "metadata": {},
   "outputs": [],
   "source": [
    "def addfeature(y):\n",
    "    exec(\"dictx['col{0}']=y\".format(addfeature.count))\n",
    "    addfeature.count+=1\n",
    "addfeature.count=0"
   ]
  },
  {
   "cell_type": "code",
   "execution_count": 17,
   "metadata": {},
   "outputs": [],
   "source": [
    "def onehot(y):\n",
    "    encoder=OneHotEncoder(sparse=False)\n",
    "    result=encoder.fit_transform(np.asarray(y).reshape(-1,1))\n",
    "    result=np.ndarray.tolist(result)\n",
    "    return result"
   ]
  },
  {
   "cell_type": "code",
   "execution_count": 18,
   "metadata": {},
   "outputs": [],
   "source": [
    "def minmaxnorm(y):\n",
    "    norm=MinMaxScaler()\n",
    "    result=norm.fit_transform(np.asarray(y).reshape(-1,1).astype('float64'))\n",
    "    result=np.ndarray.tolist(result)\n",
    "    return result"
   ]
  },
  {
   "cell_type": "code",
   "execution_count": 19,
   "metadata": {},
   "outputs": [],
   "source": [
    "name_displayname_match=[]\n",
    "for i in range(len(data)):\n",
    "    if data['name'].iloc[i]==data['display_name'].iloc[i]:\n",
    "        name_displayname_match.append(1)\n",
    "    else:\n",
    "        name_displayname_match.append(0)"
   ]
  },
  {
   "cell_type": "code",
   "execution_count": 20,
   "metadata": {},
   "outputs": [
    {
     "name": "stderr",
     "output_type": "stream",
     "text": [
      "/anaconda2/lib/python2.7/site-packages/sklearn/preprocessing/_encoders.py:368: FutureWarning: The handling of integer data will change in version 0.22. Currently, the categories are determined based on the range [0, max(values)], while in the future they will be determined based on the unique values.\n",
      "If you want the future behaviour and silence this warning, you can specify \"categories='auto'\".\n",
      "In case you used a LabelEncoder before this OneHotEncoder to convert the categories to integers, then you can now use the OneHotEncoder directly.\n",
      "  warnings.warn(msg, FutureWarning)\n"
     ]
    }
   ],
   "source": [
    "addfeature(onehot(name_displayname_match))"
   ]
  },
  {
   "cell_type": "code",
   "execution_count": 21,
   "metadata": {},
   "outputs": [],
   "source": [
    "addfeature(minmaxnorm(data['production_year']))"
   ]
  },
  {
   "cell_type": "code",
   "execution_count": 22,
   "metadata": {},
   "outputs": [],
   "source": [
    "addfeature(onehot(data['movie_sequel']))"
   ]
  },
  {
   "cell_type": "code",
   "execution_count": 23,
   "metadata": {},
   "outputs": [],
   "source": [
    "addfeature(onehot(data['creative_type']))"
   ]
  },
  {
   "cell_type": "code",
   "execution_count": 24,
   "metadata": {},
   "outputs": [],
   "source": [
    "addfeature(onehot(data['source']))"
   ]
  },
  {
   "cell_type": "code",
   "execution_count": 25,
   "metadata": {},
   "outputs": [],
   "source": [
    "addfeature(onehot(data['production_method']))"
   ]
  },
  {
   "cell_type": "code",
   "execution_count": 26,
   "metadata": {},
   "outputs": [],
   "source": [
    "addfeature(onehot(data['genre']))"
   ]
  },
  {
   "cell_type": "code",
   "execution_count": 27,
   "metadata": {},
   "outputs": [],
   "source": [
    "addfeature(onehot(data['language']))"
   ]
  },
  {
   "cell_type": "code",
   "execution_count": 28,
   "metadata": {},
   "outputs": [],
   "source": [
    "addfeature(onehot(data['movie_board_rating_display_name']))"
   ]
  },
  {
   "cell_type": "code",
   "execution_count": 29,
   "metadata": {},
   "outputs": [],
   "source": [
    "addfeature(onehot(data['movie_release_pattern_display_name']))"
   ]
  },
  {
   "cell_type": "code",
   "execution_count": 30,
   "metadata": {},
   "outputs": [],
   "source": [
    "sp=lambda x : [y.encode('utf-8') for y in x.split(' ')]"
   ]
  },
  {
   "cell_type": "code",
   "execution_count": 31,
   "metadata": {
    "scrolled": true
   },
   "outputs": [],
   "source": [
    "cleanedtext=[]\n",
    "for i in range(len(data)):\n",
    "    temp=data['board_rating_reason'].iloc[i]\n",
    "    if not temp.isalnum():\n",
    "        sptemp=sp(temp)\n",
    "        temp=' '.join(a for a in sptemp if a.isalnum())\n",
    "    cleanedtext.append(temp.encode('utf-8'))\n",
    "sequence_text=pd.Series(cleanedtext).str.get_dummies(' ')"
   ]
  },
  {
   "cell_type": "code",
   "execution_count": 32,
   "metadata": {
    "scrolled": true
   },
   "outputs": [
    {
     "data": {
      "text/plain": [
       "(1196, 188)"
      ]
     },
     "execution_count": 32,
     "metadata": {},
     "output_type": "execute_result"
    }
   ],
   "source": [
    "sequence_text.shape"
   ]
  },
  {
   "cell_type": "markdown",
   "metadata": {},
   "source": [
    "tokkk=Tokenizer()\n",
    "tokkk.fit_on_texts(data['board_rating_reason'])\n",
    "word_dict=tokkk.word_index\n",
    "words=[a.encode('utf-8') for a in word_dict.keys()]\n",
    "words"
   ]
  },
  {
   "cell_type": "markdown",
   "metadata": {},
   "source": [
    "filters=SelectPercentile(f_classif,percentile=25)\n",
    "inter=filters.fit_transform(inter,Y)"
   ]
  },
  {
   "cell_type": "code",
   "execution_count": 33,
   "metadata": {},
   "outputs": [],
   "source": [
    "Y_onehot=onehot(Y)"
   ]
  },
  {
   "cell_type": "code",
   "execution_count": 34,
   "metadata": {},
   "outputs": [],
   "source": [
    "X=[]\n",
    "for i in range(len(data)):\n",
    "    X.append([])"
   ]
  },
  {
   "cell_type": "code",
   "execution_count": 35,
   "metadata": {},
   "outputs": [],
   "source": [
    "for k in range(len(dictx)):\n",
    "    for i in range(len(data)):\n",
    "        if type(dictx['col{0}'.format(k)][0])==list:                \n",
    "            for j in range(len(dictx['col{0}'.format(k)][0])):\n",
    "                X[i].append(abs(dictx['col{0}'.format(k)][i][j]))\n",
    "        else:\n",
    "            X[i].append(abs(dictx['col{0}'.format(k)][i]))"
   ]
  },
  {
   "cell_type": "code",
   "execution_count": 36,
   "metadata": {},
   "outputs": [],
   "source": [
    "IndependentVariables=np.concatenate((np.asarray(X),np.asarray(sequence_text)),axis=1)"
   ]
  },
  {
   "cell_type": "code",
   "execution_count": 37,
   "metadata": {},
   "outputs": [],
   "source": [
    "sampling=SMOTE(k_neighbors=5)"
   ]
  },
  {
   "cell_type": "code",
   "execution_count": 38,
   "metadata": {},
   "outputs": [],
   "source": [
    "Independent_Resampled,Dependent_Resampled=sampling.fit_sample(IndependentVariables,Y)"
   ]
  },
  {
   "cell_type": "code",
   "execution_count": 40,
   "metadata": {},
   "outputs": [
    {
     "data": {
      "text/plain": [
       "<matplotlib.axes._subplots.AxesSubplot at 0x1a378646d0>"
      ]
     },
     "execution_count": 40,
     "metadata": {},
     "output_type": "execute_result"
    },
    {
     "data": {
      "image/png": "[encoded data removed]",
      "text/plain": [
       "<Figure size 432x288 with 1 Axes>"
      ]
     },
     "metadata": {},
     "output_type": "display_data"
    }
   ],
   "source": [
    "pd.DataFrame(data=Dependent_Resampled)[0].value_counts().plot(kind='bar')"
   ]
  },
  {
   "cell_type": "code",
   "execution_count": 133,
   "metadata": {},
   "outputs": [],
   "source": [
    "X_train,X_test,Y_train,Y_test=train_test_split(Independent_Resampled,Dependent_Resampled,test_size=0.2)"
   ]
  },
  {
   "cell_type": "markdown",
   "metadata": {},
   "source": [
    "<font size=\"5\">LightGBM</font>"
   ]
  },
  {
   "cell_type": "code",
   "execution_count": 175,
   "metadata": {},
   "outputs": [],
   "source": [
    "parameters = {\n",
    "    'objective': 'multiclass',\n",
    "    'metric': 'multi_logloss',\n",
    "    'num_leaves': 31,\n",
    "    'learning_rate': 0.05,\n",
    "    'num_class': 9\n",
    "}"
   ]
  },
  {
   "cell_type": "code",
   "execution_count": 345,
   "metadata": {},
   "outputs": [],
   "source": [
    "train_lgb=lgb.Dataset(X_train,Y_train-1)"
   ]
  },
  {
   "cell_type": "code",
   "execution_count": 372,
   "metadata": {
    "scrolled": true
   },
   "outputs": [],
   "source": [
    "modellgb=lgb.train(params=parameters,train_set=train_lgb)"
   ]
  },
  {
   "cell_type": "markdown",
   "metadata": {},
   "source": [
    "Test scores"
   ]
  },
  {
   "cell_type": "code",
   "execution_count": 388,
   "metadata": {},
   "outputs": [],
   "source": [
    "predicted_lgb_test=modellgb.predict(data=X_test)"
   ]
  },
  {
   "cell_type": "code",
   "execution_count": 390,
   "metadata": {},
   "outputs": [],
   "source": [
    "pred_lgb_test=[np.argmax(i)+1 for i in predicted_lgb_test]"
   ]
  },
  {
   "cell_type": "code",
   "execution_count": 391,
   "metadata": {},
   "outputs": [
    {
     "data": {
      "text/plain": [
       "0.6"
      ]
     },
     "execution_count": 391,
     "metadata": {},
     "output_type": "execute_result"
    }
   ],
   "source": [
    "float(sum(pred_lgb_test==Y_test))/len(pred_lgb_test)#accuracy"
   ]
  },
  {
   "cell_type": "code",
   "execution_count": 392,
   "metadata": {},
   "outputs": [
    {
     "data": {
      "text/plain": [
       "0.5981465045845659"
      ]
     },
     "execution_count": 392,
     "metadata": {},
     "output_type": "execute_result"
    }
   ],
   "source": [
    "precision_score(y_pred=pred_lgb_test,y_true=Y_test,average='weighted')#precision"
   ]
  },
  {
   "cell_type": "code",
   "execution_count": 393,
   "metadata": {},
   "outputs": [
    {
     "data": {
      "text/plain": [
       "0.6"
      ]
     },
     "execution_count": 393,
     "metadata": {},
     "output_type": "execute_result"
    }
   ],
   "source": [
    "recall_score(y_pred=pred_lgb_test,y_true=Y_test,average='weighted')"
   ]
  },
  {
   "cell_type": "code",
   "execution_count": 394,
   "metadata": {},
   "outputs": [
    {
     "data": {
      "text/plain": [
       "0.5977687968751448"
      ]
     },
     "execution_count": 394,
     "metadata": {},
     "output_type": "execute_result"
    }
   ],
   "source": [
    "f1_score(y_pred=pred_lgb_test,y_true=Y_test,average='weighted')"
   ]
  },
  {
   "cell_type": "markdown",
   "metadata": {},
   "source": [
    "Unsampled data scores"
   ]
  },
  {
   "cell_type": "code",
   "execution_count": 395,
   "metadata": {},
   "outputs": [],
   "source": [
    "predicted_lgb_original=model.predict(data=IndependentVariables)"
   ]
  },
  {
   "cell_type": "code",
   "execution_count": 396,
   "metadata": {
    "scrolled": true
   },
   "outputs": [],
   "source": [
    "pred_lgb_original=[np.argmax(i)+1 for i in predicted_original]"
   ]
  },
  {
   "cell_type": "code",
   "execution_count": 397,
   "metadata": {},
   "outputs": [
    {
     "data": {
      "text/plain": [
       "0.7642140468227425"
      ]
     },
     "execution_count": 397,
     "metadata": {},
     "output_type": "execute_result"
    }
   ],
   "source": [
    "float(sum(pred_lgb_original==(Y)))/len(pred_lgb_original)#accuracy"
   ]
  },
  {
   "cell_type": "code",
   "execution_count": 398,
   "metadata": {
    "scrolled": true
   },
   "outputs": [
    {
     "data": {
      "text/plain": [
       "0.7684513498804001"
      ]
     },
     "execution_count": 398,
     "metadata": {},
     "output_type": "execute_result"
    }
   ],
   "source": [
    "precision_score(y_pred=pred_lgb_original,y_true=Y,average='weighted')#precision"
   ]
  },
  {
   "cell_type": "code",
   "execution_count": 399,
   "metadata": {
    "scrolled": true
   },
   "outputs": [
    {
     "data": {
      "text/plain": [
       "0.7642140468227425"
      ]
     },
     "execution_count": 399,
     "metadata": {},
     "output_type": "execute_result"
    }
   ],
   "source": [
    "recall_score(y_pred=pred_lgb_original,y_true=Y,average='weighted')#recall"
   ]
  },
  {
   "cell_type": "code",
   "execution_count": 400,
   "metadata": {},
   "outputs": [
    {
     "data": {
      "text/plain": [
       "0.7644396913234874"
      ]
     },
     "execution_count": 400,
     "metadata": {},
     "output_type": "execute_result"
    }
   ],
   "source": [
    "f1_score(y_pred=pred_lgb_original,y_true=Y,average='weighted')#f1-score"
   ]
  },
  {
   "cell_type": "markdown",
   "metadata": {},
   "source": [
    "<font size=\"5\">Random forest</font>"
   ]
  },
  {
   "cell_type": "code",
   "execution_count": 501,
   "metadata": {},
   "outputs": [],
   "source": [
    "def Rf_optimizer(bootstrap,min_samples_leaf,n_estimators):\n",
    "    m=RandomForestClassifier(bootstrap=bootstrap,min_samples_leaf=int(round(min_samples_leaf)),n_estimators=int(round(n_estimators)))\n",
    "    m.fit(X=X_train,y=Y_train)\n",
    "    pre=m.predict(X=X_test)\n",
    "    score=float(sum(pre==Y_test))/len(pre)\n",
    "    return score"
   ]
  },
  {
   "cell_type": "code",
   "execution_count": 502,
   "metadata": {},
   "outputs": [],
   "source": [
    "bounds={'bootstrap':(True,False),'min_samples_leaf':(1,10),'n_estimators':(10,30)}"
   ]
  },
  {
   "cell_type": "code",
   "execution_count": 503,
   "metadata": {},
   "outputs": [],
   "source": [
    "optimizer=BayesianOptimization(f=Rf_optimizer,pbounds=bounds,random_state=1)"
   ]
  },
  {
   "cell_type": "code",
   "execution_count": 504,
   "metadata": {
    "scrolled": true
   },
   "outputs": [
    {
     "name": "stdout",
     "output_type": "stream",
     "text": [
      "|   iter    |  target   | bootstrap | min_sa... | n_esti... |\n",
      "-------------------------------------------------------------\n",
      "|  1        |  0.5146   |  0.583    |  7.483    |  10.0     |\n",
      "|  2        |  0.5663   |  0.6977   |  2.321    |  11.85    |\n",
      "|  3        |  0.5865   |  0.8137   |  4.11     |  17.94    |\n",
      "|  4        |  0.5843   |  0.4612   |  4.773    |  23.7     |\n",
      "|  5        |  0.5146   |  0.7955   |  8.903    |  10.55    |\n",
      "|  6        |  0.6697   |  1.0      |  1.038    |  29.9     |\n",
      "|  7        |  0.6562   |  1.0      |  1.004    |  29.87    |\n",
      "|  8        |  0.5438   |  1.0      |  9.962    |  29.92    |\n",
      "|  9        |  0.5371   |  1.0      |  9.991    |  19.62    |\n",
      "|  10       |  0.5685   |  1.0      |  5.607    |  29.99    |\n",
      "|  11       |  0.5416   |  1.0      |  9.981    |  24.91    |\n",
      "|  12       |  0.6584   |  1.0      |  1.001    |  19.45    |\n",
      "|  13       |  0.5371   |  1.0      |  9.953    |  14.92    |\n",
      "|  14       |  0.6607   |  1.0      |  1.006    |  10.01    |\n",
      "|  15       |  0.6315   |  1.0      |  1.057    |  15.81    |\n",
      "|  16       |  0.618    |  1.0      |  2.674    |  30.0     |\n",
      "|  17       |  0.5596   |  1.0      |  7.26     |  21.27    |\n",
      "|  18       |  0.5978   |  1.0      |  3.719    |  20.69    |\n",
      "|  19       |  0.6697   |  1.0      |  1.212    |  17.72    |\n",
      "|  20       |  0.6427   |  1.0      |  1.132    |  29.93    |\n",
      "|  21       |  0.6742   |  1.0      |  1.039    |  23.2     |\n",
      "|  22       |  0.5551   |  1.0      |  5.701    |  14.38    |\n",
      "|  23       |  0.5596   |  1.0      |  6.794    |  26.67    |\n",
      "|  24       |  0.564    |  1.0      |  7.414    |  17.46    |\n",
      "|  25       |  0.5798   |  1.0      |  4.461    |  10.09    |\n",
      "|  26       |  0.6382   |  1.0      |  2.509    |  25.79    |\n",
      "|  27       |  0.5348   |  1.0      |  9.923    |  22.3     |\n",
      "|  28       |  0.5281   |  1.0      |  9.878    |  27.42    |\n",
      "|  29       |  0.5393   |  1.0      |  7.891    |  13.22    |\n",
      "|  30       |  0.6      |  1.0      |  3.291    |  14.99    |\n",
      "|  31       |  0.6225   |  1.0      |  4.424    |  27.32    |\n",
      "|  32       |  0.5573   |  1.0      |  7.625    |  24.07    |\n",
      "|  33       |  0.5056   |  1.0      |  9.996    |  17.38    |\n",
      "|  34       |  0.6382   |  1.0      |  1.02     |  13.59    |\n",
      "|  35       |  0.5124   |  1.0      |  9.934    |  12.63    |\n",
      "|  36       |  0.5551   |  1.0      |  5.438    |  12.33    |\n",
      "|  37       |  0.5955   |  1.0      |  3.879    |  29.98    |\n",
      "|  38       |  0.5461   |  1.0      |  7.901    |  29.97    |\n",
      "|  39       |  0.5618   |  1.0      |  6.103    |  19.28    |\n",
      "|  40       |  0.6629   |  1.0      |  1.219    |  21.54    |\n",
      "|  41       |  0.6292   |  1.0      |  2.487    |  23.7     |\n",
      "|  42       |  0.5798   |  1.0      |  4.559    |  25.82    |\n",
      "|  43       |  0.6427   |  1.0      |  1.093    |  24.82    |\n",
      "|  44       |  0.5124   |  1.0      |  8.057    |  15.59    |\n",
      "|  45       |  0.5933   |  1.0      |  6.163    |  28.49    |\n",
      "|  46       |  0.6382   |  1.0      |  2.255    |  19.54    |\n",
      "|  47       |  0.5416   |  1.0      |  8.19     |  19.67    |\n",
      "|  48       |  0.618    |  1.0      |  2.426    |  24.81    |\n",
      "|  49       |  0.6112   |  1.0      |  2.532    |  21.63    |\n",
      "|  50       |  0.6629   |  1.0      |  1.203    |  29.97    |\n",
      "|  51       |  0.5798   |  1.0      |  5.575    |  16.33    |\n",
      "|  52       |  0.6427   |  1.0      |  1.175    |  30.0     |\n",
      "|  53       |  0.609    |  1.0      |  1.994    |  29.68    |\n",
      "|  54       |  0.6067   |  1.0      |  2.51     |  16.78    |\n",
      "|  55       |  0.6427   |  1.0      |  1.009    |  26.58    |\n",
      "|  56       |  0.6      |  1.0      |  2.618    |  27.45    |\n",
      "|  57       |  0.5978   |  1.0      |  5.238    |  21.67    |\n",
      "|  58       |  0.5798   |  1.0      |  2.7      |  10.07    |\n",
      "|  59       |  0.5528   |  1.0      |  3.521    |  13.36    |\n",
      "|  60       |  0.5416   |  1.0      |  8.167    |  28.1     |\n",
      "|  61       |  0.5461   |  1.0      |  8.386    |  25.93    |\n",
      "|  62       |  0.6067   |  1.0      |  1.925    |  14.51    |\n",
      "|  63       |  0.5663   |  1.0      |  6.241    |  24.94    |\n",
      "|  64       |  0.6449   |  1.0      |  2.447    |  18.17    |\n",
      "|  65       |  0.5596   |  1.0      |  6.549    |  22.91    |\n",
      "|  66       |  0.591    |  1.0      |  3.704    |  22.41    |\n",
      "|  67       |  0.5685   |  1.0      |  4.078    |  28.56    |\n",
      "|  68       |  0.5685   |  1.0      |  4.635    |  19.62    |\n",
      "|  69       |  0.5798   |  1.0      |  4.111    |  16.12    |\n",
      "|  70       |  0.5438   |  1.0      |  8.333    |  22.63    |\n",
      "|  71       |  0.5258   |  1.0      |  6.961    |  11.74    |\n",
      "|  72       |  0.564    |  1.0      |  4.041    |  11.65    |\n",
      "|  73       |  0.5618   |  1.0      |  5.887    |  17.84    |\n",
      "|  74       |  0.6202   |  1.0      |  1.018    |  11.37    |\n",
      "|  75       |  0.564    |  1.0      |  8.942    |  21.01    |\n",
      "|  76       |  0.5191   |  1.0      |  5.74     |  10.03    |\n",
      "|  77       |  0.5236   |  1.0      |  8.769    |  17.97    |\n",
      "|  78       |  0.627    |  1.0      |  1.673    |  20.47    |\n",
      "|  79       |  0.5146   |  1.0      |  6.95     |  14.48    |\n",
      "|  80       |  0.6045   |  1.0      |  3.656    |  24.97    |\n",
      "|  81       |  0.5416   |  1.0      |  9.334    |  23.75    |\n",
      "|  82       |  0.5685   |  1.0      |  5.995    |  20.53    |\n",
      "|  83       |  0.582    |  1.0      |  5.57     |  27.12    |\n",
      "|  84       |  0.5281   |  1.0      |  9.066    |  14.02    |\n",
      "|  85       |  0.5955   |  1.0      |  4.383    |  14.43    |\n",
      "|  86       |  0.5506   |  1.0      |  9.93     |  28.71    |\n",
      "|  87       |  0.5461   |  1.0      |  9.205    |  16.21    |\n",
      "|  88       |  0.6112   |  1.0      |  3.392    |  19.28    |\n",
      "|  89       |  0.5146   |  1.0      |  9.96     |  10.03    |\n",
      "|  90       |  0.5124   |  1.0      |  8.519    |  11.94    |\n",
      "|  91       |  0.5888   |  1.0      |  3.526    |  26.54    |\n",
      "|  92       |  0.5326   |  1.0      |  9.979    |  26.12    |\n",
      "|  93       |  0.5596   |  1.0      |  6.895    |  16.04    |\n",
      "|  94       |  0.5416   |  1.0      |  6.497    |  13.11    |\n",
      "|  95       |  0.6112   |  1.0      |  1.774    |  22.51    |\n",
      "|  96       |  0.5596   |  1.0      |  7.281    |  18.79    |\n",
      "|  97       |  0.5461   |  1.0      |  6.906    |  29.49    |\n",
      "|  98       |  0.6247   |  1.0      |  2.21     |  13.38    |\n",
      "|  99       |  0.636    |  1.0      |  2.329    |  15.55    |\n",
      "|  100      |  0.6292   |  1.0      |  1.015    |  12.53    |\n",
      "|  101      |  0.5258   |  1.0      |  9.995    |  20.97    |\n",
      "|  102      |  0.636    |  1.0      |  1.258    |  16.69    |\n",
      "|  103      |  0.6674   |  1.0      |  1.007    |  29.38    |\n",
      "|  104      |  0.6494   |  1.0      |  1.064    |  29.52    |\n",
      "|  105      |  0.6674   |  1.0      |  1.149    |  28.09    |\n",
      "=============================================================\n"
     ]
    }
   ],
   "source": [
    "optimizer.maximize(n_iter=100)"
   ]
  },
  {
   "cell_type": "code",
   "execution_count": 505,
   "metadata": {},
   "outputs": [
    {
     "data": {
      "text/plain": [
       "{'params': {'bootstrap': 1.0,\n",
       "  'min_samples_leaf': 1.0392088518278828,\n",
       "  'n_estimators': 23.195366958077926},\n",
       " 'target': 0.6741573033707865}"
      ]
     },
     "execution_count": 505,
     "metadata": {},
     "output_type": "execute_result"
    }
   ],
   "source": [
    "optimizer.max"
   ]
  },
  {
   "cell_type": "code",
   "execution_count": 506,
   "metadata": {},
   "outputs": [],
   "source": [
    "Rf=RandomForestClassifier(bootstrap=True,n_estimators=23)"
   ]
  },
  {
   "cell_type": "code",
   "execution_count": 507,
   "metadata": {},
   "outputs": [
    {
     "data": {
      "text/plain": [
       "RandomForestClassifier(bootstrap=True, class_weight=None, criterion='gini',\n",
       "            max_depth=None, max_features='auto', max_leaf_nodes=None,\n",
       "            min_impurity_decrease=0.0, min_impurity_split=None,\n",
       "            min_samples_leaf=1, min_samples_split=2,\n",
       "            min_weight_fraction_leaf=0.0, n_estimators=23, n_jobs=None,\n",
       "            oob_score=False, random_state=None, verbose=0,\n",
       "            warm_start=False)"
      ]
     },
     "execution_count": 507,
     "metadata": {},
     "output_type": "execute_result"
    }
   ],
   "source": [
    "Rf"
   ]
  },
  {
   "cell_type": "code",
   "execution_count": 508,
   "metadata": {},
   "outputs": [],
   "source": [
    "modelRF=Rf.fit(X=X_train,y=Y_train)"
   ]
  },
  {
   "cell_type": "markdown",
   "metadata": {},
   "source": [
    "Test Score"
   ]
  },
  {
   "cell_type": "code",
   "execution_count": 509,
   "metadata": {},
   "outputs": [],
   "source": [
    "predicted_RF_test=modelRF.predict(X=X_test)"
   ]
  },
  {
   "cell_type": "code",
   "execution_count": 510,
   "metadata": {},
   "outputs": [
    {
     "data": {
      "text/plain": [
       "0.6609614512471655"
      ]
     },
     "execution_count": 510,
     "metadata": {},
     "output_type": "execute_result"
    }
   ],
   "source": [
    "modelRF_crossfold=RandomForestClassifier(bootstrap=True,n_estimators=23)\n",
    "crossfold_RF=cross_val_score(modelRF_crossfold,Independent_Resampled,Dependent_Resampled,cv=5)\n",
    "crossfold_RF.mean()"
   ]
  },
  {
   "cell_type": "code",
   "execution_count": 511,
   "metadata": {},
   "outputs": [
    {
     "data": {
      "text/plain": [
       "0.6686074800044468"
      ]
     },
     "execution_count": 511,
     "metadata": {},
     "output_type": "execute_result"
    }
   ],
   "source": [
    "precision_score(y_pred=predicted_RF_test,y_true=Y_test,average='weighted')#precision"
   ]
  },
  {
   "cell_type": "code",
   "execution_count": 512,
   "metadata": {},
   "outputs": [
    {
     "data": {
      "text/plain": [
       "0.6629213483146067"
      ]
     },
     "execution_count": 512,
     "metadata": {},
     "output_type": "execute_result"
    }
   ],
   "source": [
    "recall_score(y_pred=predicted_RF_test,y_true=Y_test,average='weighted')"
   ]
  },
  {
   "cell_type": "code",
   "execution_count": 513,
   "metadata": {},
   "outputs": [
    {
     "data": {
      "text/plain": [
       "0.6630053432726816"
      ]
     },
     "execution_count": 513,
     "metadata": {},
     "output_type": "execute_result"
    }
   ],
   "source": [
    "f1_score(y_pred=predicted_RF_test,y_true=Y_test,average='weighted')"
   ]
  },
  {
   "cell_type": "markdown",
   "metadata": {},
   "source": [
    "Unsampled data score"
   ]
  },
  {
   "cell_type": "code",
   "execution_count": 339,
   "metadata": {},
   "outputs": [],
   "source": [
    "predicted_RF_original=modelRF.predict(X=IndependentVariables)"
   ]
  },
  {
   "cell_type": "code",
   "execution_count": 340,
   "metadata": {},
   "outputs": [
    {
     "data": {
      "text/plain": [
       "0.8729096989966555"
      ]
     },
     "execution_count": 340,
     "metadata": {},
     "output_type": "execute_result"
    }
   ],
   "source": [
    "float(sum(predicted_RF_original==Y))/len(predicted_RF_original)"
   ]
  },
  {
   "cell_type": "code",
   "execution_count": 341,
   "metadata": {},
   "outputs": [
    {
     "data": {
      "text/plain": [
       "0.8756124480226509"
      ]
     },
     "execution_count": 341,
     "metadata": {},
     "output_type": "execute_result"
    }
   ],
   "source": [
    "precision_score(y_pred=predicted_RF_original,y_true=Y,average='weighted')#precision"
   ]
  },
  {
   "cell_type": "code",
   "execution_count": 342,
   "metadata": {},
   "outputs": [
    {
     "data": {
      "text/plain": [
       "0.8729096989966555"
      ]
     },
     "execution_count": 342,
     "metadata": {},
     "output_type": "execute_result"
    }
   ],
   "source": [
    "recall_score(y_pred=predicted_RF_original,y_true=Y,average='weighted')#recall"
   ]
  },
  {
   "cell_type": "code",
   "execution_count": 343,
   "metadata": {},
   "outputs": [
    {
     "data": {
      "text/plain": [
       "0.8731015080669592"
      ]
     },
     "execution_count": 343,
     "metadata": {},
     "output_type": "execute_result"
    }
   ],
   "source": [
    "f1_score(y_pred=predicted_RF_original,y_true=Y,average='weighted')"
   ]
  },
  {
   "cell_type": "markdown",
   "metadata": {},
   "source": [
    "<font size=\"5\">KNN</font>"
   ]
  },
  {
   "cell_type": "code",
   "execution_count": 524,
   "metadata": {},
   "outputs": [],
   "source": [
    "def KNN_optimizer(n_neighbors,leaf_size):\n",
    "    m=KNeighborsClassifier(n_neighbors=int(round(n_neighbors)),leaf_size=int(round(leaf_size)))\n",
    "    m.fit(X=X_train,y=Y_train)\n",
    "    pre=m.predict(X=X_test)\n",
    "    score=float(sum(pre==Y_test))/len(pre)\n",
    "    return score"
   ]
  },
  {
   "cell_type": "code",
   "execution_count": 543,
   "metadata": {},
   "outputs": [],
   "source": [
    "bounds={'n_neighbors':(1,40),'leaf_size':(20,100)}"
   ]
  },
  {
   "cell_type": "code",
   "execution_count": 544,
   "metadata": {},
   "outputs": [],
   "source": [
    "optimizer_KNN=BayesianOptimization(f=KNN_optimizer,pbounds=bounds,random_state=1)"
   ]
  },
  {
   "cell_type": "code",
   "execution_count": 545,
   "metadata": {},
   "outputs": [
    {
     "name": "stdout",
     "output_type": "stream",
     "text": [
      "|   iter    |  target   | leaf_size | n_neig... |\n",
      "-------------------------------------------------\n",
      "|  1        |  0.4854   |  53.36    |  29.09    |\n",
      "|  2        |  0.5393   |  20.01    |  12.79    |\n",
      "|  3        |  0.6022   |  31.74    |  4.601    |\n",
      "|  4        |  0.5258   |  34.9     |  14.48    |\n",
      "|  5        |  0.5034   |  51.74    |  22.01    |\n",
      "|  6        |  0.7011   |  100.0    |  1.0      |\n",
      "|  7        |  0.4742   |  100.0    |  40.0     |\n",
      "|  8        |  0.7011   |  82.16    |  1.0      |\n",
      "|  9        |  0.7011   |  91.35    |  1.012    |\n",
      "|  10       |  0.7011   |  70.56    |  1.0      |\n",
      "|  11       |  0.7011   |  75.23    |  1.005    |\n",
      "|  12       |  0.7011   |  64.96    |  1.0      |\n",
      "|  13       |  0.7011   |  95.58    |  1.0      |\n",
      "|  14       |  0.7011   |  70.14    |  1.0      |\n",
      "|  15       |  0.7011   |  87.13    |  1.009    |\n",
      "=================================================\n"
     ]
    }
   ],
   "source": [
    "optimizer_KNN.maximize(n_iter=10)"
   ]
  },
  {
   "cell_type": "code",
   "execution_count": 539,
   "metadata": {},
   "outputs": [
    {
     "data": {
      "text/plain": [
       "{'params': {'leaf_size': 200.0, 'n_neighbors': 1.0},\n",
       " 'target': 0.701123595505618}"
      ]
     },
     "execution_count": 539,
     "metadata": {},
     "output_type": "execute_result"
    }
   ],
   "source": [
    "optimizer_KNN.max"
   ]
  },
  {
   "cell_type": "code",
   "execution_count": 301,
   "metadata": {},
   "outputs": [],
   "source": [
    "modelknn=KNeighborsClassifier(n_neighbors=1)"
   ]
  },
  {
   "cell_type": "code",
   "execution_count": 307,
   "metadata": {},
   "outputs": [
    {
     "data": {
      "text/plain": [
       "KNeighborsClassifier(algorithm='auto', leaf_size=30, metric='minkowski',\n",
       "           metric_params=None, n_jobs=None, n_neighbors=1, p=2,\n",
       "           weights='uniform')"
      ]
     },
     "execution_count": 307,
     "metadata": {},
     "output_type": "execute_result"
    }
   ],
   "source": [
    "modelknn.fit(X=X_train,y=Y_train)"
   ]
  },
  {
   "cell_type": "markdown",
   "metadata": {},
   "source": [
    "test scores"
   ]
  },
  {
   "cell_type": "code",
   "execution_count": 411,
   "metadata": {},
   "outputs": [],
   "source": [
    "predicted_knn_test=modelknn.predict(X=X_test)"
   ]
  },
  {
   "cell_type": "code",
   "execution_count": 422,
   "metadata": {},
   "outputs": [
    {
     "data": {
      "text/plain": [
       "0.708453514739229"
      ]
     },
     "execution_count": 422,
     "metadata": {},
     "output_type": "execute_result"
    }
   ],
   "source": [
    "modelknn_crossfold=KNeighborsClassifier(n_neighbors=1)\n",
    "crossfold_knn=cross_val_score(modelknn_crossfold,Independent_Resampled,Dependent_Resampled,cv=5)\n",
    "crossfold_knn.mean()"
   ]
  },
  {
   "cell_type": "code",
   "execution_count": 414,
   "metadata": {},
   "outputs": [
    {
     "data": {
      "text/plain": [
       "0.6673356569380314"
      ]
     },
     "execution_count": 414,
     "metadata": {},
     "output_type": "execute_result"
    }
   ],
   "source": [
    "precision_score(y_pred=predicted_knn_test,y_true=Y_test,average='weighted')#precision"
   ]
  },
  {
   "cell_type": "code",
   "execution_count": 415,
   "metadata": {},
   "outputs": [
    {
     "data": {
      "text/plain": [
       "0.698876404494382"
      ]
     },
     "execution_count": 415,
     "metadata": {},
     "output_type": "execute_result"
    }
   ],
   "source": [
    "recall_score(y_pred=predicted_knn_test,y_true=Y_test,average='weighted')"
   ]
  },
  {
   "cell_type": "code",
   "execution_count": 416,
   "metadata": {},
   "outputs": [
    {
     "data": {
      "text/plain": [
       "0.6760209333884852"
      ]
     },
     "execution_count": 416,
     "metadata": {},
     "output_type": "execute_result"
    }
   ],
   "source": [
    "f1_score(y_pred=predicted_knn_test,y_true=Y_test,average='weighted')"
   ]
  },
  {
   "cell_type": "markdown",
   "metadata": {},
   "source": [
    "Unsampled data score"
   ]
  },
  {
   "cell_type": "code",
   "execution_count": 406,
   "metadata": {},
   "outputs": [],
   "source": [
    "predicted_knn_original=modelknn.predict(X=IndependentVariables)"
   ]
  },
  {
   "cell_type": "code",
   "execution_count": 413,
   "metadata": {},
   "outputs": [
    {
     "data": {
      "text/plain": [
       "0.8862876254180602"
      ]
     },
     "execution_count": 413,
     "metadata": {},
     "output_type": "execute_result"
    }
   ],
   "source": [
    "float(sum(predicted_knn_original==Y))/len(predicted_knn_original)"
   ]
  },
  {
   "cell_type": "code",
   "execution_count": 408,
   "metadata": {},
   "outputs": [
    {
     "data": {
      "text/plain": [
       "0.8878440017136201"
      ]
     },
     "execution_count": 408,
     "metadata": {},
     "output_type": "execute_result"
    }
   ],
   "source": [
    "precision_score(y_pred=predicted_knn_original,y_true=Y,average='weighted')#precision"
   ]
  },
  {
   "cell_type": "code",
   "execution_count": 409,
   "metadata": {},
   "outputs": [
    {
     "data": {
      "text/plain": [
       "0.8862876254180602"
      ]
     },
     "execution_count": 409,
     "metadata": {},
     "output_type": "execute_result"
    }
   ],
   "source": [
    "recall_score(y_pred=predicted_knn_original,y_true=Y,average='weighted')"
   ]
  },
  {
   "cell_type": "code",
   "execution_count": 410,
   "metadata": {},
   "outputs": [
    {
     "data": {
      "text/plain": [
       "0.8857252497201767"
      ]
     },
     "execution_count": 410,
     "metadata": {},
     "output_type": "execute_result"
    }
   ],
   "source": [
    "f1_score(y_pred=predicted_knn_original,y_true=Y,average='weighted')"
   ]
  },
  {
   "cell_type": "code",
   "execution_count": null,
   "metadata": {},
   "outputs": [],
   "source": []
  },
  {
   "cell_type": "code",
   "execution_count": 426,
   "metadata": {},
   "outputs": [],
   "source": [
    "modelNB=GaussianNB()"
   ]
  },
  {
   "cell_type": "code",
   "execution_count": 435,
   "metadata": {},
   "outputs": [
    {
     "data": {
      "text/plain": [
       "GaussianNB(priors=None, var_smoothing=1e-09)"
      ]
     },
     "execution_count": 435,
     "metadata": {},
     "output_type": "execute_result"
    }
   ],
   "source": [
    "modelNB"
   ]
  },
  {
   "cell_type": "code",
   "execution_count": 428,
   "metadata": {},
   "outputs": [
    {
     "data": {
      "text/plain": [
       "GaussianNB(priors=None, var_smoothing=1e-09)"
      ]
     },
     "execution_count": 428,
     "metadata": {},
     "output_type": "execute_result"
    }
   ],
   "source": [
    "modelNB.fit(X=X_train,y=Y_train)"
   ]
  },
  {
   "cell_type": "code",
   "execution_count": 429,
   "metadata": {},
   "outputs": [],
   "source": [
    "predicted_NB_test=modelNB.predict(X=X_test)"
   ]
  },
  {
   "cell_type": "code",
   "execution_count": 430,
   "metadata": {},
   "outputs": [
    {
     "data": {
      "text/plain": [
       "0.708453514739229"
      ]
     },
     "execution_count": 430,
     "metadata": {},
     "output_type": "execute_result"
    }
   ],
   "source": [
    "modelknn_crossfold=KNeighborsClassifier(n_neighbors=1)\n",
    "crossfold_knn=cross_val_score(modelknn_crossfold,Independent_Resampled,Dependent_Resampled,cv=5)\n",
    "crossfold_knn.mean()"
   ]
  },
  {
   "cell_type": "code",
   "execution_count": null,
   "metadata": {},
   "outputs": [],
   "source": []
  },
  {
   "cell_type": "code",
   "execution_count": 547,
   "metadata": {},
   "outputs": [],
   "source": [
    "from sklearn.linear_model import LogisticRegression"
   ]
  },
  {
   "cell_type": "code",
   "execution_count": 577,
   "metadata": {},
   "outputs": [],
   "source": [
    "log=LogisticRegression(multi_class='multinomial',solver='lbfgs',max_iter=70)"
   ]
  },
  {
   "cell_type": "code",
   "execution_count": 578,
   "metadata": {},
   "outputs": [
    {
     "data": {
      "text/plain": [
       "LogisticRegression(C=1.0, class_weight=None, dual=False, fit_intercept=True,\n",
       "          intercept_scaling=1, max_iter=70, multi_class='multinomial',\n",
       "          n_jobs=None, penalty='l2', random_state=None, solver='lbfgs',\n",
       "          tol=0.0001, verbose=0, warm_start=False)"
      ]
     },
     "execution_count": 578,
     "metadata": {},
     "output_type": "execute_result"
    }
   ],
   "source": [
    "log.fit(X=X_train,y=Y_train)"
   ]
  },
  {
   "cell_type": "code",
   "execution_count": 579,
   "metadata": {},
   "outputs": [],
   "source": [
    "pred=log.predict(X=X_test)"
   ]
  },
  {
   "cell_type": "code",
   "execution_count": 580,
   "metadata": {},
   "outputs": [
    {
     "data": {
      "text/plain": [
       "0.5640449438202247"
      ]
     },
     "execution_count": 580,
     "metadata": {},
     "output_type": "execute_result"
    }
   ],
   "source": [
    "float(sum(pred==Y_test))/len(pred)"
   ]
  },
  {
   "cell_type": "code",
   "execution_count": 581,
   "metadata": {},
   "outputs": [],
   "source": [
    "pred=log.predict(X=IndependentVariables)"
   ]
  },
  {
   "cell_type": "code",
   "execution_count": 582,
   "metadata": {},
   "outputs": [
    {
     "data": {
      "text/plain": [
       "0.49498327759197325"
      ]
     },
     "execution_count": 582,
     "metadata": {},
     "output_type": "execute_result"
    }
   ],
   "source": [
    "float(sum(pred==Y))/len(pred)"
   ]
  },
  {
   "cell_type": "code",
   "execution_count": null,
   "metadata": {},
   "outputs": [],
   "source": []
  }
 ],
 "metadata": {
  "kernelspec": {
   "display_name": "Python 2",
   "language": "python",
   "name": "python2"
  },
  "language_info": {
   "codemirror_mode": {
    "name": "ipython",
    "version": 2
   },
   "file_extension": ".py",
   "mimetype": "text/x-python",
   "name": "python",
   "nbconvert_exporter": "python",
   "pygments_lexer": "ipython2",
   "version": "2.7.15"
  }
 },
 "nbformat": 4,
 "nbformat_minor": 2
}
