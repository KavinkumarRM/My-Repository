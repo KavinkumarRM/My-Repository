{
 "cells": [
  {
   "cell_type": "code",
   "execution_count": 2,
   "metadata": {},
   "outputs": [],
   "source": [
    "import pandas as pd\n",
    "import numpy as np\n",
    "from sklearn.impute import MissingIndicator\n",
    "from sklearn.preprocessing import LabelEncoder\n",
    "from sklearn.preprocessing import OneHotEncoder\n",
    "from sklearn.model_selection import train_test_split\n",
    "from sklearn.ensemble import RandomForestClassifier,BaggingClassifier\n",
    "from sklearn.naive_bayes import GaussianNB\n",
    "from sklearn.model_selection import GridSearchCV\n",
    "from sklearn.metrics import precision_recall_curve,precision_recall_fscore_support,classification_report,precision_score,recall_score,f1_score,roc_curve,auc,cohen_kappa_score\n",
    "import re\n",
    "import string\n",
    "from itertools import combinations\n",
    "from pandas import value_counts\n",
    "from datetime import datetime\n",
    "import math\n",
    "from textblob import TextBlob as tb\n",
    "from sklearn.feature_extraction.text import TfidfVectorizer\n",
    "import lightgbm as lgb\n",
    "from imblearn.over_sampling import SMOTE"
   ]
  },
  {
   "cell_type": "code",
   "execution_count": 4,
   "metadata": {},
   "outputs": [],
   "source": [
    "import os\n",
    "os.environ['KMP_DUPLICATE_LIB_OK']='True'\n",
    "from lightgbm import LGBMRegressor,LGBMClassifier,LGBMModel\n",
    "import lightgbm as lgb"
   ]
  },
  {
   "cell_type": "code",
   "execution_count": 5,
   "metadata": {},
   "outputs": [],
   "source": [
    "nlpdata=pd.read_csv('./NLPwithbinarizer.csv')"
   ]
  },
  {
   "cell_type": "code",
   "execution_count": 6,
   "metadata": {},
   "outputs": [],
   "source": [
    "data=pd.read_csv('./level2nd3data.csv')"
   ]
  },
  {
   "cell_type": "code",
   "execution_count": 6,
   "metadata": {},
   "outputs": [],
   "source": [
    "del data['Unnamed: 0']\n",
    "del data['Unnamed: 0.1']"
   ]
  },
  {
   "cell_type": "code",
   "execution_count": 7,
   "metadata": {},
   "outputs": [],
   "source": [
    "data=data.set_index(data['report_id'])"
   ]
  },
  {
   "cell_type": "code",
   "execution_count": 11,
   "metadata": {},
   "outputs": [],
   "source": [
    "sp=lambda x : x.split('|')\n",
    "sp2=lambda x : x.split(':')\n",
    "com=lambda k,b:[a for a in k if a not in b]"
   ]
  },
  {
   "cell_type": "code",
   "execution_count": 12,
   "metadata": {},
   "outputs": [],
   "source": [
    "level2=[]\n",
    "level3=[]\n",
    "l2initializer=[]\n",
    "l3initializer=[]\n",
    "initializer=[]\n",
    "test=[' A**** P**** S**** ',' P**** L**** ',' P**** R**** ']\n",
    "for i in range(len(nlpdata)):\n",
    "    temp=data.loc[nlpdata['report_id'][i]]\n",
    "    if type(temp['HFACS'])!=float:\n",
    "        if isinstance(temp,pd.core.frame.DataFrame):\n",
    "            templevel2=[]\n",
    "            templevel3=[]\n",
    "            for j in range(len(temp)):\n",
    "                split=sp(temp['HFACS'][j])\n",
    "                if len(split)==2:\n",
    "                    if split[1] not in templevel2:\n",
    "                        templevel2.append(split[1].replace(\" \",\"\").lower())\n",
    "                    if split[1] not in l2initializer:\n",
    "                        l2initializer.append(split[1].replace(\" \",\"\").lower())\n",
    "                    if split[1] not in initializer:\n",
    "                        initializer.append(split[1].replace(\" \",\"\").lower())\n",
    "                if len(split)==3:\n",
    "                    if split[1] not in templevel2:\n",
    "                        templevel2.append(split[1].replace(\" \",\"\").lower())\n",
    "                    if split[2] not in templevel3 and split[2] not in test:\n",
    "                        templevel3.append(split[2].replace(\" \",\"\").lower())\n",
    "                    if split[1] not in l2initializer:\n",
    "                        l2initializer.append(split[1].replace(\" \",\"\").lower())\n",
    "                    if split[2] not in l3initializer and split[2] not in test:\n",
    "                        l3initializer.append(split[2].replace(\" \",\"\").lower())\n",
    "                    if split[1] not in initializer:\n",
    "                        initializer.append(split[1].replace(\" \",\"\").lower())\n",
    "                    if split[2] not in initializer and split[2] not in test:\n",
    "                        initializer.append(split[2].replace(\" \",\"\").lower())\n",
    "        else:\n",
    "            templevel2=[]\n",
    "            templevel3=[]\n",
    "            split=sp(temp['H****'])\n",
    "            if len(split)==2:\n",
    "                if split[1] not in templevel2:\n",
    "                    templevel2.append(split[1].replace(\" \",\"\").lower())\n",
    "                if split[1] not in l2initializer:\n",
    "                    l2initializer.append(split[1].replace(\" \",\"\").lower())\n",
    "                if split[1] not in initializer:\n",
    "                    initializer.append(split[1].replace(\" \",\"\").lower())\n",
    "            if len(split)==3:\n",
    "                if split[1] not in templevel2:\n",
    "                    templevel2.append(split[1].replace(\" \",\"\").lower())\n",
    "                if split[2] not in templevel3 and split[2] not in test:\n",
    "                    templevel3.append(split[2].replace(\" \",\"\").lower())\n",
    "                if split[1] not in l2initializer:\n",
    "                    l2initializer.append(split[1].replace(\" \",\"\").lower())\n",
    "                if split[2] not in l3initializer and split[2] not in test:\n",
    "                    l3initializer.append(split[2].replace(\" \",\"\").lower())\n",
    "                if split[1] not in initializer:\n",
    "                    initializer.append(split[1].replace(\" \",\"\").lower())\n",
    "                if split[2] not in initializer and split[2] not in test:\n",
    "                    initializer.append(split[2].replace(\" \",\"\").lower())\n",
    "    else:\n",
    "        templevel2=[]\n",
    "        templevel3=[]\n",
    "    level2.append(templevel2)\n",
    "    level3.append(templevel3)"
   ]
  },
  {
   "cell_type": "code",
   "execution_count": 13,
   "metadata": {},
   "outputs": [],
   "source": [
    "l2initializer=set(l2initializer)\n",
    "l3initializer=set(l3initializer)\n",
    "initializer=set(initializer)"
   ]
  },
  {
   "cell_type": "code",
   "execution_count": 15,
   "metadata": {},
   "outputs": [],
   "source": [
    "for i in initializer:\n",
    "    exec(\"{}\".format(str(i))+\"=[]\")"
   ]
  },
  {
   "cell_type": "code",
   "execution_count": 16,
   "metadata": {},
   "outputs": [],
   "source": [
    "for i in range(len(nlpdata)):\n",
    "    if len(level2[i])==0:\n",
    "        for j in l2initializer:\n",
    "            eval('{}'.format(j)+'.append(0)')\n",
    "    else:\n",
    "        templ2=[]\n",
    "        for k in level2[i]:\n",
    "            if k not in templ2:\n",
    "                eval('{}'.format(k)+'.append(1)')\n",
    "                templ2.append(k)\n",
    "        subractingsubsets=set(l2initializer)-set(templ2)\n",
    "        for l in subractingsubsets:\n",
    "            eval('{}'.format(l)+'.append(0)')\n",
    "    if len(level3[i])==0:\n",
    "        for j in l3initializer:\n",
    "            eval('{}'.format(j)+'.append(0)')\n",
    "    else:\n",
    "        templ3=[]\n",
    "        for k in level3[i]:\n",
    "            if k not in templ3:\n",
    "                eval('{}'.format(k)+'.append(1)')\n",
    "                templ3.append(k)\n",
    "        subractingsubsets=set(l3initializer)-set(templ3)\n",
    "        for l in subractingsubsets:\n",
    "            eval('{}'.format(l)+'.append(0)')"
   ]
  },
  {
   "cell_type": "code",
   "execution_count": 18,
   "metadata": {},
   "outputs": [],
   "source": [
    "for i in l2initializer:\n",
    "    nlpdata[i]=eval('{}'.format(i))\n",
    "for i in l3initializer:\n",
    "    nlpdata[i]=eval('{}'.format(i))"
   ]
  },
  {
   "cell_type": "code",
   "execution_count": 20,
   "metadata": {},
   "outputs": [],
   "source": [
    "coll=nlpdata.columns"
   ]
  },
  {
   "cell_type": "code",
   "execution_count": 22,
   "metadata": {},
   "outputs": [],
   "source": [
    "def lgbmodel(x,y):\n",
    "    x,xx,y,yy=train_test_split(x,y,test_size=0.2)\n",
    "    tempmodel=lgb.LGBMClassifier(objective='binary',learning_rate=0.05,num_leaves=35)\n",
    "    tempmodel.fit(X=x,y=y,eval_metric='binary_logloss')\n",
    "    predicted=tempmodel.predict(xx)\n",
    "    jj=0\n",
    "    for i in range(len(list(predicted))):\n",
    "        if (list(predicted)[i]==list(yy)[i]):\n",
    "            jj+=1\n",
    "    acc=float(jj)/len(predicted)\n",
    "    return(tempmodel,acc)"
   ]
  },
  {
   "cell_type": "code",
   "execution_count": 23,
   "metadata": {},
   "outputs": [],
   "source": [
    "def RFmodel(x,y):\n",
    "    x,xx,y,yy=train_test_split(x,y,test_size=0.2)\n",
    "    tempmodel=RandomForestClassifier(n_estimators= 25,random_state= 10)\n",
    "    tempmodel.fit(X=x,y=y)\n",
    "    predicted=tempmodel.predict(xx)\n",
    "    jj=0\n",
    "    for i in range(len(list(predicted))):\n",
    "        if (list(predicted)[i]==list(yy)[i]):\n",
    "            jj+=1\n",
    "    acc=float(jj)/len(predicted)\n",
    "    return(tempmodel,acc)"
   ]
  },
  {
   "cell_type": "code",
   "execution_count": 24,
   "metadata": {},
   "outputs": [],
   "source": [
    "def NBmodel(x,y):\n",
    "    x,xx,y,yy=train_test_split(x,y,test_size=0.2)\n",
    "    tempmodel=GaussianNB()\n",
    "    tempmodel.fit(X=x,y=y)\n",
    "    predicted=tempmodel.predict(xx)\n",
    "    jj=0\n",
    "    for i in range(len(list(predicted))):\n",
    "        if (list(predicted)[i]==list(yy)[i]):\n",
    "            jj+=1\n",
    "    acc=float(jj)/len(predicted)\n",
    "    return(tempmodel,acc)"
   ]
  },
  {
   "cell_type": "code",
   "execution_count": 25,
   "metadata": {},
   "outputs": [],
   "source": [
    "def missing(x):\n",
    "    temp=[]\n",
    "    for i in range(len(x)):\n",
    "        if pd.isna(x[i]):\n",
    "            temp.append(True)\n",
    "        else:\n",
    "            temp.append(False)\n",
    "    return(temp)"
   ]
  },
  {
   "cell_type": "code",
   "execution_count": 26,
   "metadata": {},
   "outputs": [],
   "source": [
    "onehot_object=[]\n",
    "labelencoder_object=[]"
   ]
  },
  {
   "cell_type": "code",
   "execution_count": 27,
   "metadata": {},
   "outputs": [],
   "source": [
    "def onehot(y):\n",
    "    labencoder=LabelEncoder()\n",
    "    encoder=OneHotEncoder(sparse=False)\n",
    "    inter=labencoder.fit_transform(y)\n",
    "    encoder.fit(inter.reshape(-1,1))\n",
    "    result=encoder.fit_transform(inter.reshape(-1,1))\n",
    "    result=np.ndarray.tolist(result)\n",
    "    onehot_object.append(encoder)\n",
    "    labelencoder_object.append(labencoder)\n",
    "    onehot.counter+=1\n",
    "    return result\n",
    "onehot.counter=0"
   ]
  },
  {
   "cell_type": "code",
   "execution_count": 28,
   "metadata": {},
   "outputs": [],
   "source": [
    "def fillmissing(z,typ):\n",
    "    mis=missing(z)\n",
    "    temp=[]\n",
    "    for i in range(len(mis)):\n",
    "        if mis[i]==False:\n",
    "            temp.append(z[i])\n",
    "    if typ=='mean':\n",
    "        mean=reduce(lambda x, y: int(x) + int(y), temp) / len(temp)\n",
    "        for i in range(len(mis)):\n",
    "            if mis[i]==True:\n",
    "                z[i]=int(mean)\n",
    "    if typ=='mode':\n",
    "        mode=max(set(temp), key=temp.count)\n",
    "        for i in range(len(mis)):\n",
    "            if mis[i]==True:\n",
    "                z[i]=mode\n",
    "    return(z)"
   ]
  },
  {
   "cell_type": "code",
   "execution_count": 29,
   "metadata": {},
   "outputs": [],
   "source": [
    "tfidfvec=TfidfVectorizer()"
   ]
  },
  {
   "cell_type": "code",
   "execution_count": 30,
   "metadata": {},
   "outputs": [],
   "source": [
    "features=[]\n",
    "features.append('date')\n",
    "for i in list(set(fillmissing(data['S****'],'mode'))):\n",
    "    features.append('S****_'+str(i))\n",
    "for i in list(set(fillmissing(data['WO****'],'mode'))):\n",
    "    features.append('WO*****_'+str(i))\n",
    "features.append('H*****')\n",
    "features.append('HO*****')\n",
    "for i in list(set(fillmissing(data['A*****'],'mode'))):\n",
    "    features.append('A*****'+str(i))\n",
    "for i in list(set(fillmissing(data['I*****'],'mode'))):\n",
    "    features.append('I*****'+str(i))\n",
    "for i in list(set(fillmissing(data['a*****'],'mode'))):\n",
    "    features.append('a*****'+str(i))\n",
    "for i in list(set(fillmissing(data['f*****'],'mode'))):\n",
    "    features.append('f*****'+str(i))"
   ]
  },
  {
   "cell_type": "code",
   "execution_count": 31,
   "metadata": {},
   "outputs": [],
   "source": [
    "def preprocessing(data):\n",
    "    data=data.reset_index()\n",
    "    del data['index']\n",
    "    del data['H*****']\n",
    "    dict={}\n",
    "    for i in range(9+4):\n",
    "        dict['col{0}'.format(i+1)]=[]\n",
    "    for i in range(len(data)):\n",
    "        if pd.isna(data['date'][i]):\n",
    "            j=0\n",
    "        else:\n",
    "            datestripped=datetime.strptime(data['date'][i],'%Y-%m-%d')\n",
    "            date=str(datestripped.year)+'-1-1'\n",
    "            new_year = datetime.strptime(date,'%Y-%m-%d')\n",
    "            data['date'][i]=(datestripped-new_year).days+1\n",
    "    dict['col0']=list(fillmissing(data['date'],'mean'))\n",
    "    dict['col1']=list(onehot(fillmissing(data['S*****'],'mode')))\n",
    "    dict['col2']=list(onehot(fillmissing(data['W*****'],'mode')))\n",
    "    workingovertime=fillmissing(data['W*****'],'mode')\n",
    "    for i in range(len(data)):\n",
    "        if workingovertime[i]=='No':\n",
    "            data['H*****'][i]=0\n",
    "        else:\n",
    "            if not pd.isna(data['H*****'][i]):\n",
    "                splited=str(data['H*****'][i]).split(' ')\n",
    "                for j in range(len(splited)):\n",
    "                    try:\n",
    "                        if type(int(splited[j]))==int:\n",
    "                            data['H*****'][i]=int(splited[j])\n",
    "                    except:\n",
    "                        k=0\n",
    "            else:\n",
    "                data['H*****'][i]=0\n",
    "    dict['col3']=list(data['H*****'])\n",
    "    for i in range(len(data)):\n",
    "        if pd.isna(data['H*****'][i]):\n",
    "            zz=0\n",
    "        else:\n",
    "            splited=str(data['H*****'][i]).split(' ')\n",
    "            for j in range(len(splited)):\n",
    "                try:\n",
    "                    if type(int(splited[j]))==int:\n",
    "                        data['H*****'][i]=int(splited[j])\n",
    "                except:\n",
    "                    zz=0\n",
    "    dict['col4']=list(fillmissing(data['H*****'],'mean'))\n",
    "    forref=set(data['A*****'])\n",
    "    for i in range(len(data)):\n",
    "        if pd.isna(data['A*****'][i]):\n",
    "            zz=0\n",
    "        else:\n",
    "            splited=str(data['A*****'][i]).split('.')\n",
    "            for j in range(len(splited)):\n",
    "                try:\n",
    "                    if type(int(splited[j]))==int:\n",
    "                        data['A*****'][i]=int(splited[j])\n",
    "                except:\n",
    "                    zz=0\n",
    "    dict['col5']=list(onehot(fillmissing(data['A*****'],'mode')))\n",
    "    dict['col6']=list(onehot(fillmissing(data['I*****'],'mode')))\n",
    "    dict['col7']=list(onehot(fillmissing(data['a*****'],'mode')))\n",
    "    dict['col8']=list(onehot(fillmissing(data['f*****'],'mode')))\n",
    "    check=lambda x: missing(x)\n",
    "    columns=['issue','nar*****','Sug*****','Com*****','SM*****']\n",
    "    dict_tfidf={}\n",
    "    dict_topwords={'issue':[],'nar*****':[],'Sug*****':[],'Com*****':[],'SM*****':[]}\n",
    "    for k in columns:\n",
    "        dict_tfidf['{0}'.format(k)]=[]\n",
    "        c=check(data[k])\n",
    "        temp=[]\n",
    "        for i in range(len(data[k])):\n",
    "            if not c[i]:\n",
    "                temp.append(data[k][i])\n",
    "            else:\n",
    "                temp.append('not available')\n",
    "        vector=tfidfvec.fit_transform(temp)\n",
    "        words=tfidfvec.get_feature_names()\n",
    "        array=vector.toarray()\n",
    "        index=np.argsort(tfidfvec.idf_)[::-1]\n",
    "        top_features = [words[i] for i in index[:5000]]\n",
    "        for i in top_features:\n",
    "            features.append(''+str(k)+'_'+str(i))\n",
    "        temp_words=[words[i] for i in index[:10]]\n",
    "        dict_topwords[k].append(temp_words)\n",
    "        top_features_index=[i for i in index[:5000]]\n",
    "        for i in range(len(array)):\n",
    "            temp=[]\n",
    "            for j in top_features_index:\n",
    "                temp.append(array[i][j])\n",
    "            dict_tfidf['{0}'.format(k)].append(temp)\n",
    "    dict_term_count={}\n",
    "    for i in columns:\n",
    "        dict_term_count[i]=''\n",
    "        for j in range(len(data[i])):\n",
    "            dict_term_count[i]=str(dict_term_count[i])+str(data[i][j])\n",
    "    dictofdict={}\n",
    "    frequency = {}\n",
    "    for i in columns:\n",
    "        temmp=''\n",
    "        for j in range(len(dict_topwords[i])):\n",
    "            temmp=str(temmp)+str(dict_topwords[i][0][j])\n",
    "        document_text = dict_term_count[i]\n",
    "        text_string = temmp.lower()\n",
    "        match_pattern = re.findall(r'\\b[a-z]{3,15}\\b', text_string)\n",
    "\n",
    "        for word in match_pattern:\n",
    "            count = frequency.get(word,0)\n",
    "            frequency[word] = count + 1\n",
    "\n",
    "        frequency_list = frequency.keys()\n",
    "        temp=[]\n",
    "        for words in frequency_list:\n",
    "             temp.append([words, frequency[words]])\n",
    "        dictofdict[i]=temp\n",
    "    for i in range(len(columns)):\n",
    "        dict['col{0}'.format(9+i)]=dict_tfidf['{0}'.format(columns[i])]\n",
    "    X=[]\n",
    "    for i in range(len(data)):\n",
    "        X.append([])\n",
    "    for k in range(len(dict)):\n",
    "        for i in range(len(data)):\n",
    "            if type(dict['col{0}'.format(k)][0])==list:                \n",
    "                for j in range(len(dict['col{0}'.format(k)][0])):\n",
    "                    X[i].append(abs(dict['col{0}'.format(k)][i][j]))\n",
    "            else:\n",
    "                X[i].append(abs(dict['col{0}'.format(k)][i]))\n",
    "    x_value=np.asarray(X)\n",
    "    return(x_value)"
   ]
  },
  {
   "cell_type": "code",
   "execution_count": 32,
   "metadata": {},
   "outputs": [],
   "source": [
    "preprocessedX=preprocessing(nlpdata)"
   ]
  },
  {
   "cell_type": "code",
   "execution_count": 33,
   "metadata": {},
   "outputs": [],
   "source": [
    "def feature_importance(model):\n",
    "    importances=model.feature_importances_\n",
    "    std = np.std([tree.feature_importances_ for tree in model.estimators_],axis=0)\n",
    "    indices = np.argsort(importances)[::-1]\n",
    "    for f in range(preprocessedX.shape[1]):\n",
    "        print(\"%d. feature %s (%f)\" % (f + 1, features[indices[f]], importances[indices[f]]))"
   ]
  },
  {
   "cell_type": "code",
   "execution_count": 35,
   "metadata": {},
   "outputs": [],
   "source": [
    "UA_X,PFUA_X,OI_X=preprocessedX[nlpdata['Uns*****']==1],preprocessedX[nlpdata['Pre*****']==1],preprocessedX[nlpdata['Or*****']==1]"
   ]
  },
  {
   "cell_type": "code",
   "execution_count": 36,
   "metadata": {},
   "outputs": [],
   "source": [
    "OI_OC_X,OI_OP_X,OI_RM_X=preprocessedX[nlpdata['o*****']==1],preprocessedX[nlpdata['op*****']==1],preprocessedX[nlpdata['re*****']==1]\n"
   ]
  },
  {
   "cell_type": "code",
   "execution_count": 37,
   "metadata": {},
   "outputs": [],
   "source": [
    "PFUA_AMS_X,PFUA_ML_X,PFUA_PE_X,PFUA_TE_X,PFUA_CC_X=preprocessedX[nlpdata['ad*****']==1],preprocessedX[nlpdata['me*****']==1],preprocessedX[nlpdata['physicalenvironment']==1],preprocessedX[nlpdata['technologicalenvironment']==1],preprocessedX[nlpdata['coordinationandcommunication']==1]"
   ]
  },
  {
   "cell_type": "code",
   "execution_count": 38,
   "metadata": {},
   "outputs": [],
   "source": [
    "UA_DE_X,UA_PE_X,UA_SBE_X,UA_EV_X,UA_RV_X=preprocessedX[nlpdata['de*****']==1],preprocessedX[nlpdata['pe*****']==1],preprocessedX[nlpdata['sk*****']==1],preprocessedX[nlpdata['ex*****']==1],preprocessedX[nlpdata['ro*****']==1]\n"
   ]
  },
  {
   "cell_type": "code",
   "execution_count": 39,
   "metadata": {},
   "outputs": [],
   "source": [
    "UA_Y,PFUA_Y,OI_Y=nlpdata['U*****'],nlpdata['Pr*****'],nlpdata['Or*****']"
   ]
  },
  {
   "cell_type": "code",
   "execution_count": 40,
   "metadata": {},
   "outputs": [],
   "source": [
    "OI_OC_Y,OI_OP_Y,OI_RM_Y=nlpdata['op*****'][nlpdata['O*****']==1],nlpdata['o*****'][nlpdata['O*****']==1],nlpdata['re*****'][nlpdata['Or*****']==1]"
   ]
  },
  {
   "cell_type": "code",
   "execution_count": 41,
   "metadata": {},
   "outputs": [],
   "source": [
    "PFUA_AMS_Y,PFUA_ML_Y,PFUA_PE_Y,PFUA_TE_Y,PFUA_CC_Y=nlpdata['a*****'][nlpdata['P*****']==1],nlpdata['m*****'][nlpdata['P*****']==1],nlpdata['p*****'][nlpdata['P*****']==1],nlpdata['t*****'][nlpdata['P*****']==1],nlpdata['c*****'][nlpdata['P*****']==1]\n"
   ]
  },
  {
   "cell_type": "code",
   "execution_count": 42,
   "metadata": {},
   "outputs": [],
   "source": [
    "UA_DE_Y,UA_PE_Y,UA_SBE_Y,UA_EV_Y,UA_RV_Y=nlpdata['d*****'][nlpdata['U*****']==1],nlpdata['p*****'][nlpdata['U*****']==1],nlpdata['s*****'][nlpdata['U*****']==1],nlpdata['e*****'][nlpdata['U*****']==1],nlpdata['r*****'][nlpdata['U*****']==1]\n"
   ]
  },
  {
   "cell_type": "code",
   "execution_count": 43,
   "metadata": {},
   "outputs": [],
   "source": [
    "def resample(x,y):\n",
    "    resampling=SMOTE(k_neighbors=5)\n",
    "    xx,yy=resampling.fit_sample(x,y)\n",
    "    return(xx,yy)"
   ]
  },
  {
   "cell_type": "markdown",
   "metadata": {},
   "source": [
    "Unsafe Acts"
   ]
  },
  {
   "cell_type": "code",
   "execution_count": 44,
   "metadata": {},
   "outputs": [
    {
     "data": {
      "text/plain": [
       "<matplotlib.axes._subplots.AxesSubplot at 0x1a8fa0b3d0>"
      ]
     },
     "execution_count": 44,
     "metadata": {},
     "output_type": "execute_result"
    }
   ],
   "source": [
    "UA_Y.value_counts().plot(kind='bar')"
   ]
  },
  {
   "cell_type": "code",
   "execution_count": 45,
   "metadata": {},
   "outputs": [],
   "source": [
    "UA_X_resampled,UA_Y_resampled=resample(x=preprocessedX,y=UA_Y)"
   ]
  },
  {
   "cell_type": "code",
   "execution_count": 46,
   "metadata": {},
   "outputs": [
    {
     "data": {
      "text/plain": [
       "<matplotlib.axes._subplots.AxesSubplot at 0x1a0e6c9cd0>"
      ]
     },
     "execution_count": 46,
     "metadata": {},
     "output_type": "execute_result"
    },
    {
     "data": {
      "image/png": "[encoded data removed]",
      "text/plain": [
       "<Figure size 432x288 with 1 Axes>"
      ]
     },
     "metadata": {},
     "output_type": "display_data"
    }
   ],
   "source": [
    "pd.DataFrame(data=UA_Y_resampled)[0].value_counts().plot(kind='bar')"
   ]
  },
  {
   "cell_type": "code",
   "execution_count": 47,
   "metadata": {},
   "outputs": [
    {
     "data": {
      "text/plain": [
       "(LGBMClassifier(boosting_type='gbdt', class_weight=None, colsample_bytree=1.0,\n",
       "         importance_type='split', learning_rate=0.05, max_depth=-1,\n",
       "         min_child_samples=20, min_child_weight=0.001, min_split_gain=0.0,\n",
       "         n_estimators=100, n_jobs=-1, num_leaves=35, objective='binary',\n",
       "         random_state=None, reg_alpha=0.0, reg_lambda=0.0, silent=True,\n",
       "         subsample=1.0, subsample_for_bin=200000, subsample_freq=0),\n",
       " 0.7956318252730109)"
      ]
     },
     "execution_count": 47,
     "metadata": {},
     "output_type": "execute_result"
    }
   ],
   "source": [
    "lgbmodel(UA_X_resampled,UA_Y_resampled)"
   ]
  },
  {
   "cell_type": "code",
   "execution_count": 48,
   "metadata": {},
   "outputs": [
    {
     "data": {
      "text/plain": [
       "(GaussianNB(priors=None, var_smoothing=1e-09), 0.733229329173167)"
      ]
     },
     "execution_count": 48,
     "metadata": {},
     "output_type": "execute_result"
    }
   ],
   "source": [
    "NBmodel(UA_X_resampled,UA_Y_resampled)"
   ]
  },
  {
   "cell_type": "code",
   "execution_count": 49,
   "metadata": {},
   "outputs": [],
   "source": [
    "UA_model,UA_acc=RFmodel(UA_X_resampled,UA_Y_resampled)"
   ]
  },
  {
   "cell_type": "code",
   "execution_count": 50,
   "metadata": {},
   "outputs": [
    {
     "data": {
      "text/plain": [
       "0.8096723868954758"
      ]
     },
     "execution_count": 50,
     "metadata": {},
     "output_type": "execute_result"
    }
   ],
   "source": [
    "UA_acc"
   ]
  },
  {
   "cell_type": "markdown",
   "metadata": {},
   "source": [
    "Precondition for unsafe acts"
   ]
  },
  {
   "cell_type": "code",
   "execution_count": 52,
   "metadata": {},
   "outputs": [
    {
     "data": {
      "text/plain": [
       "<matplotlib.axes._subplots.AxesSubplot at 0x1a0e82dad0>"
      ]
     },
     "execution_count": 52,
     "metadata": {},
     "output_type": "execute_result"
    },
    {
     "data": {
      "image/png": "[encoded data removed]",
      "text/plain": [
       "<Figure size 432x288 with 1 Axes>"
      ]
     },
     "metadata": {},
     "output_type": "display_data"
    }
   ],
   "source": [
    "PFUA_Y.value_counts().plot(kind='bar')"
   ]
  },
  {
   "cell_type": "code",
   "execution_count": 53,
   "metadata": {},
   "outputs": [],
   "source": [
    "PFUA_X_resampled,PFUA_Y_resampled=resample(x=preprocessedX,y=PFUA_Y)"
   ]
  },
  {
   "cell_type": "code",
   "execution_count": 54,
   "metadata": {},
   "outputs": [
    {
     "data": {
      "text/plain": [
       "<matplotlib.axes._subplots.AxesSubplot at 0x10683b610>"
      ]
     },
     "execution_count": 54,
     "metadata": {},
     "output_type": "execute_result"
    },
    {
     "data": {
      "image/png": "[encoded data removed]",
      "text/plain": [
       "<Figure size 432x288 with 1 Axes>"
      ]
     },
     "metadata": {},
     "output_type": "display_data"
    }
   ],
   "source": [
    "pd.DataFrame(data=PFUA_Y_resampled)[0].value_counts().plot(kind='bar')"
   ]
  },
  {
   "cell_type": "code",
   "execution_count": 55,
   "metadata": {},
   "outputs": [
    {
     "data": {
      "text/plain": [
       "(LGBMClassifier(boosting_type='gbdt', class_weight=None, colsample_bytree=1.0,\n",
       "         importance_type='split', learning_rate=0.05, max_depth=-1,\n",
       "         min_child_samples=20, min_child_weight=0.001, min_split_gain=0.0,\n",
       "         n_estimators=100, n_jobs=-1, num_leaves=35, objective='binary',\n",
       "         random_state=None, reg_alpha=0.0, reg_lambda=0.0, silent=True,\n",
       "         subsample=1.0, subsample_for_bin=200000, subsample_freq=0),\n",
       " 0.8509485094850948)"
      ]
     },
     "execution_count": 55,
     "metadata": {},
     "output_type": "execute_result"
    }
   ],
   "source": [
    "lgbmodel(PFUA_X_resampled,PFUA_Y_resampled)"
   ]
  },
  {
   "cell_type": "code",
   "execution_count": 56,
   "metadata": {},
   "outputs": [
    {
     "data": {
      "text/plain": [
       "(GaussianNB(priors=None, var_smoothing=1e-09), 0.7737127371273713)"
      ]
     },
     "execution_count": 56,
     "metadata": {},
     "output_type": "execute_result"
    }
   ],
   "source": [
    "NBmodel(PFUA_X_resampled,PFUA_Y_resampled)"
   ]
  },
  {
   "cell_type": "code",
   "execution_count": 57,
   "metadata": {},
   "outputs": [],
   "source": [
    "PFUA_model,PFUA_acc=RFmodel(PFUA_X_resampled,PFUA_Y_resampled)"
   ]
  },
  {
   "cell_type": "code",
   "execution_count": 58,
   "metadata": {},
   "outputs": [
    {
     "data": {
      "text/plain": [
       "0.9051490514905149"
      ]
     },
     "execution_count": 58,
     "metadata": {},
     "output_type": "execute_result"
    }
   ],
   "source": [
    "PFUA_acc"
   ]
  },
  {
   "cell_type": "markdown",
   "metadata": {},
   "source": [
    "organizational influence"
   ]
  },
  {
   "cell_type": "code",
   "execution_count": 60,
   "metadata": {},
   "outputs": [
    {
     "data": {
      "text/plain": [
       "<matplotlib.axes._subplots.AxesSubplot at 0x1a0f4b8510>"
      ]
     },
     "execution_count": 60,
     "metadata": {},
     "output_type": "execute_result"
    },
    {
     "data": {
      "image/png": "[encoded data removed]",
      "text/plain": [
       "<Figure size 432x288 with 1 Axes>"
      ]
     },
     "metadata": {},
     "output_type": "display_data"
    }
   ],
   "source": [
    "OI_Y.value_counts().plot(kind='bar')"
   ]
  },
  {
   "cell_type": "code",
   "execution_count": 61,
   "metadata": {},
   "outputs": [],
   "source": [
    "OI_X_resampled,OI_Y_resampled=resample(x=preprocessedX,y=OI_Y)"
   ]
  },
  {
   "cell_type": "code",
   "execution_count": 62,
   "metadata": {},
   "outputs": [
    {
     "data": {
      "text/plain": [
       "<matplotlib.axes._subplots.AxesSubplot at 0x1a0fc64e10>"
      ]
     },
     "execution_count": 62,
     "metadata": {},
     "output_type": "execute_result"
    },
    {
     "data": {
      "image/png": "[encoded data removed]",
      "text/plain": [
       "<Figure size 432x288 with 1 Axes>"
      ]
     },
     "metadata": {},
     "output_type": "display_data"
    }
   ],
   "source": [
    "pd.DataFrame(data=OI_Y_resampled)[0].value_counts().plot(kind='bar')"
   ]
  },
  {
   "cell_type": "code",
   "execution_count": 63,
   "metadata": {},
   "outputs": [
    {
     "data": {
      "text/plain": [
       "(LGBMClassifier(boosting_type='gbdt', class_weight=None, colsample_bytree=1.0,\n",
       "         importance_type='split', learning_rate=0.05, max_depth=-1,\n",
       "         min_child_samples=20, min_child_weight=0.001, min_split_gain=0.0,\n",
       "         n_estimators=100, n_jobs=-1, num_leaves=35, objective='binary',\n",
       "         random_state=None, reg_alpha=0.0, reg_lambda=0.0, silent=True,\n",
       "         subsample=1.0, subsample_for_bin=200000, subsample_freq=0),\n",
       " 0.8068862275449101)"
      ]
     },
     "execution_count": 63,
     "metadata": {},
     "output_type": "execute_result"
    }
   ],
   "source": [
    "lgbmodel(OI_X_resampled,OI_Y_resampled)"
   ]
  },
  {
   "cell_type": "code",
   "execution_count": 64,
   "metadata": {},
   "outputs": [
    {
     "data": {
      "text/plain": [
       "(GaussianNB(priors=None, var_smoothing=1e-09), 0.7260479041916168)"
      ]
     },
     "execution_count": 64,
     "metadata": {},
     "output_type": "execute_result"
    }
   ],
   "source": [
    "NBmodel(OI_X_resampled,OI_Y_resampled)"
   ]
  },
  {
   "cell_type": "code",
   "execution_count": 65,
   "metadata": {},
   "outputs": [],
   "source": [
    "OI_model,OI_acc=RFmodel(OI_X_resampled,OI_Y_resampled)"
   ]
  },
  {
   "cell_type": "code",
   "execution_count": 66,
   "metadata": {},
   "outputs": [
    {
     "data": {
      "text/plain": [
       "0.811377245508982"
      ]
     },
     "execution_count": 66,
     "metadata": {},
     "output_type": "execute_result"
    }
   ],
   "source": [
    "OI_acc"
   ]
  },
  {
   "cell_type": "markdown",
   "metadata": {},
   "source": [
    "Unsafeacts | Decision error"
   ]
  },
  {
   "cell_type": "code",
   "execution_count": 68,
   "metadata": {},
   "outputs": [
    {
     "data": {
      "text/plain": [
       "<matplotlib.axes._subplots.AxesSubplot at 0x1a0fc59090>"
      ]
     },
     "execution_count": 68,
     "metadata": {},
     "output_type": "execute_result"
    },
    {
     "data": {
      "image/png": "[encoded data removed]",
      "text/plain": [
       "<Figure size 432x288 with 1 Axes>"
      ]
     },
     "metadata": {},
     "output_type": "display_data"
    }
   ],
   "source": [
    "UA_DE_Y.value_counts().plot(kind='bar')"
   ]
  },
  {
   "cell_type": "code",
   "execution_count": 69,
   "metadata": {},
   "outputs": [],
   "source": [
    "UA_DE_X_resampled,UA_DE_Y_resampled=resample(x=UA_X,y=UA_DE_Y)"
   ]
  },
  {
   "cell_type": "code",
   "execution_count": 70,
   "metadata": {},
   "outputs": [
    {
     "data": {
      "text/plain": [
       "<matplotlib.axes._subplots.AxesSubplot at 0x1a0fafb890>"
      ]
     },
     "execution_count": 70,
     "metadata": {},
     "output_type": "execute_result"
    },
    {
     "data": {
      "image/png": "[encoded data removed]",
      "text/plain": [
       "<Figure size 432x288 with 1 Axes>"
      ]
     },
     "metadata": {},
     "output_type": "display_data"
    }
   ],
   "source": [
    "pd.DataFrame(data=UA_DE_Y_resampled)[0].value_counts().plot(kind='bar')"
   ]
  },
  {
   "cell_type": "code",
   "execution_count": 71,
   "metadata": {},
   "outputs": [
    {
     "data": {
      "text/plain": [
       "(LGBMClassifier(boosting_type='gbdt', class_weight=None, colsample_bytree=1.0,\n",
       "         importance_type='split', learning_rate=0.05, max_depth=-1,\n",
       "         min_child_samples=20, min_child_weight=0.001, min_split_gain=0.0,\n",
       "         n_estimators=100, n_jobs=-1, num_leaves=35, objective='binary',\n",
       "         random_state=None, reg_alpha=0.0, reg_lambda=0.0, silent=True,\n",
       "         subsample=1.0, subsample_for_bin=200000, subsample_freq=0),\n",
       " 0.904397705544933)"
      ]
     },
     "execution_count": 71,
     "metadata": {},
     "output_type": "execute_result"
    }
   ],
   "source": [
    "lgbmodel(UA_DE_X_resampled,UA_DE_Y_resampled)"
   ]
  },
  {
   "cell_type": "code",
   "execution_count": 72,
   "metadata": {},
   "outputs": [
    {
     "data": {
      "text/plain": [
       "(GaussianNB(priors=None, var_smoothing=1e-09), 0.8489483747609943)"
      ]
     },
     "execution_count": 72,
     "metadata": {},
     "output_type": "execute_result"
    }
   ],
   "source": [
    "NBmodel(UA_DE_X_resampled,UA_DE_Y_resampled)"
   ]
  },
  {
   "cell_type": "code",
   "execution_count": 73,
   "metadata": {},
   "outputs": [],
   "source": [
    "UA_DE_model,UA_DE_acc=RFmodel(UA_DE_X_resampled,UA_DE_Y_resampled)"
   ]
  },
  {
   "cell_type": "code",
   "execution_count": 74,
   "metadata": {},
   "outputs": [
    {
     "data": {
      "text/plain": [
       "0.904397705544933"
      ]
     },
     "execution_count": 74,
     "metadata": {},
     "output_type": "execute_result"
    }
   ],
   "source": [
    "UA_DE_acc"
   ]
  },
  {
   "cell_type": "markdown",
   "metadata": {},
   "source": [
    "Unsafeacts | Perceptual error"
   ]
  },
  {
   "cell_type": "code",
   "execution_count": 76,
   "metadata": {},
   "outputs": [
    {
     "data": {
      "text/plain": [
       "<matplotlib.axes._subplots.AxesSubplot at 0x1a0fbea310>"
      ]
     },
     "execution_count": 76,
     "metadata": {},
     "output_type": "execute_result"
    },
    {
     "data": {
      "image/png": "[encoded data removed]",
      "text/plain": [
       "<Figure size 432x288 with 1 Axes>"
      ]
     },
     "metadata": {},
     "output_type": "display_data"
    }
   ],
   "source": [
    "UA_PE_Y.value_counts().plot(kind='bar')"
   ]
  },
  {
   "cell_type": "code",
   "execution_count": 77,
   "metadata": {},
   "outputs": [],
   "source": [
    "UA_PE_X_resampled,UA_PE_Y_resampled=resample(x=UA_X,y=UA_PE_Y)"
   ]
  },
  {
   "cell_type": "code",
   "execution_count": 78,
   "metadata": {},
   "outputs": [
    {
     "data": {
      "text/plain": [
       "<matplotlib.axes._subplots.AxesSubplot at 0x1a0ebda9d0>"
      ]
     },
     "execution_count": 78,
     "metadata": {},
     "output_type": "execute_result"
    },
    {
     "data": {
      "image/png": "[encoded data removed]",
      "text/plain": [
       "<Figure size 432x288 with 1 Axes>"
      ]
     },
     "metadata": {},
     "output_type": "display_data"
    }
   ],
   "source": [
    "pd.DataFrame(data=UA_PE_Y_resampled)[0].value_counts().plot(kind='bar')"
   ]
  },
  {
   "cell_type": "code",
   "execution_count": 79,
   "metadata": {},
   "outputs": [
    {
     "data": {
      "text/plain": [
       "(LGBMClassifier(boosting_type='gbdt', class_weight=None, colsample_bytree=1.0,\n",
       "         importance_type='split', learning_rate=0.05, max_depth=-1,\n",
       "         min_child_samples=20, min_child_weight=0.001, min_split_gain=0.0,\n",
       "         n_estimators=100, n_jobs=-1, num_leaves=35, objective='binary',\n",
       "         random_state=None, reg_alpha=0.0, reg_lambda=0.0, silent=True,\n",
       "         subsample=1.0, subsample_for_bin=200000, subsample_freq=0),\n",
       " 0.9702479338842975)"
      ]
     },
     "execution_count": 79,
     "metadata": {},
     "output_type": "execute_result"
    }
   ],
   "source": [
    "lgbmodel(UA_PE_X_resampled,UA_PE_Y_resampled)"
   ]
  },
  {
   "cell_type": "code",
   "execution_count": 80,
   "metadata": {},
   "outputs": [],
   "source": [
    "UA_PE_model,UA_PE_acc=NBmodel(UA_PE_X_resampled,UA_PE_Y_resampled)"
   ]
  },
  {
   "cell_type": "code",
   "execution_count": 81,
   "metadata": {},
   "outputs": [
    {
     "data": {
      "text/plain": [
       "0.9272727272727272"
      ]
     },
     "execution_count": 81,
     "metadata": {},
     "output_type": "execute_result"
    }
   ],
   "source": [
    "UA_PE_acc"
   ]
  },
  {
   "cell_type": "code",
   "execution_count": 82,
   "metadata": {},
   "outputs": [
    {
     "data": {
      "text/plain": [
       "(RandomForestClassifier(bootstrap=True, class_weight=None, criterion='gini',\n",
       "             max_depth=None, max_features='auto', max_leaf_nodes=None,\n",
       "             min_impurity_decrease=0.0, min_impurity_split=None,\n",
       "             min_samples_leaf=1, min_samples_split=2,\n",
       "             min_weight_fraction_leaf=0.0, n_estimators=25, n_jobs=None,\n",
       "             oob_score=False, random_state=10, verbose=0, warm_start=False),\n",
       " 0.9950413223140496)"
      ]
     },
     "execution_count": 82,
     "metadata": {},
     "output_type": "execute_result"
    }
   ],
   "source": [
    "RFmodel(UA_PE_X_resampled,UA_PE_Y_resampled)"
   ]
  },
  {
   "cell_type": "markdown",
   "metadata": {},
   "source": [
    "Unsafeacts | Skill based error"
   ]
  },
  {
   "cell_type": "code",
   "execution_count": 83,
   "metadata": {},
   "outputs": [
    {
     "data": {
      "text/plain": [
       "<matplotlib.axes._subplots.AxesSubplot at 0x1a10107610>"
      ]
     },
     "execution_count": 83,
     "metadata": {},
     "output_type": "execute_result"
    },
    {
     "data": {
      "image/png": "[encoded data removed]",
      "text/plain": [
       "<Figure size 432x288 with 1 Axes>"
      ]
     },
     "metadata": {},
     "output_type": "display_data"
    }
   ],
   "source": [
    "UA_SBE_Y.value_counts().plot(kind='bar')"
   ]
  },
  {
   "cell_type": "code",
   "execution_count": 84,
   "metadata": {},
   "outputs": [],
   "source": [
    "UA_SBE_X_resampled,UA_SBE_Y_resampled=resample(x=UA_X,y=UA_SBE_Y)"
   ]
  },
  {
   "cell_type": "code",
   "execution_count": 85,
   "metadata": {},
   "outputs": [
    {
     "data": {
      "text/plain": [
       "<matplotlib.axes._subplots.AxesSubplot at 0x1a0fbea290>"
      ]
     },
     "execution_count": 85,
     "metadata": {},
     "output_type": "execute_result"
    },
    {
     "data": {
      "image/png": "[encoded data removed]",
      "text/plain": [
       "<Figure size 432x288 with 1 Axes>"
      ]
     },
     "metadata": {},
     "output_type": "display_data"
    }
   ],
   "source": [
    "pd.DataFrame(data=UA_SBE_Y_resampled)[0].value_counts().plot(kind='bar')"
   ]
  },
  {
   "cell_type": "code",
   "execution_count": 86,
   "metadata": {},
   "outputs": [],
   "source": [
    "UA_SBE_model,UA_SBE_acc=lgbmodel(UA_SBE_X_resampled,UA_SBE_Y_resampled)"
   ]
  },
  {
   "cell_type": "code",
   "execution_count": 87,
   "metadata": {},
   "outputs": [
    {
     "data": {
      "text/plain": [
       "(GaussianNB(priors=None, var_smoothing=1e-09), 0.7128712871287128)"
      ]
     },
     "execution_count": 87,
     "metadata": {},
     "output_type": "execute_result"
    }
   ],
   "source": [
    "NBmodel(UA_SBE_X_resampled,UA_SBE_Y_resampled)"
   ]
  },
  {
   "cell_type": "code",
   "execution_count": 88,
   "metadata": {},
   "outputs": [
    {
     "data": {
      "text/plain": [
       "(RandomForestClassifier(bootstrap=True, class_weight=None, criterion='gini',\n",
       "             max_depth=None, max_features='auto', max_leaf_nodes=None,\n",
       "             min_impurity_decrease=0.0, min_impurity_split=None,\n",
       "             min_samples_leaf=1, min_samples_split=2,\n",
       "             min_weight_fraction_leaf=0.0, n_estimators=25, n_jobs=None,\n",
       "             oob_score=False, random_state=10, verbose=0, warm_start=False),\n",
       " 0.7252475247524752)"
      ]
     },
     "execution_count": 88,
     "metadata": {},
     "output_type": "execute_result"
    }
   ],
   "source": [
    "RFmodel(UA_SBE_X_resampled,UA_SBE_Y_resampled)"
   ]
  },
  {
   "cell_type": "markdown",
   "metadata": {},
   "source": [
    "Unsafeacts | Exceptional Violation"
   ]
  },
  {
   "cell_type": "code",
   "execution_count": 89,
   "metadata": {},
   "outputs": [
    {
     "data": {
      "text/plain": [
       "<matplotlib.axes._subplots.AxesSubplot at 0x1a18eaf090>"
      ]
     },
     "execution_count": 89,
     "metadata": {},
     "output_type": "execute_result"
    },
    {
     "data": {
      "image/png": "[encoded data removed]",
      "text/plain": [
       "<Figure size 432x288 with 1 Axes>"
      ]
     },
     "metadata": {},
     "output_type": "display_data"
    }
   ],
   "source": [
    "UA_EV_Y.value_counts().plot(kind='bar')"
   ]
  },
  {
   "cell_type": "code",
   "execution_count": 90,
   "metadata": {},
   "outputs": [],
   "source": [
    "UA_EV_X_resampled,UA_EV_Y_resampled=resample(x=UA_X,y=UA_EV_Y)"
   ]
  },
  {
   "cell_type": "code",
   "execution_count": 91,
   "metadata": {},
   "outputs": [
    {
     "data": {
      "text/plain": [
       "<matplotlib.axes._subplots.AxesSubplot at 0x1a18fcb790>"
      ]
     },
     "execution_count": 91,
     "metadata": {},
     "output_type": "execute_result"
    },
    {
     "data": {
      "image/png": "[encoded data removed]",
      "text/plain": [
       "<Figure size 432x288 with 1 Axes>"
      ]
     },
     "metadata": {},
     "output_type": "display_data"
    }
   ],
   "source": [
    "pd.DataFrame(data=UA_EV_Y_resampled)[0].value_counts().plot(kind='bar')"
   ]
  },
  {
   "cell_type": "code",
   "execution_count": 92,
   "metadata": {},
   "outputs": [
    {
     "data": {
      "text/plain": [
       "(LGBMClassifier(boosting_type='gbdt', class_weight=None, colsample_bytree=1.0,\n",
       "         importance_type='split', learning_rate=0.05, max_depth=-1,\n",
       "         min_child_samples=20, min_child_weight=0.001, min_split_gain=0.0,\n",
       "         n_estimators=100, n_jobs=-1, num_leaves=35, objective='binary',\n",
       "         random_state=None, reg_alpha=0.0, reg_lambda=0.0, silent=True,\n",
       "         subsample=1.0, subsample_for_bin=200000, subsample_freq=0),\n",
       " 0.9217081850533808)"
      ]
     },
     "execution_count": 92,
     "metadata": {},
     "output_type": "execute_result"
    }
   ],
   "source": [
    "lgbmodel(UA_EV_X_resampled,UA_EV_Y_resampled)"
   ]
  },
  {
   "cell_type": "code",
   "execution_count": 93,
   "metadata": {},
   "outputs": [
    {
     "data": {
      "text/plain": [
       "(GaussianNB(priors=None, var_smoothing=1e-09), 0.8416370106761566)"
      ]
     },
     "execution_count": 93,
     "metadata": {},
     "output_type": "execute_result"
    }
   ],
   "source": [
    "NBmodel(UA_EV_X_resampled,UA_EV_Y_resampled)"
   ]
  },
  {
   "cell_type": "code",
   "execution_count": 94,
   "metadata": {},
   "outputs": [],
   "source": [
    "UA_EV_model,UA_EV_acc=RFmodel(UA_EV_X_resampled,UA_EV_Y_resampled)"
   ]
  },
  {
   "cell_type": "markdown",
   "metadata": {},
   "source": [
    "Unsafeacts | Routine Violation"
   ]
  },
  {
   "cell_type": "code",
   "execution_count": 95,
   "metadata": {},
   "outputs": [
    {
     "data": {
      "text/plain": [
       "<matplotlib.axes._subplots.AxesSubplot at 0x1a42441c50>"
      ]
     },
     "execution_count": 95,
     "metadata": {},
     "output_type": "execute_result"
    },
    {
     "data": {
      "image/png": "[encoded data removed]",
      "text/plain": [
       "<Figure size 432x288 with 1 Axes>"
      ]
     },
     "metadata": {},
     "output_type": "display_data"
    }
   ],
   "source": [
    "UA_RV_Y.value_counts().plot(kind='bar')"
   ]
  },
  {
   "cell_type": "code",
   "execution_count": 96,
   "metadata": {},
   "outputs": [],
   "source": [
    "UA_RV_X_resampled,UA_RV_Y_resampled=resample(x=UA_X,y=UA_RV_Y)"
   ]
  },
  {
   "cell_type": "code",
   "execution_count": 97,
   "metadata": {},
   "outputs": [
    {
     "data": {
      "text/plain": [
       "<matplotlib.axes._subplots.AxesSubplot at 0x1a0f04d3d0>"
      ]
     },
     "execution_count": 97,
     "metadata": {},
     "output_type": "execute_result"
    },
    {
     "data": {
      "image/png": "[encoded data removed]",
      "text/plain": [
       "<Figure size 432x288 with 1 Axes>"
      ]
     },
     "metadata": {},
     "output_type": "display_data"
    }
   ],
   "source": [
    "pd.DataFrame(data=UA_RV_Y_resampled)[0].value_counts().plot(kind='bar')"
   ]
  },
  {
   "cell_type": "code",
   "execution_count": 98,
   "metadata": {},
   "outputs": [
    {
     "data": {
      "text/plain": [
       "(LGBMClassifier(boosting_type='gbdt', class_weight=None, colsample_bytree=1.0,\n",
       "         importance_type='split', learning_rate=0.05, max_depth=-1,\n",
       "         min_child_samples=20, min_child_weight=0.001, min_split_gain=0.0,\n",
       "         n_estimators=100, n_jobs=-1, num_leaves=35, objective='binary',\n",
       "         random_state=None, reg_alpha=0.0, reg_lambda=0.0, silent=True,\n",
       "         subsample=1.0, subsample_for_bin=200000, subsample_freq=0),\n",
       " 0.7348837209302326)"
      ]
     },
     "execution_count": 98,
     "metadata": {},
     "output_type": "execute_result"
    }
   ],
   "source": [
    "lgbmodel(UA_RV_X_resampled,UA_RV_Y_resampled)"
   ]
  },
  {
   "cell_type": "code",
   "execution_count": 99,
   "metadata": {},
   "outputs": [
    {
     "data": {
      "text/plain": [
       "(GaussianNB(priors=None, var_smoothing=1e-09), 0.7232558139534884)"
      ]
     },
     "execution_count": 99,
     "metadata": {},
     "output_type": "execute_result"
    }
   ],
   "source": [
    "NBmodel(UA_RV_X_resampled,UA_RV_Y_resampled)"
   ]
  },
  {
   "cell_type": "code",
   "execution_count": 100,
   "metadata": {},
   "outputs": [],
   "source": [
    "UA_RV_model,UA_RV_acc=RFmodel(UA_RV_X_resampled,UA_RV_Y_resampled)"
   ]
  },
  {
   "cell_type": "markdown",
   "metadata": {},
   "source": [
    "Organizational influence | Operational Climate"
   ]
  },
  {
   "cell_type": "code",
   "execution_count": 101,
   "metadata": {},
   "outputs": [
    {
     "data": {
      "text/plain": [
       "<matplotlib.axes._subplots.AxesSubplot at 0x1a48279cd0>"
      ]
     },
     "execution_count": 101,
     "metadata": {},
     "output_type": "execute_result"
    },
    {
     "data": {
      "image/png": "[encoded data removed]",
      "text/plain": [
       "<Figure size 432x288 with 1 Axes>"
      ]
     },
     "metadata": {},
     "output_type": "display_data"
    }
   ],
   "source": [
    "OI_OC_Y.value_counts().plot(kind='bar')"
   ]
  },
  {
   "cell_type": "code",
   "execution_count": 102,
   "metadata": {},
   "outputs": [],
   "source": [
    "OI_OC_X_resampled,OI_OC_Y_resampled=resample(x=OI_X,y=OI_OC_Y)"
   ]
  },
  {
   "cell_type": "code",
   "execution_count": 103,
   "metadata": {},
   "outputs": [
    {
     "data": {
      "text/plain": [
       "<matplotlib.axes._subplots.AxesSubplot at 0x1a1917a310>"
      ]
     },
     "execution_count": 103,
     "metadata": {},
     "output_type": "execute_result"
    },
    {
     "data": {
      "image/png": "[encoded data removed]",
      "text/plain": [
       "<Figure size 432x288 with 1 Axes>"
      ]
     },
     "metadata": {},
     "output_type": "display_data"
    }
   ],
   "source": [
    "pd.DataFrame(data=OI_OC_Y_resampled)[0].value_counts().plot(kind='bar')"
   ]
  },
  {
   "cell_type": "code",
   "execution_count": 104,
   "metadata": {},
   "outputs": [
    {
     "data": {
      "text/plain": [
       "(LGBMClassifier(boosting_type='gbdt', class_weight=None, colsample_bytree=1.0,\n",
       "         importance_type='split', learning_rate=0.05, max_depth=-1,\n",
       "         min_child_samples=20, min_child_weight=0.001, min_split_gain=0.0,\n",
       "         n_estimators=100, n_jobs=-1, num_leaves=35, objective='binary',\n",
       "         random_state=None, reg_alpha=0.0, reg_lambda=0.0, silent=True,\n",
       "         subsample=1.0, subsample_for_bin=200000, subsample_freq=0),\n",
       " 0.93359375)"
      ]
     },
     "execution_count": 104,
     "metadata": {},
     "output_type": "execute_result"
    }
   ],
   "source": [
    "lgbmodel(OI_OC_X_resampled,OI_OC_Y_resampled)"
   ]
  },
  {
   "cell_type": "code",
   "execution_count": 105,
   "metadata": {},
   "outputs": [
    {
     "data": {
      "text/plain": [
       "(GaussianNB(priors=None, var_smoothing=1e-09), 0.9375)"
      ]
     },
     "execution_count": 105,
     "metadata": {},
     "output_type": "execute_result"
    }
   ],
   "source": [
    "NBmodel(OI_OC_X_resampled,OI_OC_Y_resampled)"
   ]
  },
  {
   "cell_type": "code",
   "execution_count": 106,
   "metadata": {},
   "outputs": [],
   "source": [
    "OI_OC_model,OI_OC_acc=RFmodel(OI_OC_X_resampled,OI_OC_Y_resampled)"
   ]
  },
  {
   "cell_type": "markdown",
   "metadata": {},
   "source": [
    "Organizational influence | Operational process"
   ]
  },
  {
   "cell_type": "code",
   "execution_count": 107,
   "metadata": {},
   "outputs": [
    {
     "data": {
      "text/plain": [
       "<matplotlib.axes._subplots.AxesSubplot at 0x1a48437290>"
      ]
     },
     "execution_count": 107,
     "metadata": {},
     "output_type": "execute_result"
    },
    {
     "data": {
      "image/png": "[encoded data removed]",
      "text/plain": [
       "<Figure size 432x288 with 1 Axes>"
      ]
     },
     "metadata": {},
     "output_type": "display_data"
    }
   ],
   "source": [
    "OI_OP_Y.value_counts().plot(kind='bar')"
   ]
  },
  {
   "cell_type": "code",
   "execution_count": 108,
   "metadata": {},
   "outputs": [],
   "source": [
    "OI_OP_X_resampled,OI_OP_Y_resampled=resample(x=OI_X,y=OI_OP_Y)"
   ]
  },
  {
   "cell_type": "code",
   "execution_count": 109,
   "metadata": {},
   "outputs": [
    {
     "data": {
      "text/plain": [
       "<matplotlib.axes._subplots.AxesSubplot at 0x1a426fa550>"
      ]
     },
     "execution_count": 109,
     "metadata": {},
     "output_type": "execute_result"
    },
    {
     "data": {
      "image/png": "[encoded data removed]",
      "text/plain": [
       "<Figure size 432x288 with 1 Axes>"
      ]
     },
     "metadata": {},
     "output_type": "display_data"
    }
   ],
   "source": [
    "pd.DataFrame(data=OI_OP_Y_resampled)[0].value_counts().plot(kind='bar')"
   ]
  },
  {
   "cell_type": "code",
   "execution_count": 110,
   "metadata": {},
   "outputs": [
    {
     "data": {
      "text/plain": [
       "(LGBMClassifier(boosting_type='gbdt', class_weight=None, colsample_bytree=1.0,\n",
       "         importance_type='split', learning_rate=0.05, max_depth=-1,\n",
       "         min_child_samples=20, min_child_weight=0.001, min_split_gain=0.0,\n",
       "         n_estimators=100, n_jobs=-1, num_leaves=35, objective='binary',\n",
       "         random_state=None, reg_alpha=0.0, reg_lambda=0.0, silent=True,\n",
       "         subsample=1.0, subsample_for_bin=200000, subsample_freq=0),\n",
       " 0.803030303030303)"
      ]
     },
     "execution_count": 110,
     "metadata": {},
     "output_type": "execute_result"
    }
   ],
   "source": [
    "lgbmodel(OI_OP_X_resampled,OI_OP_Y_resampled)"
   ]
  },
  {
   "cell_type": "code",
   "execution_count": 111,
   "metadata": {},
   "outputs": [],
   "source": [
    "OI_OP_model,OI_OP_acc=NBmodel(OI_OP_X_resampled,OI_OP_Y_resampled)"
   ]
  },
  {
   "cell_type": "code",
   "execution_count": 112,
   "metadata": {},
   "outputs": [
    {
     "data": {
      "text/plain": [
       "(RandomForestClassifier(bootstrap=True, class_weight=None, criterion='gini',\n",
       "             max_depth=None, max_features='auto', max_leaf_nodes=None,\n",
       "             min_impurity_decrease=0.0, min_impurity_split=None,\n",
       "             min_samples_leaf=1, min_samples_split=2,\n",
       "             min_weight_fraction_leaf=0.0, n_estimators=25, n_jobs=None,\n",
       "             oob_score=False, random_state=10, verbose=0, warm_start=False),\n",
       " 0.8282828282828283)"
      ]
     },
     "execution_count": 112,
     "metadata": {},
     "output_type": "execute_result"
    }
   ],
   "source": [
    "RFmodel(OI_OP_X_resampled,OI_OP_Y_resampled)"
   ]
  },
  {
   "cell_type": "markdown",
   "metadata": {},
   "source": [
    "Organizational Influence | Resource Management"
   ]
  },
  {
   "cell_type": "code",
   "execution_count": 113,
   "metadata": {},
   "outputs": [
    {
     "data": {
      "text/plain": [
       "<matplotlib.axes._subplots.AxesSubplot at 0x1a4815a110>"
      ]
     },
     "execution_count": 113,
     "metadata": {},
     "output_type": "execute_result"
    },
    {
     "data": {
      "image/png": "[encoded data removed]",
      "text/plain": [
       "<Figure size 432x288 with 1 Axes>"
      ]
     },
     "metadata": {},
     "output_type": "display_data"
    }
   ],
   "source": [
    "OI_RM_Y.value_counts().plot(kind='bar')"
   ]
  },
  {
   "cell_type": "code",
   "execution_count": 114,
   "metadata": {},
   "outputs": [],
   "source": [
    "OI_RM_X_resampled,OI_RM_Y_resampled=resample(x=OI_X,y=OI_RM_Y)"
   ]
  },
  {
   "cell_type": "code",
   "execution_count": 115,
   "metadata": {},
   "outputs": [
    {
     "data": {
      "text/plain": [
       "<matplotlib.axes._subplots.AxesSubplot at 0x1a4971c990>"
      ]
     },
     "execution_count": 115,
     "metadata": {},
     "output_type": "execute_result"
    },
    {
     "data": {
      "image/png": "[encoded data removed]",
      "text/plain": [
       "<Figure size 432x288 with 1 Axes>"
      ]
     },
     "metadata": {},
     "output_type": "display_data"
    }
   ],
   "source": [
    "pd.DataFrame(data=OI_RM_Y_resampled)[0].value_counts().plot(kind='bar')"
   ]
  },
  {
   "cell_type": "code",
   "execution_count": 116,
   "metadata": {},
   "outputs": [
    {
     "data": {
      "text/plain": [
       "(LGBMClassifier(boosting_type='gbdt', class_weight=None, colsample_bytree=1.0,\n",
       "         importance_type='split', learning_rate=0.05, max_depth=-1,\n",
       "         min_child_samples=20, min_child_weight=0.001, min_split_gain=0.0,\n",
       "         n_estimators=100, n_jobs=-1, num_leaves=35, objective='binary',\n",
       "         random_state=None, reg_alpha=0.0, reg_lambda=0.0, silent=True,\n",
       "         subsample=1.0, subsample_for_bin=200000, subsample_freq=0),\n",
       " 0.8660287081339713)"
      ]
     },
     "execution_count": 116,
     "metadata": {},
     "output_type": "execute_result"
    }
   ],
   "source": [
    "lgbmodel(OI_RM_X_resampled,OI_RM_Y_resampled)"
   ]
  },
  {
   "cell_type": "code",
   "execution_count": 117,
   "metadata": {},
   "outputs": [
    {
     "data": {
      "text/plain": [
       "(GaussianNB(priors=None, var_smoothing=1e-09), 0.8421052631578947)"
      ]
     },
     "execution_count": 117,
     "metadata": {},
     "output_type": "execute_result"
    }
   ],
   "source": [
    "NBmodel(OI_RM_X_resampled,OI_RM_Y_resampled)"
   ]
  },
  {
   "cell_type": "code",
   "execution_count": 118,
   "metadata": {},
   "outputs": [],
   "source": [
    "OI_RM_model,OI_RM_acc=RFmodel(OI_RM_X_resampled,OI_RM_Y_resampled)"
   ]
  },
  {
   "cell_type": "markdown",
   "metadata": {},
   "source": [
    "Precondition for unsafe acts | Adverse Mental State"
   ]
  },
  {
   "cell_type": "code",
   "execution_count": 119,
   "metadata": {},
   "outputs": [
    {
     "data": {
      "text/plain": [
       "<matplotlib.axes._subplots.AxesSubplot at 0x1a49b3c2d0>"
      ]
     },
     "execution_count": 119,
     "metadata": {},
     "output_type": "execute_result"
    },
    {
     "data": {
      "image/png": "[encoded data removed]",
      "text/plain": [
       "<Figure size 432x288 with 1 Axes>"
      ]
     },
     "metadata": {},
     "output_type": "display_data"
    }
   ],
   "source": [
    "PFUA_AMS_Y.value_counts().plot(kind='bar')"
   ]
  },
  {
   "cell_type": "code",
   "execution_count": 120,
   "metadata": {},
   "outputs": [],
   "source": [
    "PFUA_AMS_X_resampled,PFUA_AMS_Y_resampled=resample(x=PFUA_X,y=PFUA_AMS_Y)"
   ]
  },
  {
   "cell_type": "code",
   "execution_count": 121,
   "metadata": {},
   "outputs": [
    {
     "data": {
      "text/plain": [
       "<matplotlib.axes._subplots.AxesSubplot at 0x1a49de8e50>"
      ]
     },
     "execution_count": 121,
     "metadata": {},
     "output_type": "execute_result"
    },
    {
     "data": {
      "image/png": "[encoded data removed]",
      "text/plain": [
       "<Figure size 432x288 with 1 Axes>"
      ]
     },
     "metadata": {},
     "output_type": "display_data"
    }
   ],
   "source": [
    "pd.DataFrame(data=PFUA_AMS_Y_resampled)[0].value_counts().plot(kind='bar')"
   ]
  },
  {
   "cell_type": "code",
   "execution_count": 122,
   "metadata": {},
   "outputs": [],
   "source": [
    "PFUA_AMS_model,PFUA_AMS_acc=lgbmodel(PFUA_AMS_X_resampled,PFUA_AMS_Y_resampled)"
   ]
  },
  {
   "cell_type": "code",
   "execution_count": 123,
   "metadata": {},
   "outputs": [
    {
     "data": {
      "text/plain": [
       "(GaussianNB(priors=None, var_smoothing=1e-09), 0.7142857142857143)"
      ]
     },
     "execution_count": 123,
     "metadata": {},
     "output_type": "execute_result"
    }
   ],
   "source": [
    "NBmodel(PFUA_AMS_X_resampled,PFUA_AMS_Y_resampled)"
   ]
  },
  {
   "cell_type": "code",
   "execution_count": 124,
   "metadata": {},
   "outputs": [
    {
     "data": {
      "text/plain": [
       "(RandomForestClassifier(bootstrap=True, class_weight=None, criterion='gini',\n",
       "             max_depth=None, max_features='auto', max_leaf_nodes=None,\n",
       "             min_impurity_decrease=0.0, min_impurity_split=None,\n",
       "             min_samples_leaf=1, min_samples_split=2,\n",
       "             min_weight_fraction_leaf=0.0, n_estimators=25, n_jobs=None,\n",
       "             oob_score=False, random_state=10, verbose=0, warm_start=False),\n",
       " 0.6984126984126984)"
      ]
     },
     "execution_count": 124,
     "metadata": {},
     "output_type": "execute_result"
    }
   ],
   "source": [
    "RFmodel(PFUA_AMS_X_resampled,PFUA_AMS_Y_resampled)"
   ]
  },
  {
   "cell_type": "markdown",
   "metadata": {},
   "source": [
    "Precondition for unsafe acts | Mental Limitations"
   ]
  },
  {
   "cell_type": "code",
   "execution_count": 125,
   "metadata": {},
   "outputs": [
    {
     "data": {
      "text/plain": [
       "<matplotlib.axes._subplots.AxesSubplot at 0x1a49ef2150>"
      ]
     },
     "execution_count": 125,
     "metadata": {},
     "output_type": "execute_result"
    },
    {
     "data": {
      "image/png": "[encoded data removed]",
      "text/plain": [
       "<Figure size 432x288 with 1 Axes>"
      ]
     },
     "metadata": {},
     "output_type": "display_data"
    }
   ],
   "source": [
    "PFUA_ML_Y.value_counts().plot(kind='bar')"
   ]
  },
  {
   "cell_type": "code",
   "execution_count": 126,
   "metadata": {},
   "outputs": [],
   "source": [
    "PFUA_ML_X_resampled,PFUA_ML_Y_resampled=resample(x=PFUA_X,y=PFUA_ML_Y)"
   ]
  },
  {
   "cell_type": "code",
   "execution_count": 127,
   "metadata": {},
   "outputs": [
    {
     "data": {
      "text/plain": [
       "<matplotlib.axes._subplots.AxesSubplot at 0x1a49b28a90>"
      ]
     },
     "execution_count": 127,
     "metadata": {},
     "output_type": "execute_result"
    },
    {
     "data": {
      "image/png": "[encoded data removed]",
      "text/plain": [
       "<Figure size 432x288 with 1 Axes>"
      ]
     },
     "metadata": {},
     "output_type": "display_data"
    }
   ],
   "source": [
    "pd.DataFrame(data=PFUA_ML_Y_resampled)[0].value_counts().plot(kind='bar')"
   ]
  },
  {
   "cell_type": "code",
   "execution_count": 128,
   "metadata": {},
   "outputs": [
    {
     "data": {
      "text/plain": [
       "(LGBMClassifier(boosting_type='gbdt', class_weight=None, colsample_bytree=1.0,\n",
       "         importance_type='split', learning_rate=0.05, max_depth=-1,\n",
       "         min_child_samples=20, min_child_weight=0.001, min_split_gain=0.0,\n",
       "         n_estimators=100, n_jobs=-1, num_leaves=35, objective='binary',\n",
       "         random_state=None, reg_alpha=0.0, reg_lambda=0.0, silent=True,\n",
       "         subsample=1.0, subsample_for_bin=200000, subsample_freq=0),\n",
       " 0.9368421052631579)"
      ]
     },
     "execution_count": 128,
     "metadata": {},
     "output_type": "execute_result"
    }
   ],
   "source": [
    "lgbmodel(PFUA_ML_X_resampled,PFUA_ML_Y_resampled)"
   ]
  },
  {
   "cell_type": "code",
   "execution_count": 129,
   "metadata": {},
   "outputs": [
    {
     "data": {
      "text/plain": [
       "(GaussianNB(priors=None, var_smoothing=1e-09), 0.9631578947368421)"
      ]
     },
     "execution_count": 129,
     "metadata": {},
     "output_type": "execute_result"
    }
   ],
   "source": [
    "NBmodel(PFUA_ML_X_resampled,PFUA_ML_Y_resampled)"
   ]
  },
  {
   "cell_type": "code",
   "execution_count": 130,
   "metadata": {},
   "outputs": [],
   "source": [
    "PFUA_ML_model,PFUA_ML_acc=RFmodel(PFUA_ML_X_resampled,PFUA_ML_Y_resampled)"
   ]
  },
  {
   "cell_type": "markdown",
   "metadata": {},
   "source": [
    "Precondition for unsafe acts | Physical Environment"
   ]
  },
  {
   "cell_type": "code",
   "execution_count": 131,
   "metadata": {},
   "outputs": [
    {
     "data": {
      "text/plain": [
       "<matplotlib.axes._subplots.AxesSubplot at 0x1a4a1db250>"
      ]
     },
     "execution_count": 131,
     "metadata": {},
     "output_type": "execute_result"
    },
    {
     "data": {
      "image/png": "[encoded data removed]",
      "text/plain": [
       "<Figure size 432x288 with 1 Axes>"
      ]
     },
     "metadata": {},
     "output_type": "display_data"
    }
   ],
   "source": [
    "PFUA_PE_Y.value_counts().plot(kind='bar')"
   ]
  },
  {
   "cell_type": "code",
   "execution_count": 132,
   "metadata": {},
   "outputs": [],
   "source": [
    "PFUA_PE_X_resampled,PFUA_PE_Y_resampled=resample(x=PFUA_X,y=PFUA_PE_Y)"
   ]
  },
  {
   "cell_type": "code",
   "execution_count": 133,
   "metadata": {},
   "outputs": [
    {
     "data": {
      "text/plain": [
       "<matplotlib.axes._subplots.AxesSubplot at 0x1a49df3610>"
      ]
     },
     "execution_count": 133,
     "metadata": {},
     "output_type": "execute_result"
    },
    {
     "data": {
      "image/png": "[encoded data removed]",
      "text/plain": [
       "<Figure size 432x288 with 1 Axes>"
      ]
     },
     "metadata": {},
     "output_type": "display_data"
    }
   ],
   "source": [
    "pd.DataFrame(data=PFUA_PE_Y_resampled)[0].value_counts().plot(kind='bar')"
   ]
  },
  {
   "cell_type": "code",
   "execution_count": 134,
   "metadata": {},
   "outputs": [],
   "source": [
    "PFUA_PE_model,PFUA_PE_acc=lgbmodel(PFUA_PE_X_resampled,PFUA_PE_Y_resampled)"
   ]
  },
  {
   "cell_type": "code",
   "execution_count": 135,
   "metadata": {},
   "outputs": [
    {
     "data": {
      "text/plain": [
       "(GaussianNB(priors=None, var_smoothing=1e-09), 0.9027027027027027)"
      ]
     },
     "execution_count": 135,
     "metadata": {},
     "output_type": "execute_result"
    }
   ],
   "source": [
    "NBmodel(PFUA_PE_X_resampled,PFUA_PE_Y_resampled)"
   ]
  },
  {
   "cell_type": "code",
   "execution_count": 136,
   "metadata": {},
   "outputs": [
    {
     "data": {
      "text/plain": [
       "(RandomForestClassifier(bootstrap=True, class_weight=None, criterion='gini',\n",
       "             max_depth=None, max_features='auto', max_leaf_nodes=None,\n",
       "             min_impurity_decrease=0.0, min_impurity_split=None,\n",
       "             min_samples_leaf=1, min_samples_split=2,\n",
       "             min_weight_fraction_leaf=0.0, n_estimators=25, n_jobs=None,\n",
       "             oob_score=False, random_state=10, verbose=0, warm_start=False),\n",
       " 0.972972972972973)"
      ]
     },
     "execution_count": 136,
     "metadata": {},
     "output_type": "execute_result"
    }
   ],
   "source": [
    "RFmodel(PFUA_PE_X_resampled,PFUA_PE_Y_resampled)"
   ]
  },
  {
   "cell_type": "markdown",
   "metadata": {},
   "source": [
    "Precondition for unsafe acts | Technological Environment"
   ]
  },
  {
   "cell_type": "code",
   "execution_count": 137,
   "metadata": {},
   "outputs": [
    {
     "data": {
      "text/plain": [
       "<matplotlib.axes._subplots.AxesSubplot at 0x1a4a745190>"
      ]
     },
     "execution_count": 137,
     "metadata": {},
     "output_type": "execute_result"
    },
    {
     "data": {
      "image/png": "[encoded data removed]",
      "text/plain": [
       "<Figure size 432x288 with 1 Axes>"
      ]
     },
     "metadata": {},
     "output_type": "display_data"
    }
   ],
   "source": [
    "PFUA_TE_Y.value_counts().plot(kind='bar')"
   ]
  },
  {
   "cell_type": "code",
   "execution_count": 138,
   "metadata": {},
   "outputs": [],
   "source": [
    "PFUA_TE_X_resampled,PFUA_TE_Y_resampled=resample(x=PFUA_X,y=PFUA_TE_Y)"
   ]
  },
  {
   "cell_type": "code",
   "execution_count": 139,
   "metadata": {},
   "outputs": [
    {
     "data": {
      "text/plain": [
       "<matplotlib.axes._subplots.AxesSubplot at 0x1a4a1db490>"
      ]
     },
     "execution_count": 139,
     "metadata": {},
     "output_type": "execute_result"
    },
    {
     "data": {
      "image/png": "[encoded data removed]",
      "text/plain": [
       "<Figure size 432x288 with 1 Axes>"
      ]
     },
     "metadata": {},
     "output_type": "display_data"
    }
   ],
   "source": [
    "pd.DataFrame(data=PFUA_TE_Y_resampled)[0].value_counts().plot(kind='bar')"
   ]
  },
  {
   "cell_type": "code",
   "execution_count": 140,
   "metadata": {},
   "outputs": [
    {
     "data": {
      "text/plain": [
       "(LGBMClassifier(boosting_type='gbdt', class_weight=None, colsample_bytree=1.0,\n",
       "         importance_type='split', learning_rate=0.05, max_depth=-1,\n",
       "         min_child_samples=20, min_child_weight=0.001, min_split_gain=0.0,\n",
       "         n_estimators=100, n_jobs=-1, num_leaves=35, objective='binary',\n",
       "         random_state=None, reg_alpha=0.0, reg_lambda=0.0, silent=True,\n",
       "         subsample=1.0, subsample_for_bin=200000, subsample_freq=0),\n",
       " 0.9139784946236559)"
      ]
     },
     "execution_count": 140,
     "metadata": {},
     "output_type": "execute_result"
    }
   ],
   "source": [
    "lgbmodel(PFUA_TE_X_resampled,PFUA_TE_Y_resampled)"
   ]
  },
  {
   "cell_type": "code",
   "execution_count": 141,
   "metadata": {},
   "outputs": [
    {
     "data": {
      "text/plain": [
       "(GaussianNB(priors=None, var_smoothing=1e-09), 0.8924731182795699)"
      ]
     },
     "execution_count": 141,
     "metadata": {},
     "output_type": "execute_result"
    }
   ],
   "source": [
    "NBmodel(PFUA_TE_X_resampled,PFUA_TE_Y_resampled)"
   ]
  },
  {
   "cell_type": "code",
   "execution_count": 142,
   "metadata": {},
   "outputs": [],
   "source": [
    "PFUA_TE_model,PFUA_TE_acc=RFmodel(PFUA_TE_X_resampled,PFUA_TE_Y_resampled)"
   ]
  },
  {
   "cell_type": "markdown",
   "metadata": {},
   "source": [
    "Precondition for unsafe acts | Coordination and communication"
   ]
  },
  {
   "cell_type": "code",
   "execution_count": 143,
   "metadata": {},
   "outputs": [
    {
     "data": {
      "text/plain": [
       "<matplotlib.axes._subplots.AxesSubplot at 0x1a63406110>"
      ]
     },
     "execution_count": 143,
     "metadata": {},
     "output_type": "execute_result"
    },
    {
     "data": {
      "image/png": "[encoded data removed]",
      "text/plain": [
       "<Figure size 432x288 with 1 Axes>"
      ]
     },
     "metadata": {},
     "output_type": "display_data"
    }
   ],
   "source": [
    "PFUA_CC_Y.value_counts().plot(kind='bar')"
   ]
  },
  {
   "cell_type": "code",
   "execution_count": 144,
   "metadata": {},
   "outputs": [],
   "source": [
    "PFUA_CC_X_resampled,PFUA_CC_Y_resampled=resample(x=PFUA_X,y=PFUA_CC_Y)"
   ]
  },
  {
   "cell_type": "code",
   "execution_count": 145,
   "metadata": {},
   "outputs": [
    {
     "data": {
      "text/plain": [
       "<matplotlib.axes._subplots.AxesSubplot at 0x1a63422d50>"
      ]
     },
     "execution_count": 145,
     "metadata": {},
     "output_type": "execute_result"
    },
    {
     "data": {
      "image/png": "[encoded data removed]",
      "text/plain": [
       "<Figure size 432x288 with 1 Axes>"
      ]
     },
     "metadata": {},
     "output_type": "display_data"
    }
   ],
   "source": [
    "pd.DataFrame(data=PFUA_CC_Y_resampled)[0].value_counts().plot(kind='bar')"
   ]
  },
  {
   "cell_type": "code",
   "execution_count": 146,
   "metadata": {},
   "outputs": [
    {
     "data": {
      "text/plain": [
       "(LGBMClassifier(boosting_type='gbdt', class_weight=None, colsample_bytree=1.0,\n",
       "         importance_type='split', learning_rate=0.05, max_depth=-1,\n",
       "         min_child_samples=20, min_child_weight=0.001, min_split_gain=0.0,\n",
       "         n_estimators=100, n_jobs=-1, num_leaves=35, objective='binary',\n",
       "         random_state=None, reg_alpha=0.0, reg_lambda=0.0, silent=True,\n",
       "         subsample=1.0, subsample_for_bin=200000, subsample_freq=0),\n",
       " 0.7191780821917808)"
      ]
     },
     "execution_count": 146,
     "metadata": {},
     "output_type": "execute_result"
    }
   ],
   "source": [
    "lgbmodel(PFUA_CC_X_resampled,PFUA_CC_Y_resampled)"
   ]
  },
  {
   "cell_type": "code",
   "execution_count": 147,
   "metadata": {},
   "outputs": [],
   "source": [
    "PFUA_CC_model,PFUA_CC_acc=NBmodel(PFUA_CC_X_resampled,PFUA_CC_Y_resampled)"
   ]
  },
  {
   "cell_type": "code",
   "execution_count": 148,
   "metadata": {},
   "outputs": [
    {
     "data": {
      "text/plain": [
       "(RandomForestClassifier(bootstrap=True, class_weight=None, criterion='gini',\n",
       "             max_depth=None, max_features='auto', max_leaf_nodes=None,\n",
       "             min_impurity_decrease=0.0, min_impurity_split=None,\n",
       "             min_samples_leaf=1, min_samples_split=2,\n",
       "             min_weight_fraction_leaf=0.0, n_estimators=25, n_jobs=None,\n",
       "             oob_score=False, random_state=10, verbose=0, warm_start=False),\n",
       " 0.7876712328767124)"
      ]
     },
     "execution_count": 148,
     "metadata": {},
     "output_type": "execute_result"
    }
   ],
   "source": [
    "RFmodel(PFUA_CC_X_resampled,PFUA_CC_Y_resampled)"
   ]
  },
  {
   "cell_type": "markdown",
   "metadata": {},
   "source": [
    "<center><font size=10>Important features</font></center>"
   ]
  },
  {
   "cell_type": "code",
   "execution_count": 7,
   "metadata": {
    "scrolled": true
   },
   "outputs": [],
   "source": [
    "finallevel=pd.read_csv('./Reports.csv')"
   ]
  },
  {
   "cell_type": "code",
   "execution_count": 154,
   "metadata": {
    "scrolled": true
   },
   "outputs": [],
   "source": [
    "listoflist=[]\n",
    "countcheck=[]\n",
    "index=[]\n",
    "for i in range(len(finallevel)):\n",
    "    if i<len(nlpdata):\n",
    "        if type(finallevel['H*****'][i])!=float:\n",
    "            temp=sp(finallevel['H*****'][i].replace(\" \",\"\"))\n",
    "            t=''\n",
    "            tt=[]\n",
    "            for j in temp:\n",
    "                if j!='':\n",
    "                    try:\n",
    "                        t=t+sp2(j)[3]+'|'\n",
    "                        tt.append(sp2(j)[3])\n",
    "                        countcheck.append(sp2(j)[3])\n",
    "                    except:\n",
    "                        t=t\n",
    "            index.append(i)\n",
    "            listoflist.append(tt)\n",
    "        else:\n",
    "            listoflist.append([])"
   ]
  },
  {
   "cell_type": "code",
   "execution_count": 156,
   "metadata": {},
   "outputs": [],
   "source": [
    "counts=pd.DataFrame(data=countcheck)[0].value_counts()"
   ]
  },
  {
   "cell_type": "code",
   "execution_count": 157,
   "metadata": {
    "scrolled": true
   },
   "outputs": [],
   "source": [
    "COUNTS=pd.DataFrame(data=counts)"
   ]
  },
  {
   "cell_type": "code",
   "execution_count": 159,
   "metadata": {},
   "outputs": [],
   "source": [
    "classselection=COUNTS.index[COUNTS[0]>30]"
   ]
  },
  {
   "cell_type": "code",
   "execution_count": 160,
   "metadata": {},
   "outputs": [],
   "source": [
    "classselection=[a.encode('utf-8') for a in classselection]"
   ]
  },
  {
   "cell_type": "code",
   "execution_count": 162,
   "metadata": {},
   "outputs": [],
   "source": [
    "temp=[]\n",
    "finalclass={}\n",
    "for i in classselection:\n",
    "    if i not in temp:\n",
    "        temp.append(i)\n",
    "        t=[]\n",
    "        for j in listoflist:\n",
    "            if i in j:\n",
    "                t.append(1)\n",
    "            else:\n",
    "                t.append(0)\n",
    "    finalclass[i]=t"
   ]
  },
  {
   "cell_type": "code",
   "execution_count": 164,
   "metadata": {},
   "outputs": [],
   "source": [
    "keys=finalclass.keys()"
   ]
  },
  {
   "cell_type": "code",
   "execution_count": 165,
   "metadata": {},
   "outputs": [],
   "source": [
    "con=lambda x : ''.join(e for e in x if e.isalnum())"
   ]
  },
  {
   "cell_type": "code",
   "execution_count": 166,
   "metadata": {},
   "outputs": [],
   "source": [
    "XX=preprocessedX"
   ]
  },
  {
   "cell_type": "code",
   "execution_count": 168,
   "metadata": {
    "scrolled": true
   },
   "outputs": [],
   "source": [
    "for k in keys:\n",
    "    exec(\"{0}_X_resampled,{0}_Y_resampled=resample(XX,finalclass['{1}'])\".format(con(k),k))\n",
    "    exec(\"{0}_model,{0}_acc=RFmodel({0}_X_resampled,{0}_Y_resampled)\".format(con(k)))\n",
    "    exec(\"{0}_acc\".format(con(k)))"
   ]
  },
  {
   "cell_type": "code",
   "execution_count": 170,
   "metadata": {},
   "outputs": [
    {
     "name": "stdout",
     "output_type": "stream",
     "text": [
      "('Failedtofollowtechnical/safetyprocedures -', 0.9845814977973568)\n",
      "('Lackingtechnicalproceduralknowledge -', 0.9936034115138592)\n",
      "('Misreading/MisinterpretingPaperwork -', 0.9585308056872038)\n",
      "('Mindset/preconceivedidea/expectancy -', 0.9978835978835979)\n",
      "('Procedures/directivesnotfollowed -', 0.935251798561151)\n",
      "('FailedToFollowTechnical/SafetyProcedures -', 0.9967948717948718)\n",
      "('Complacency -', 0.9978768577494692)\n",
      "('Confusion -', 0.9968017057569296)\n",
      "('Inattention -', 0.990301724137931)\n",
      "('Aircraftsystemsnotrestoredfollowingmaintenance(e.g.,MELprocedures,gearpins) -', 0.9978700745473909)\n",
      "('Failedtocomplywithtrainingguidelinesand/orOperatingGuidelinesbyindividualorgroup -', 0.9978880675818373)\n",
      "('Reversed/OmittedStepInProcedure -', 0.9968085106382979)\n",
      "('ImproperProcedurePerformed -', 0.9945887445887446)\n",
      "('Channelizedattention/taskfixation/tunnelvision -', 0.9989429175475687)\n",
      "('AcceptedUnnecessaryHazard -', 0.9978768577494692)\n",
      "('FailureToProperlyInspect -', 0.9946638207043756)\n",
      "('Inadequatetechnologicaldesignoruser-interface(e.g.,manuals,checklists,displays,instruments) -', 1.0)\n",
      "('Verificationtechniquesnotused -', 1.0)\n",
      "('Acceptedunnecessaryhazard -', 0.9967914438502674)\n",
      "('LapseOfMemory/RecallForProcedure -', 0.9659863945578231)\n",
      "('Lackofteamworkorcoordinationofactivities -', 0.9957173447537473)\n",
      "('FailureToIdentifyRisk/Hazard -', 0.9968186638388123)\n",
      "('FailureToTakeAppropriateActionRegardingKnownHazard -', 0.9924487594390508)\n",
      "('Improperlyinstalled/removedpart -', 0.9880304678998912)\n",
      "('Information/manual/taskcard/instructionnotusedorfollowed -', 0.9978768577494692)\n",
      "('Maintenanceitemnotsecured(e.g.accesspanels,fairings,cowlings,oil/fuelcaps,etc) -', 0.9989406779661016)\n",
      "('Inadequate/ineffectivecommunicationbetweenteams(cabincrew/mechanics/flightcrew/leadership/departments) -', 0.9957173447537473)\n",
      "('Confusing/conflictingdirections/demandsbyteammember -', 0.9989361702127659)\n",
      "('MisinterpretationOfInformation -', 0.9957264957264957)\n"
     ]
    }
   ],
   "source": [
    "for k in keys:\n",
    "    exec(\"print('{1} -',{0}_acc)\".format(con(k),k))"
   ]
  },
  {
   "cell_type": "markdown",
   "metadata": {},
   "source": [
    "<center><font size=10>Model Layout</font></center>"
   ]
  },
  {
   "cell_type": "code",
   "execution_count": 8,
   "metadata": {},
   "outputs": [],
   "source": [
    "ExcellHFACS=pd.ExcelFile('./H***** Summary.xlsx')"
   ]
  },
  {
   "cell_type": "code",
   "execution_count": 172,
   "metadata": {},
   "outputs": [],
   "source": [
    "HFACSSummary=pd.read_excel(ExcellHFACS,'Category Codes')"
   ]
  },
  {
   "cell_type": "code",
   "execution_count": 173,
   "metadata": {},
   "outputs": [],
   "source": [
    "for i in range(len(HFACSSummary)):\n",
    "    if type(HFACSSummary['Level 2'][i])==float:\n",
    "        HFACSSummary['Level 2'][i]='Not Available'"
   ]
  },
  {
   "cell_type": "code",
   "execution_count": 174,
   "metadata": {},
   "outputs": [],
   "source": [
    "HFACSSummary['Level 1']=[a.replace(\" \",\"\") for a in HFACSSummary['Level 1']]\n",
    "HFACSSummary['Level 2']=[a.replace(\" \",\"\") for a in HFACSSummary['Level 2']]"
   ]
  },
  {
   "cell_type": "code",
   "execution_count": 175,
   "metadata": {},
   "outputs": [],
   "source": [
    "dictoffinallevel={}\n",
    "for k in keys:\n",
    "    kkk=dictoffinallevel.keys()\n",
    "    kk=list(HFACSSummary['Level 1'].ix[HFACSSummary['Level 2']==k])[0].encode('utf-8').lower()\n",
    "    if kk not in kkk:\n",
    "        dictoffinallevel[kk]={k:['{0}_model'.format(con(k))]}\n",
    "    else:\n",
    "        dictoffinallevel[kk][k]=['{0}_model'.format(con(k))]"
   ]
  },
  {
   "cell_type": "code",
   "execution_count": 177,
   "metadata": {},
   "outputs": [],
   "source": [
    "layer1={'un*****':[UA_model],'p*****':[PFUA_model],'or*****':[OI_model]}\n",
    "preconditionforunsafeacts={'ad*****':[PFUA_AMS_model],'m*****':[PFUA_ML_model],'p*****':[PFUA_PE_model],'t*****':[PFUA_TE_model],'c*****':[PFUA_CC_model]}\n",
    "unsafeacts={'d*****':[UA_DE_model],'pe*****':[UA_PE_model],'s*****':[UA_SBE_model],'e*****':[UA_EV_model],'r*****':[UA_RV_model]}\n",
    "organizationalinfluence={'o*****':[OI_OC_model],'op*****':[OI_OP_model],'r*****':[OI_RM_model]}\n"
   ]
  },
  {
   "cell_type": "code",
   "execution_count": 178,
   "metadata": {},
   "outputs": [],
   "source": [
    "for k in layer1.keys():\n",
    "    exec('{0}_prediction=[]'.format(k))\n",
    "for k in preconditionforunsafeacts.keys():\n",
    "    exec('{0}_prediction=[]'.format(k))\n",
    "for k in unsafeacts.keys():\n",
    "    exec('{0}_prediction=[]'.format(k))\n",
    "for k in organizationalinfluence.keys():\n",
    "    exec('{0}_prediction=[]'.format(k))"
   ]
  },
  {
   "cell_type": "code",
   "execution_count": 179,
   "metadata": {},
   "outputs": [],
   "source": [
    "for kk in dictoffinallevel.keys():\n",
    "    for k in dictoffinallevel[kk].keys():\n",
    "        exec('{0}_prediction=[]'.format(con(k)))"
   ]
  },
  {
   "cell_type": "code",
   "execution_count": 180,
   "metadata": {},
   "outputs": [],
   "source": [
    "code_level2='''\n",
    "temp=[]\n",
    "check=0\n",
    "for ii in {0}_prediction:\n",
    "    if ii==1:\n",
    "        temp.append({1}_prediction[check])\n",
    "        check+=1\n",
    "    else:\n",
    "        temp.append(0)'''\n",
    "code_level3='''\n",
    "temp=[]\n",
    "check=0\n",
    "for iii in predicted_levels['{0}']:\n",
    "    if iii==1:\n",
    "        temp.append(pre[check])\n",
    "        check+=1\n",
    "    else:\n",
    "        temp.append(0)'''"
   ]
  },
  {
   "cell_type": "code",
   "execution_count": 181,
   "metadata": {},
   "outputs": [],
   "source": [
    "def integratedmodel(data):\n",
    "    data=np.asarray(data)\n",
    "    predicted_levels={}\n",
    "    for i in layer1.keys():\n",
    "        try:\n",
    "            exec(\"{0}_prediction=layer1['{0}'][0].predict(data)\".format(i))\n",
    "        except:\n",
    "            exec(\"{0}_prediction=[0]*len(data)\".format(i))\n",
    "        exec(\"{0}_X=data[np.where(np.asarray({0}_prediction)==1)]\".format(i))\n",
    "        exec(\"predicted_levels['{0}']={0}_prediction\".format(i))\n",
    "        print(i)\n",
    "        for j in eval(\"{0}\".format(i)).keys():\n",
    "            try:\n",
    "                exec(\"{1}_prediction={0}['{1}'][0].predict({0}_X)\".format(i,j))\n",
    "            except:\n",
    "                exec(\"{1}_prediction=[0]*len({0}_X)\".format(i,j))\n",
    "            exec(\"{1}_X={0}_X[np.where(np.asarray({1}_prediction)==1)]\".format(i,j))\n",
    "            exec(code_level2.format(i,j))\n",
    "            exec(\"predicted_levels['{0}']=temp\".format(j))\n",
    "            print '\\t',j\n",
    "            if j in dictoffinallevel.keys():\n",
    "                for k in eval(\"dictoffinallevel['{0}']\".format(j)).keys():\n",
    "                    print '\\t\\t',k\n",
    "                    mm=eval(eval(\"dictoffinallevel['{0}']['{1}'][0]\".format(j,k)))\n",
    "                    try:\n",
    "                        pre=eval(\"mm.predict({0}_X)\".format(j))\n",
    "                    except:\n",
    "                        pre=[0]*eval(\"len({0}_X)\".format(j))\n",
    "                    exec(code_level3.format(j,k))\n",
    "                    exec(\"predicted_levels['{0}']=temp\".format(k))\n",
    "    return(predicted_levels)"
   ]
  },
  {
   "cell_type": "code",
   "execution_count": 182,
   "metadata": {
    "scrolled": false
   },
   "outputs": [
    {
     "name": "stdout",
     "output_type": "stream",
     "text": [
      "organizationalinfluence\n",
      "\toperationalprocess\n",
      "\toperationalclimate\n",
      "\tresourcemanagement\n",
      "unsafeacts\n",
      "\tperceptualerrors\n",
      "\t\tFailureToIdentifyRisk/Hazard\n",
      "\tskillbasederrors\n",
      "\t\tReversed/OmittedStepInProcedure\n",
      "\t\tLapseOfMemory/RecallForProcedure\n",
      "\t\tMisreading/MisinterpretingPaperwork\n",
      "\t\tAircraftsystemsnotrestoredfollowingmaintenance(e.g.,MELprocedures,gearpins)\n",
      "\t\tMaintenanceitemnotsecured(e.g.accesspanels,fairings,cowlings,oil/fuelcaps,etc)\n",
      "\troutineviolations\n",
      "\t\tFailedtocomplywithtrainingguidelinesand/orOperatingGuidelinesbyindividualorgroup\n",
      "\t\tProcedures/directivesnotfollowed\n",
      "\t\tFailedtofollowtechnical/safetyprocedures\n",
      "\t\tAcceptedunnecessaryhazard\n",
      "\t\tFailureToProperlyInspect\n",
      "\tdecisionerrors\n",
      "\t\tImproperProcedurePerformed\n",
      "\t\tMisinterpretationOfInformation\n",
      "\t\tFailureToTakeAppropriateActionRegardingKnownHazard\n",
      "\texceptionalviolations\n",
      "\t\tFailedToFollowTechnical/SafetyProcedures\n",
      "\t\tImproperlyinstalled/removedpart\n",
      "\t\tInformation/manual/taskcard/instructionnotusedorfollowed\n",
      "\t\tAcceptedUnnecessaryHazard\n",
      "preconditionforunsafeacts\n",
      "\tadversementalstates\n",
      "\t\tMindset/preconceivedidea/expectancy\n",
      "\t\tInattention\n",
      "\t\tChannelizedattention/taskfixation/tunnelvision\n",
      "\t\tComplacency\n",
      "\t\tConfusion\n",
      "\ttechnologicalenvironment\n",
      "\t\tInadequatetechnologicaldesignoruser-interface(e.g.,manuals,checklists,displays,instruments)\n",
      "\tcoordinationandcommunication\n",
      "\t\tVerificationtechniquesnotused\n",
      "\t\tLackofteamworkorcoordinationofactivities\n",
      "\t\tInadequate/ineffectivecommunicationbetweenteams(cabincrew/mechanics/flightcrew/leadership/departments)\n",
      "\t\tConfusing/conflictingdirections/demandsbyteammember\n",
      "\tphysicalenvironment\n",
      "\tmentallimitations\n",
      "\t\tLackingtechnicalproceduralknowledge\n"
     ]
    }
   ],
   "source": [
    "predicted_levels=integratedmodel(preprocessedX)"
   ]
  },
  {
   "cell_type": "code",
   "execution_count": 183,
   "metadata": {
    "scrolled": true
   },
   "outputs": [],
   "source": [
    "Y_org=nlpdata[nlpdata.columns[20:]]"
   ]
  },
  {
   "cell_type": "code",
   "execution_count": 184,
   "metadata": {},
   "outputs": [],
   "source": [
    "Y_original={}\n",
    "for i in Y_org.columns:\n",
    "    if i=='U*****':\n",
    "        ii='u*****'\n",
    "    if i=='P*****':\n",
    "        ii='p*****'\n",
    "    if i=='U*****' or i=='P*****':\n",
    "        Y_original[con(ii).lower()]=list(Y_org[i])\n",
    "    else:\n",
    "        Y_original[con(i).lower()]=list(Y_org[i])\n",
    "for i in keys:\n",
    "    Y_original[i]=list(finalclass[i])"
   ]
  },
  {
   "cell_type": "code",
   "execution_count": 191,
   "metadata": {},
   "outputs": [],
   "source": [
    "def completematchaccuracy(listtocompare):\n",
    "    index=[a for a in range(len(nlpdata))]\n",
    "    for i in range(len(listtocompare)):\n",
    "        temp=0\n",
    "        Y_true=list(np.asarray(Y_original[listtocompare[i]])[index])\n",
    "        Y_pred=list(np.asarray(predicted_levels[listtocompare[i]])[index])\n",
    "        t=[]\n",
    "        for j in range(len(index)):\n",
    "            if (Y_true[j]==Y_pred[j]):\n",
    "                temp+=1\n",
    "                t.append(j)\n",
    "        index=t\n",
    "    acc=float(temp)/len(nlpdata)\n",
    "    return(acc)"
   ]
  },
  {
   "cell_type": "code",
   "execution_count": 192,
   "metadata": {},
   "outputs": [],
   "source": [
    "def partialmathaccuracy(listtocompare):\n",
    "    index=[a for a in range(len(nlpdata))]\n",
    "    for i in range(len(listtocompare)):\n",
    "        temp=0\n",
    "        Y_true=list(np.asarray(Y_original[listtocompare[i]])[index])\n",
    "        Y_pred=list(np.asarray(predicted_levels[listtocompare[i]])[index])\n",
    "        t=[]\n",
    "        for j in range(len(index)):\n",
    "            if (Y_true[j]!=Y_pred[j]):\n",
    "                temp+=1\n",
    "                t.append(j)\n",
    "        index=t\n",
    "    acc=float(temp)/len(nlpdata)\n",
    "    return(1-acc)"
   ]
  },
  {
   "cell_type": "markdown",
   "metadata": {},
   "source": [
    "<center><font size=10>Level 1</font></center>\n",
    "<center><font size=5>(Unsafe Acts,Precondition for unsafe acts, Organizational influence)</font></center>"
   ]
  },
  {
   "cell_type": "code",
   "execution_count": 188,
   "metadata": {},
   "outputs": [],
   "source": [
    "level1components=layer1.keys()"
   ]
  },
  {
   "cell_type": "code",
   "execution_count": 193,
   "metadata": {},
   "outputs": [
    {
     "data": {
      "text/plain": [
       "1.0"
      ]
     },
     "execution_count": 193,
     "metadata": {},
     "output_type": "execute_result"
    }
   ],
   "source": [
    "partialmathaccuracy(listtocompare=level1components)"
   ]
  },
  {
   "cell_type": "code",
   "execution_count": 194,
   "metadata": {},
   "outputs": [
    {
     "data": {
      "text/plain": [
       "0.878231859883236"
      ]
     },
     "execution_count": 194,
     "metadata": {},
     "output_type": "execute_result"
    }
   ],
   "source": [
    " completematchaccuracy(listtocompare=level1components)"
   ]
  },
  {
   "cell_type": "markdown",
   "metadata": {},
   "source": [
    "<center><font size=10>Level 2</font></center>"
   ]
  },
  {
   "cell_type": "code",
   "execution_count": 195,
   "metadata": {},
   "outputs": [],
   "source": [
    "level2components=unsafeacts.keys()+preconditionforunsafeacts.keys()+organizationalinfluence.keys()"
   ]
  },
  {
   "cell_type": "code",
   "execution_count": 197,
   "metadata": {},
   "outputs": [
    {
     "data": {
      "text/plain": [
       "1.0"
      ]
     },
     "execution_count": 197,
     "metadata": {},
     "output_type": "execute_result"
    }
   ],
   "source": [
    "partialmathaccuracy(listtocompare=level2components)"
   ]
  },
  {
   "cell_type": "code",
   "execution_count": 198,
   "metadata": {},
   "outputs": [
    {
     "data": {
      "text/plain": [
       "0.6839032527105922"
      ]
     },
     "execution_count": 198,
     "metadata": {},
     "output_type": "execute_result"
    }
   ],
   "source": [
    "completematchaccuracy(listtocompare=level2components)"
   ]
  },
  {
   "cell_type": "markdown",
   "metadata": {},
   "source": [
    "<center><font size=10>Level 3</font></center>"
   ]
  },
  {
   "cell_type": "code",
   "execution_count": 199,
   "metadata": {},
   "outputs": [],
   "source": [
    "level3components=com(predicted_levels.keys(),(level1components+level2components))"
   ]
  },
  {
   "cell_type": "code",
   "execution_count": 201,
   "metadata": {},
   "outputs": [
    {
     "data": {
      "text/plain": [
       "1.0"
      ]
     },
     "execution_count": 201,
     "metadata": {},
     "output_type": "execute_result"
    }
   ],
   "source": [
    "partialmathaccuracy(listtocompare=level3components)"
   ]
  },
  {
   "cell_type": "code",
   "execution_count": 202,
   "metadata": {},
   "outputs": [
    {
     "data": {
      "text/plain": [
       "0.45287739783152625"
      ]
     },
     "execution_count": 202,
     "metadata": {},
     "output_type": "execute_result"
    }
   ],
   "source": [
    "completematchaccuracy(listtocompare=level3components)"
   ]
  },
  {
   "cell_type": "markdown",
   "metadata": {},
   "source": [
    "<center><font size=10>Complete measures</font></center>"
   ]
  },
  {
   "cell_type": "code",
   "execution_count": 203,
   "metadata": {},
   "outputs": [
    {
     "data": {
      "text/plain": [
       "1.0"
      ]
     },
     "execution_count": 203,
     "metadata": {},
     "output_type": "execute_result"
    }
   ],
   "source": [
    "partialmathaccuracy(listtocompare=predicted_levels.keys())"
   ]
  },
  {
   "cell_type": "code",
   "execution_count": 204,
   "metadata": {},
   "outputs": [
    {
     "data": {
      "text/plain": [
       "0.26980817347789826"
      ]
     },
     "execution_count": 204,
     "metadata": {},
     "output_type": "execute_result"
    }
   ],
   "source": [
    "completematchaccuracy(listtocompare=predicted_levels.keys())"
   ]
  },
  {
   "cell_type": "markdown",
   "metadata": {},
   "source": [
    "<font></font>"
   ]
  },
  {
   "cell_type": "markdown",
   "metadata": {},
   "source": [
    "<center><font size=10>New data</font></center>"
   ]
  },
  {
   "cell_type": "code",
   "execution_count": 9,
   "metadata": {},
   "outputs": [],
   "source": [
    "new_nlpdata=pd.read_csv('./csv_round2/NLPwithbinarizer.csv')"
   ]
  },
  {
   "cell_type": "code",
   "execution_count": 320,
   "metadata": {},
   "outputs": [
    {
     "name": "stdout",
     "output_type": "stream",
     "text": [
      "report_id\n",
      "HFACS\n",
      "date\n",
      "SHIFT\n",
      "WORKING_OVERTIME\n",
      "HOURS_OF_OVERTIME\n",
      "HOURS_ON_DUTY\n",
      "ATA_CHAPTER\n",
      "INCIDENT_INVOLVES\n",
      "aircraftType\n",
      "flightPhase\n",
      "departure\n",
      "arrival\n",
      "THREATS\n",
      "EVENTS\n",
      "issue\n",
      "narrative\n",
      "Suggestions\n",
      "Committee Investigation\n",
      "SME_REVIEW\n",
      "Unsafeact\n",
      "Organizationalinfluence\n",
      "PreconditionsforUnsafeacts\n"
     ]
    }
   ],
   "source": [
    "for i in new_nlpdata.columns:\n",
    "    new_temp=[]\n",
    "    temp=new_nlpdata[i]\n",
    "    for j in range(len(temp)):\n",
    "        if (type(temp[j])!=float) and (type(temp[j])!=np.float64) and (type(temp[j])!=np.int64):\n",
    "            new_temp.append(temp[j].rstrip())\n",
    "        else:\n",
    "            new_temp.append(temp[j])\n",
    "    print(i)\n",
    "    new_nlpdata[i]=new_temp"
   ]
  },
  {
   "cell_type": "code",
   "execution_count": 322,
   "metadata": {},
   "outputs": [],
   "source": [
    "def onehot_prediction(y):\n",
    "    labencoder=labelencoder_object[onehot_prediction.counter%6]\n",
    "    encoder=onehot_object[onehot_prediction.counter%6]\n",
    "    inter=labencoder.transform(y)\n",
    "    result=encoder.transform(inter.reshape(-1,1))\n",
    "    result=np.ndarray.tolist(result)\n",
    "    onehot_prediction.counter+=1\n",
    "    return result\n",
    "onehot_prediction.counter=0"
   ]
  },
  {
   "cell_type": "code",
   "execution_count": 323,
   "metadata": {},
   "outputs": [],
   "source": [
    "mode=lambda x :max(set(x), key=x.count)\n",
    "new_nlpdata['A*****']=nlpdata['A*****'][1]\n",
    "new_nlpdata['I*****']=nlpdata['I*****'][1]"
   ]
  },
  {
   "cell_type": "code",
   "execution_count": 324,
   "metadata": {},
   "outputs": [],
   "source": [
    "def preprocessing_prediction(data):\n",
    "    data=data.reset_index()\n",
    "    del data['index']\n",
    "    del data['H*****']\n",
    "    dict={}\n",
    "    for i in range(9+4):\n",
    "        dict['col{0}'.format(i+1)]=[]\n",
    "    for i in range(len(data)):\n",
    "        if pd.isna(data['date'][i]):\n",
    "            j=0\n",
    "        else:\n",
    "            datestripped=datetime.strptime(data['date'][i],'%Y-%m-%d')\n",
    "            date=str(datestripped.year)+'-1-1'\n",
    "            new_year = datetime.strptime(date,'%Y-%m-%d')\n",
    "            data['date'][i]=(datestripped-new_year).days+1\n",
    "    dict['col0']=list(fillmissing(data['date'],'mean'))\n",
    "    dict['col1']=list(onehot_prediction(fillmissing(data['S*****'],'mode')))\n",
    "    dict['col2']=list(onehot_prediction(fillmissing(data['W*****'],'mode')))\n",
    "    workingovertime=fillmissing(data['W*****'],'mode')\n",
    "    for i in range(len(data)):\n",
    "        if workingovertime[i]=='No':\n",
    "            data['H*****'][i]=0\n",
    "        else:\n",
    "            if not pd.isna(data['H*****'][i]):\n",
    "                splited=str(data['H*****'][i]).split(' ')\n",
    "                for j in range(len(splited)):\n",
    "                    try:\n",
    "                        if type(int(splited[j]))==int:\n",
    "                            data['H*****'][i]=int(splited[j])\n",
    "                    except:\n",
    "                        k=0\n",
    "            else:\n",
    "                data['H*****'][i]=0\n",
    "    dict['col3']=list(data['H*****'])\n",
    "    for i in range(len(data)):\n",
    "        if pd.isna(data['H*****'][i]):\n",
    "            zz=0\n",
    "        else:\n",
    "            splited=str(data['H*****'][i]).split(' ')\n",
    "            for j in range(len(splited)):\n",
    "                try:\n",
    "                    if type(int(splited[j]))==int:\n",
    "                        data['H*****'][i]=int(splited[j])\n",
    "                except:\n",
    "                    zz=0\n",
    "    for i in range(len(data)):\n",
    "        if type(data['H*****'][i])!=int:\n",
    "            data['H*****'][i]=0\n",
    "    dict['col4']=list(fillmissing(data['H*****'],'mean'))\n",
    "    forref=set(data['A*****'])\n",
    "    for i in range(len(data)):\n",
    "        if pd.isna(data['A*****'][i]):\n",
    "            zz=0\n",
    "        else:\n",
    "            splited=str(data['A*****'][i]).split('.')\n",
    "            for j in range(len(splited)):\n",
    "                try:\n",
    "                    if type(int(splited[j]))==int:\n",
    "                        data['A*****'][i]=int(splited[j])\n",
    "                except:\n",
    "                    zz=0\n",
    "    dict['col5']=list(onehot_prediction(fillmissing(data['A*****'],'mode')))\n",
    "    dict['col6']=list(onehot_prediction(fillmissing(data['I*****'],'mode')))\n",
    "    for j in range(len(data)):\n",
    "        if (data['a*****'][j]=='737') or (data['a*****'][j]=='EMB 170'):\n",
    "            data['a*****'][j]=nlpdata['a*****'][0]\n",
    "    dict['col7']=list(onehot_prediction(fillmissing(data['a*****'],'mode')))\n",
    "    dict['col8']=list(onehot_prediction(fillmissing(data['f*****'],'mode')))\n",
    "    check=lambda x: missing(x)\n",
    "    columns=['i*****','n*****','S*****','C*****','S*****']\n",
    "    dict_tfidf={}\n",
    "    dict_topwords={'i*****':[],'n*****':[],'S*****':[],'C*****':[],'S*****':[]}\n",
    "    for k in columns:\n",
    "        dict_tfidf['{0}'.format(k)]=[]\n",
    "        c=check(data[k])\n",
    "        temp=[]\n",
    "        for i in range(len(data[k])):\n",
    "            if not c[i]:\n",
    "                temp.append(data[k][i])\n",
    "            else:\n",
    "                temp.append('not available')\n",
    "        vector=tfidfvec.transform(temp)\n",
    "        words=tfidfvec.get_feature_names()\n",
    "        array=vector.toarray()\n",
    "        index=np.argsort(tfidfvec.idf_)[::-1]\n",
    "        top_features = [words[i] for i in index[:5000]]\n",
    "        temp_words=[words[i] for i in index[:10]]\n",
    "        dict_topwords[k].append(temp_words)\n",
    "        top_features_index=[i for i in index[:5000]]\n",
    "        for i in range(len(array)):\n",
    "            temp=[]\n",
    "            for j in top_features_index:\n",
    "                temp.append(array[i][j])\n",
    "            dict_tfidf['{0}'.format(k)].append(temp)\n",
    "    dict_term_count={}\n",
    "    for i in columns:\n",
    "        dict_term_count[i]=''\n",
    "        for j in range(len(data[i])):\n",
    "            dict_term_count[i]=str(dict_term_count[i])+str(data[i][j])\n",
    "    dictofdict={}\n",
    "    frequency = {}\n",
    "    for i in columns:\n",
    "        temmp=''\n",
    "        for j in range(len(dict_topwords[i])):\n",
    "            temmp=str(temmp)+str(dict_topwords[i][0][j])\n",
    "        document_text = dict_term_count[i]\n",
    "        text_string = temmp.lower()\n",
    "        match_pattern = re.findall(r'\\b[a-z]{3,15}\\b', text_string)\n",
    "\n",
    "        for word in match_pattern:\n",
    "            count = frequency.get(word,0)\n",
    "            frequency[word] = count + 1\n",
    "\n",
    "        frequency_list = frequency.keys()\n",
    "        temp=[]\n",
    "        for words in frequency_list:\n",
    "             temp.append([words, frequency[words]])\n",
    "        dictofdict[i]=temp\n",
    "    for i in range(len(columns)):\n",
    "        dict['col{0}'.format(9+i)]=dict_tfidf['{0}'.format(columns[i])]\n",
    "    X=[]\n",
    "    for i in range(len(data)):\n",
    "        X.append([])\n",
    "    for k in range(len(dict)):\n",
    "        for i in range(len(data)):\n",
    "            if type(dict['col{0}'.format(k)][0])==list:                \n",
    "                for j in range(len(dict['col{0}'.format(k)][0])):\n",
    "                    X[i].append(abs(dict['col{0}'.format(k)][i][j]))\n",
    "            else:\n",
    "                X[i].append(abs(dict['col{0}'.format(k)][i]))\n",
    "    x_value=np.asarray(X)\n",
    "    return(x_value)"
   ]
  },
  {
   "cell_type": "code",
   "execution_count": 325,
   "metadata": {},
   "outputs": [],
   "source": [
    "preprocessedX_new=preprocessing_prediction(data=new_nlpdata)"
   ]
  },
  {
   "cell_type": "code",
   "execution_count": 327,
   "metadata": {},
   "outputs": [],
   "source": [
    "preprocessedX_new=preprocessedX_new[:,:22182]"
   ]
  },
  {
   "cell_type": "code",
   "execution_count": 329,
   "metadata": {},
   "outputs": [
    {
     "name": "stdout",
     "output_type": "stream",
     "text": [
      "organizationalinfluence\n",
      "\toperationalprocess\n",
      "\toperationalclimate\n",
      "\tresourcemanagement\n",
      "unsafeacts\n",
      "\tperceptualerrors\n",
      "\t\tFailureToIdentifyRisk/Hazard\n",
      "\tskillbasederrors\n",
      "\t\tReversed/OmittedStepInProcedure\n",
      "\t\tLapseOfMemory/RecallForProcedure\n",
      "\t\tMisreading/MisinterpretingPaperwork\n",
      "\t\tAircraftsystemsnotrestoredfollowingmaintenance(e.g.,MELprocedures,gearpins)\n",
      "\t\tMaintenanceitemnotsecured(e.g.accesspanels,fairings,cowlings,oil/fuelcaps,etc)\n",
      "\troutineviolations\n",
      "\t\tFailedtocomplywithtrainingguidelinesand/orOperatingGuidelinesbyindividualorgroup\n",
      "\t\tProcedures/directivesnotfollowed\n",
      "\t\tFailedtofollowtechnical/safetyprocedures\n",
      "\t\tAcceptedunnecessaryhazard\n",
      "\t\tFailureToProperlyInspect\n",
      "\tdecisionerrors\n",
      "\t\tImproperProcedurePerformed\n",
      "\t\tMisinterpretationOfInformation\n",
      "\t\tFailureToTakeAppropriateActionRegardingKnownHazard\n",
      "\texceptionalviolations\n",
      "\t\tFailedToFollowTechnical/SafetyProcedures\n",
      "\t\tImproperlyinstalled/removedpart\n",
      "\t\tInformation/manual/taskcard/instructionnotusedorfollowed\n",
      "\t\tAcceptedUnnecessaryHazard\n",
      "preconditionforunsafeacts\n",
      "\tadversementalstates\n",
      "\t\tMindset/preconceivedidea/expectancy\n",
      "\t\tInattention\n",
      "\t\tChannelizedattention/taskfixation/tunnelvision\n",
      "\t\tComplacency\n",
      "\t\tConfusion\n",
      "\ttechnologicalenvironment\n",
      "\t\tInadequatetechnologicaldesignoruser-interface(e.g.,manuals,checklists,displays,instruments)\n",
      "\tcoordinationandcommunication\n",
      "\t\tVerificationtechniquesnotused\n",
      "\t\tLackofteamworkorcoordinationofactivities\n",
      "\t\tInadequate/ineffectivecommunicationbetweenteams(cabincrew/mechanics/flightcrew/leadership/departments)\n",
      "\t\tConfusing/conflictingdirections/demandsbyteammember\n",
      "\tphysicalenvironment\n",
      "\tmentallimitations\n",
      "\t\tLackingtechnicalproceduralknowledge\n"
     ]
    }
   ],
   "source": [
    "predicted_levels=integratedmodel(preprocessedX_new)"
   ]
  },
  {
   "cell_type": "code",
   "execution_count": 259,
   "metadata": {},
   "outputs": [],
   "source": [
    "unsafeacts_new=new_nlpdata['U*****']"
   ]
  },
  {
   "cell_type": "code",
   "execution_count": 261,
   "metadata": {},
   "outputs": [],
   "source": [
    "jj=0\n",
    "for i in range(len(new_nlpdata)):\n",
    "    if predicted_test['u*****'][i]==new_nlpdata['U*****'][i]:\n",
    "        jj+=1\n",
    "acc=float(jj)/len(new_nlpdata)"
   ]
  },
  {
   "cell_type": "code",
   "execution_count": 262,
   "metadata": {},
   "outputs": [
    {
     "data": {
      "text/plain": [
       "0.8651685393258427"
      ]
     },
     "execution_count": 262,
     "metadata": {},
     "output_type": "execute_result"
    }
   ],
   "source": [
    "acc"
   ]
  },
  {
   "cell_type": "code",
   "execution_count": 10,
   "metadata": {},
   "outputs": [],
   "source": [
    "data_new=pd.read_csv('./csv_round2/level2nd3data.csv')"
   ]
  },
  {
   "cell_type": "code",
   "execution_count": 274,
   "metadata": {},
   "outputs": [],
   "source": [
    "for i in range(len(data_new)):\n",
    "    data_new['report_id'][i]=data_new['report_id'][i].rstrip()"
   ]
  },
  {
   "cell_type": "code",
   "execution_count": 280,
   "metadata": {},
   "outputs": [],
   "source": [
    "data_new=data_new.set_index(data_new['report_id'])"
   ]
  },
  {
   "cell_type": "code",
   "execution_count": 281,
   "metadata": {},
   "outputs": [],
   "source": [
    "level2=[]\n",
    "level3=[]\n",
    "l2initializer=[]\n",
    "l3initializer=[]\n",
    "initializer=[]\n",
    "test=[' A***** ',' P*****',' P*****']\n",
    "for i in range(len(new_nlpdata)):\n",
    "    temp=data_new.loc[new_nlpdata['report_id'][i]]\n",
    "    if type(temp['H*****'])!=float:\n",
    "        if isinstance(temp,pd.core.frame.DataFrame):\n",
    "            templevel2=[]\n",
    "            templevel3=[]\n",
    "            for j in range(len(temp)):\n",
    "                split=sp(temp['H*****'][j])\n",
    "                if len(split)==2:\n",
    "                    if split[1] not in templevel2:\n",
    "                        templevel2.append(split[1].replace(\" \",\"\").lower())\n",
    "                    if split[1] not in l2initializer:\n",
    "                        l2initializer.append(split[1].replace(\" \",\"\").lower())\n",
    "                    if split[1] not in initializer:\n",
    "                        initializer.append(split[1].replace(\" \",\"\").lower())\n",
    "                if len(split)==3:\n",
    "                    if split[1] not in templevel2:\n",
    "                        templevel2.append(split[1].replace(\" \",\"\").lower())\n",
    "                    if split[2] not in templevel3 and split[2] not in test:\n",
    "                        templevel3.append(split[2].replace(\" \",\"\").lower())\n",
    "                    if split[1] not in l2initializer:\n",
    "                        l2initializer.append(split[1].replace(\" \",\"\").lower())\n",
    "                    if split[2] not in l3initializer and split[2] not in test:\n",
    "                        l3initializer.append(split[2].replace(\" \",\"\").lower())\n",
    "                    if split[1] not in initializer:\n",
    "                        initializer.append(split[1].replace(\" \",\"\").lower())\n",
    "                    if split[2] not in initializer and split[2] not in test:\n",
    "                        initializer.append(split[2].replace(\" \",\"\").lower())\n",
    "        else:\n",
    "            templevel2=[]\n",
    "            templevel3=[]\n",
    "            split=sp(temp['H*****'])\n",
    "            if len(split)==2:\n",
    "                if split[1] not in templevel2:\n",
    "                    templevel2.append(split[1].replace(\" \",\"\").lower())\n",
    "                if split[1] not in l2initializer:\n",
    "                    l2initializer.append(split[1].replace(\" \",\"\").lower())\n",
    "                if split[1] not in initializer:\n",
    "                    initializer.append(split[1].replace(\" \",\"\").lower())\n",
    "            if len(split)==3:\n",
    "                if split[1] not in templevel2:\n",
    "                    templevel2.append(split[1].replace(\" \",\"\").lower())\n",
    "                if split[2] not in templevel3 and split[2] not in test:\n",
    "                    templevel3.append(split[2].replace(\" \",\"\").lower())\n",
    "                if split[1] not in l2initializer:\n",
    "                    l2initializer.append(split[1].replace(\" \",\"\").lower())\n",
    "                if split[2] not in l3initializer and split[2] not in test:\n",
    "                    l3initializer.append(split[2].replace(\" \",\"\").lower())\n",
    "                if split[1] not in initializer:\n",
    "                    initializer.append(split[1].replace(\" \",\"\").lower())\n",
    "                if split[2] not in initializer and split[2] not in test:\n",
    "                    initializer.append(split[2].replace(\" \",\"\").lower())\n",
    "    else:\n",
    "        templevel2=[]\n",
    "        templevel3=[]\n",
    "    level2.append(templevel2)\n",
    "    level3.append(templevel3)"
   ]
  },
  {
   "cell_type": "code",
   "execution_count": 283,
   "metadata": {},
   "outputs": [],
   "source": [
    "l2initializer=set(l2initializer)\n",
    "l3initializer=set(l3initializer)\n",
    "initializer=set(initializer)"
   ]
  },
  {
   "cell_type": "code",
   "execution_count": 284,
   "metadata": {},
   "outputs": [],
   "source": [
    "for i in initializer:\n",
    "    exec(\"{}\".format(str(i))+\"=[]\")"
   ]
  },
  {
   "cell_type": "code",
   "execution_count": 285,
   "metadata": {},
   "outputs": [],
   "source": [
    "for i in range(len(new_nlpdata)):\n",
    "    if len(level2[i])==0:\n",
    "        for j in l2initializer:\n",
    "            eval('{}'.format(j)+'.append(0)')\n",
    "    else:\n",
    "        templ2=[]\n",
    "        for k in level2[i]:\n",
    "            if k not in templ2:\n",
    "                eval('{}'.format(k)+'.append(1)')\n",
    "                templ2.append(k)\n",
    "        subractingsubsets=set(l2initializer)-set(templ2)\n",
    "        for l in subractingsubsets:\n",
    "            eval('{}'.format(l)+'.append(0)')\n",
    "    if len(level3[i])==0:\n",
    "        for j in l3initializer:\n",
    "            eval('{}'.format(j)+'.append(0)')\n",
    "    else:\n",
    "        templ3=[]\n",
    "        for k in level3[i]:\n",
    "            if k not in templ3:\n",
    "                eval('{}'.format(k)+'.append(1)')\n",
    "                templ3.append(k)\n",
    "        subractingsubsets=set(l3initializer)-set(templ3)\n",
    "        for l in subractingsubsets:\n",
    "            eval('{}'.format(l)+'.append(0)')"
   ]
  },
  {
   "cell_type": "code",
   "execution_count": 286,
   "metadata": {},
   "outputs": [],
   "source": [
    "finallevel_new=pd.read_csv('./csv_round2/Reports.csv')"
   ]
  },
  {
   "cell_type": "code",
   "execution_count": 287,
   "metadata": {},
   "outputs": [],
   "source": [
    "listoflist=[]\n",
    "countcheck=[]\n",
    "index=[]\n",
    "for i in range(len(finallevel_new)):\n",
    "    if i<len(new_nlpdata):\n",
    "        if type(finallevel_new['H*****'][i])!=float:\n",
    "            temp=sp(finallevel_new['H*****'][i].replace(\" \",\"\"))\n",
    "            t=''\n",
    "            tt=[]\n",
    "            for j in temp:\n",
    "                if j!='':\n",
    "                    try:\n",
    "                        t=t+sp2(j)[3]+'|'\n",
    "                        tt.append(sp2(j)[3])\n",
    "                        countcheck.append(sp2(j)[3])\n",
    "                    except:\n",
    "                        t=t\n",
    "            index.append(i)\n",
    "            listoflist.append(tt)\n",
    "        else:\n",
    "            listoflist.append([])"
   ]
  },
  {
   "cell_type": "code",
   "execution_count": 288,
   "metadata": {},
   "outputs": [],
   "source": [
    "temp=[]\n",
    "finalclass={}\n",
    "for i in classselection:\n",
    "    if i not in temp:\n",
    "        temp.append(i)\n",
    "        t=[]\n",
    "        for j in listoflist:\n",
    "            if i in j:\n",
    "                t.append(1)\n",
    "            else:\n",
    "                t.append(0)\n",
    "    finalclass[i]=t"
   ]
  },
  {
   "cell_type": "code",
   "execution_count": 289,
   "metadata": {},
   "outputs": [],
   "source": [
    "for i in l2initializer:\n",
    "    new_nlpdata[i]=eval('{}'.format(i))\n",
    "for i in l3initializer:\n",
    "    new_nlpdata[i]=eval('{}'.format(i))"
   ]
  },
  {
   "cell_type": "code",
   "execution_count": 292,
   "metadata": {},
   "outputs": [],
   "source": [
    "Y_org=new_nlpdata[new_nlpdata.columns[20:]]"
   ]
  },
  {
   "cell_type": "code",
   "execution_count": 293,
   "metadata": {},
   "outputs": [],
   "source": [
    "Y_original={}\n",
    "for i in Y_org.columns:\n",
    "    if i=='U*****':\n",
    "        ii='u*****'\n",
    "    if i=='P*****':\n",
    "        ii='p*****'\n",
    "    if i=='U*****' or i=='P*****':\n",
    "        Y_original[con(ii).lower()]=list(Y_org[i])\n",
    "    else:\n",
    "        Y_original[con(i).lower()]=list(Y_org[i])\n",
    "for i in keys:\n",
    "    Y_original[i]=list(finalclass[i])"
   ]
  },
  {
   "cell_type": "code",
   "execution_count": 205,
   "metadata": {},
   "outputs": [],
   "source": [
    "def valtolabels(dict_inp):\n",
    "    temp=[]\n",
    "    for i in range(len(dict_inp['u*****'])):\n",
    "        tl1=''\n",
    "        tl2=''\n",
    "        tl3=''\n",
    "        for j in dict_inp.keys():\n",
    "            if dict_inp[j][i]==1:\n",
    "                if j in ['u*****','p*****','o*****']:\n",
    "                    tl1=tl1+j+'|'\n",
    "                elif j in l3initializer:\n",
    "                    tl2=tl2+j+'|'\n",
    "                else:\n",
    "                    tl3=tl3+j+'|'\n",
    "        tt='('+tl1+') ('+tl2+') ('+tl3+')'\n",
    "        temp.append(tt)\n",
    "    return(temp)"
   ]
  },
  {
   "cell_type": "code",
   "execution_count": 317,
   "metadata": {},
   "outputs": [],
   "source": [
    "l0=['u*****','p*****','o*****']\n",
    "def partialmathaccuracy_corrected(y_true,y_pred):\n",
    "    index=[a for a in range(len(new_nlpdata))]\n",
    "    index2=[]\n",
    "    index3=[]\n",
    "    finalindex=[]\n",
    "    for k in index:\n",
    "        for i in l0:\n",
    "            if y_true[i][k]==1 and y_pred[i][k]==1:\n",
    "                if k not in index2:\n",
    "                    index2.append(k)\n",
    "    for k in index2:\n",
    "        for i in l3initializer:\n",
    "            if y_true[i][k]==1 and y_pred[i][k]==1:\n",
    "                if k not in index3:\n",
    "                    index3.append(k)\n",
    "    for k in index3:\n",
    "        for i in keys:\n",
    "            if y_true[i][k]==1 and y_pred[i][k]==1:\n",
    "                if k not in finalindex:\n",
    "                    finalindex.append(k)\n",
    "    acc=float(len(finalindex))/len(y_pred)\n",
    "    return(float(len(index2))/len(new_nlpdata),float(len(index3))/len(new_nlpdata),float(len(finalindex))/len(new_nlpdata))"
   ]
  },
  {
   "cell_type": "code",
   "execution_count": 318,
   "metadata": {},
   "outputs": [
    {
     "data": {
      "text/plain": [
       "(0.8651685393258427, 0.1797752808988764, 0.0)"
      ]
     },
     "execution_count": 318,
     "metadata": {},
     "output_type": "execute_result"
    }
   ],
   "source": [
    "partialmathaccuracy_corrected(Y_original,predicted_levels)"
   ]
  },
  {
   "cell_type": "code",
   "execution_count": 319,
   "metadata": {},
   "outputs": [
    {
     "data": {
      "text/plain": [
       "0.0"
      ]
     },
     "execution_count": 319,
     "metadata": {},
     "output_type": "execute_result"
    }
   ],
   "source": [
    "completematchaccuracy(listtocompare=l0)"
   ]
  }
 ],
 "metadata": {
  "kernelspec": {
   "display_name": "Python 2",
   "language": "python",
   "name": "python2"
  },
  "language_info": {
   "codemirror_mode": {
    "name": "ipython",
    "version": 2
   },
   "file_extension": ".py",
   "mimetype": "text/x-python",
   "name": "python",
   "nbconvert_exporter": "python",
   "pygments_lexer": "ipython2",
   "version": "2.7.15"
  }
 },
 "nbformat": 4,
 "nbformat_minor": 2
}
