{
 "cells": [
  {
   "cell_type": "code",
   "execution_count": 22,
   "metadata": {},
   "outputs": [],
   "source": [
    "import pandas as pd\n",
    "from sklearn.preprocessing import MinMaxScaler\n",
    "import numpy as np\n",
    "from sklearn.ensemble import RandomForestClassifier\n",
    "from sklearn.linear_model import LogisticRegression\n",
    "from sklearn.model_selection import train_test_split\n",
    "from sklearn.metrics import accuracy_score,precision_score,recall_score,f1_score,auc\n",
    "from imblearn.over_sampling import SMOTE\n",
    "from pandas import value_counts\n",
    "from scipy import stats\n",
    "from sklearn.decomposition import PCA\n",
    "from sklearn.preprocessing import scale"
   ]
  },
  {
   "cell_type": "code",
   "execution_count": 5,
   "metadata": {},
   "outputs": [],
   "source": [
    "data=pd.read_csv('./WA_Fn-UseC_-HR-Employee-Attrition.csv')"
   ]
  },
  {
   "cell_type": "code",
   "execution_count": 6,
   "metadata": {},
   "outputs": [
    {
     "data": {
      "text/html": [
       "<div>\n",
       "<style scoped>\n",
       "    .dataframe tbody tr th:only-of-type {\n",
       "        vertical-align: middle;\n",
       "    }\n",
       "\n",
       "    .dataframe tbody tr th {\n",
       "        vertical-align: top;\n",
       "    }\n",
       "\n",
       "    .dataframe thead th {\n",
       "        text-align: right;\n",
       "    }\n",
       "</style>\n",
       "<table border=\"1\" class=\"dataframe\">\n",
       "  <thead>\n",
       "    <tr style=\"text-align: right;\">\n",
       "      <th></th>\n",
       "      <th>Age</th>\n",
       "      <th>Attrition</th>\n",
       "      <th>BusinessTravel</th>\n",
       "      <th>DailyRate</th>\n",
       "      <th>Department</th>\n",
       "      <th>DistanceFromHome</th>\n",
       "      <th>Education</th>\n",
       "      <th>EducationField</th>\n",
       "      <th>EmployeeCount</th>\n",
       "      <th>EmployeeNumber</th>\n",
       "      <th>...</th>\n",
       "      <th>RelationshipSatisfaction</th>\n",
       "      <th>StandardHours</th>\n",
       "      <th>StockOptionLevel</th>\n",
       "      <th>TotalWorkingYears</th>\n",
       "      <th>TrainingTimesLastYear</th>\n",
       "      <th>WorkLifeBalance</th>\n",
       "      <th>YearsAtCompany</th>\n",
       "      <th>YearsInCurrentRole</th>\n",
       "      <th>YearsSinceLastPromotion</th>\n",
       "      <th>YearsWithCurrManager</th>\n",
       "    </tr>\n",
       "  </thead>\n",
       "  <tbody>\n",
       "    <tr>\n",
       "      <td>0</td>\n",
       "      <td>41</td>\n",
       "      <td>Yes</td>\n",
       "      <td>Travel_Rarely</td>\n",
       "      <td>1102</td>\n",
       "      <td>Sales</td>\n",
       "      <td>1</td>\n",
       "      <td>2</td>\n",
       "      <td>Life Sciences</td>\n",
       "      <td>1</td>\n",
       "      <td>1</td>\n",
       "      <td>...</td>\n",
       "      <td>1</td>\n",
       "      <td>80</td>\n",
       "      <td>0</td>\n",
       "      <td>8</td>\n",
       "      <td>0</td>\n",
       "      <td>1</td>\n",
       "      <td>6</td>\n",
       "      <td>4</td>\n",
       "      <td>0</td>\n",
       "      <td>5</td>\n",
       "    </tr>\n",
       "    <tr>\n",
       "      <td>1</td>\n",
       "      <td>49</td>\n",
       "      <td>No</td>\n",
       "      <td>Travel_Frequently</td>\n",
       "      <td>279</td>\n",
       "      <td>Research &amp; Development</td>\n",
       "      <td>8</td>\n",
       "      <td>1</td>\n",
       "      <td>Life Sciences</td>\n",
       "      <td>1</td>\n",
       "      <td>2</td>\n",
       "      <td>...</td>\n",
       "      <td>4</td>\n",
       "      <td>80</td>\n",
       "      <td>1</td>\n",
       "      <td>10</td>\n",
       "      <td>3</td>\n",
       "      <td>3</td>\n",
       "      <td>10</td>\n",
       "      <td>7</td>\n",
       "      <td>1</td>\n",
       "      <td>7</td>\n",
       "    </tr>\n",
       "    <tr>\n",
       "      <td>2</td>\n",
       "      <td>37</td>\n",
       "      <td>Yes</td>\n",
       "      <td>Travel_Rarely</td>\n",
       "      <td>1373</td>\n",
       "      <td>Research &amp; Development</td>\n",
       "      <td>2</td>\n",
       "      <td>2</td>\n",
       "      <td>Other</td>\n",
       "      <td>1</td>\n",
       "      <td>4</td>\n",
       "      <td>...</td>\n",
       "      <td>2</td>\n",
       "      <td>80</td>\n",
       "      <td>0</td>\n",
       "      <td>7</td>\n",
       "      <td>3</td>\n",
       "      <td>3</td>\n",
       "      <td>0</td>\n",
       "      <td>0</td>\n",
       "      <td>0</td>\n",
       "      <td>0</td>\n",
       "    </tr>\n",
       "    <tr>\n",
       "      <td>3</td>\n",
       "      <td>33</td>\n",
       "      <td>No</td>\n",
       "      <td>Travel_Frequently</td>\n",
       "      <td>1392</td>\n",
       "      <td>Research &amp; Development</td>\n",
       "      <td>3</td>\n",
       "      <td>4</td>\n",
       "      <td>Life Sciences</td>\n",
       "      <td>1</td>\n",
       "      <td>5</td>\n",
       "      <td>...</td>\n",
       "      <td>3</td>\n",
       "      <td>80</td>\n",
       "      <td>0</td>\n",
       "      <td>8</td>\n",
       "      <td>3</td>\n",
       "      <td>3</td>\n",
       "      <td>8</td>\n",
       "      <td>7</td>\n",
       "      <td>3</td>\n",
       "      <td>0</td>\n",
       "    </tr>\n",
       "    <tr>\n",
       "      <td>4</td>\n",
       "      <td>27</td>\n",
       "      <td>No</td>\n",
       "      <td>Travel_Rarely</td>\n",
       "      <td>591</td>\n",
       "      <td>Research &amp; Development</td>\n",
       "      <td>2</td>\n",
       "      <td>1</td>\n",
       "      <td>Medical</td>\n",
       "      <td>1</td>\n",
       "      <td>7</td>\n",
       "      <td>...</td>\n",
       "      <td>4</td>\n",
       "      <td>80</td>\n",
       "      <td>1</td>\n",
       "      <td>6</td>\n",
       "      <td>3</td>\n",
       "      <td>3</td>\n",
       "      <td>2</td>\n",
       "      <td>2</td>\n",
       "      <td>2</td>\n",
       "      <td>2</td>\n",
       "    </tr>\n",
       "  </tbody>\n",
       "</table>\n",
       "<p>5 rows × 35 columns</p>\n",
       "</div>"
      ],
      "text/plain": [
       "   Age Attrition     BusinessTravel  DailyRate              Department  \\\n",
       "0   41       Yes      Travel_Rarely       1102                   Sales   \n",
       "1   49        No  Travel_Frequently        279  Research & Development   \n",
       "2   37       Yes      Travel_Rarely       1373  Research & Development   \n",
       "3   33        No  Travel_Frequently       1392  Research & Development   \n",
       "4   27        No      Travel_Rarely        591  Research & Development   \n",
       "\n",
       "   DistanceFromHome  Education EducationField  EmployeeCount  EmployeeNumber  \\\n",
       "0                 1          2  Life Sciences              1               1   \n",
       "1                 8          1  Life Sciences              1               2   \n",
       "2                 2          2          Other              1               4   \n",
       "3                 3          4  Life Sciences              1               5   \n",
       "4                 2          1        Medical              1               7   \n",
       "\n",
       "   ...  RelationshipSatisfaction StandardHours  StockOptionLevel  \\\n",
       "0  ...                         1            80                 0   \n",
       "1  ...                         4            80                 1   \n",
       "2  ...                         2            80                 0   \n",
       "3  ...                         3            80                 0   \n",
       "4  ...                         4            80                 1   \n",
       "\n",
       "   TotalWorkingYears  TrainingTimesLastYear WorkLifeBalance  YearsAtCompany  \\\n",
       "0                  8                      0               1               6   \n",
       "1                 10                      3               3              10   \n",
       "2                  7                      3               3               0   \n",
       "3                  8                      3               3               8   \n",
       "4                  6                      3               3               2   \n",
       "\n",
       "  YearsInCurrentRole  YearsSinceLastPromotion  YearsWithCurrManager  \n",
       "0                  4                        0                     5  \n",
       "1                  7                        1                     7  \n",
       "2                  0                        0                     0  \n",
       "3                  7                        3                     0  \n",
       "4                  2                        2                     2  \n",
       "\n",
       "[5 rows x 35 columns]"
      ]
     },
     "execution_count": 6,
     "metadata": {},
     "output_type": "execute_result"
    }
   ],
   "source": [
    "data.head()"
   ]
  },
  {
   "cell_type": "code",
   "execution_count": 8,
   "metadata": {},
   "outputs": [
    {
     "data": {
      "text/plain": [
       "<matplotlib.axes._subplots.AxesSubplot at 0x136f895d0>"
      ]
     },
     "execution_count": 8,
     "metadata": {},
     "output_type": "execute_result"
    },
    {
     "data": {
      "image/png": "[encoded data removed]",
      "text/plain": [
       "<Figure size 432x288 with 1 Axes>"
      ]
     },
     "metadata": {
      "needs_background": "light"
     },
     "output_type": "display_data"
    }
   ],
   "source": [
    "data['Attrition'].value_counts().plot(kind='bar')"
   ]
  },
  {
   "cell_type": "code",
   "execution_count": 9,
   "metadata": {},
   "outputs": [],
   "source": [
    "columns=[a.encode('utf-8') for a in list(data.columns)]"
   ]
  },
  {
   "cell_type": "code",
   "execution_count": 11,
   "metadata": {},
   "outputs": [
    {
     "name": "stdout",
     "output_type": "stream",
     "text": [
      "skipped 1 column\n",
      "skipped 2 column\n",
      "skipped 4 column\n",
      "skipped 7 column\n",
      "skipped 11 column\n",
      "skipped 15 column\n",
      "skipped 17 column\n",
      "skipped 21 column\n",
      "skipped 22 column\n"
     ]
    }
   ],
   "source": [
    "def minmaxnorm(y):\n",
    "    obj=MinMaxScaler(feature_range=(0.1,1),copy=True)\n",
    "    yy=obj.fit_transform(np.asarray(y).reshape(-1,1))\n",
    "    s=yy.shape\n",
    "    return(yy.reshape(s[1],s[0]).tolist()[0])\n",
    "colll=data.columns\n",
    "\n",
    "for i in range(len(colll)):\n",
    "    try:\n",
    "        if abs(stats.skew(data[colll[i]]))>0.5:\n",
    "            data[colll[i]]=list(stats.boxcox(minmaxnorm(data[colll[i]]))[0])\n",
    "    except:\n",
    "        print('skipped '+str(i)+' column')"
   ]
  },
  {
   "cell_type": "code",
   "execution_count": 12,
   "metadata": {},
   "outputs": [
    {
     "name": "stdout",
     "output_type": "stream",
     "text": [
      "under control 0.41286446154785084\n",
      "cat\n",
      "cat\n",
      "under control -0.003514976958291024\n",
      "cat\n",
      "under control 0.028523205491103303\n",
      "under control -0.2893854052028825\n",
      "cat\n",
      "under control 0.0\n",
      "under control 0.01655710251921753\n",
      "under control -0.3213261358382832\n",
      "cat\n",
      "under control -0.03227797319055416\n",
      "under control -0.4979106286269671\n",
      "under control -0.008446578339667806\n",
      "cat\n",
      "under control -0.3293354633089524\n",
      "cat\n",
      "under control 0.07257674042951506\n",
      "under control 0.01855884556846042\n",
      "under control 0.014798473222014302\n",
      "cat\n",
      "cat\n",
      "under control -0.020690505756302022\n",
      "not under control 1.919921041210947\n",
      "under control -0.3025184698222079\n",
      "under control 0.0\n",
      "under control 0.005923221423351136\n",
      "under control -0.0004168995434561395\n",
      "under control 0.07106351622062951\n",
      "under control -0.11328887135029446\n",
      "under control 0.033867561900672916\n",
      "under control -0.016503234337405064\n",
      "under control 0.2681915190132527\n",
      "under control -0.022290438225524897\n"
     ]
    }
   ],
   "source": [
    "for i in data.columns:\n",
    "    try:\n",
    "        if abs(stats.skew(data[i]))<1:\n",
    "            print('under control',stats.skew(data[i]))\n",
    "        else:\n",
    "            print('not under control',stats.skew(data[i]))\n",
    "    except:\n",
    "        print('cat')"
   ]
  },
  {
   "cell_type": "code",
   "execution_count": 13,
   "metadata": {},
   "outputs": [
    {
     "data": {
      "text/html": [
       "<div>\n",
       "<style scoped>\n",
       "    .dataframe tbody tr th:only-of-type {\n",
       "        vertical-align: middle;\n",
       "    }\n",
       "\n",
       "    .dataframe tbody tr th {\n",
       "        vertical-align: top;\n",
       "    }\n",
       "\n",
       "    .dataframe thead th {\n",
       "        text-align: right;\n",
       "    }\n",
       "</style>\n",
       "<table border=\"1\" class=\"dataframe\">\n",
       "  <thead>\n",
       "    <tr style=\"text-align: right;\">\n",
       "      <th></th>\n",
       "      <th>Age</th>\n",
       "      <th>Attrition</th>\n",
       "      <th>BusinessTravel</th>\n",
       "      <th>DailyRate</th>\n",
       "      <th>Department</th>\n",
       "      <th>DistanceFromHome</th>\n",
       "      <th>Education</th>\n",
       "      <th>EducationField</th>\n",
       "      <th>EmployeeCount</th>\n",
       "      <th>EmployeeNumber</th>\n",
       "      <th>...</th>\n",
       "      <th>RelationshipSatisfaction</th>\n",
       "      <th>StandardHours</th>\n",
       "      <th>StockOptionLevel</th>\n",
       "      <th>TotalWorkingYears</th>\n",
       "      <th>TrainingTimesLastYear</th>\n",
       "      <th>WorkLifeBalance</th>\n",
       "      <th>YearsAtCompany</th>\n",
       "      <th>YearsInCurrentRole</th>\n",
       "      <th>YearsSinceLastPromotion</th>\n",
       "      <th>YearsWithCurrManager</th>\n",
       "    </tr>\n",
       "  </thead>\n",
       "  <tbody>\n",
       "    <tr>\n",
       "      <td>0</td>\n",
       "      <td>41</td>\n",
       "      <td>Yes</td>\n",
       "      <td>Travel_Rarely</td>\n",
       "      <td>1102</td>\n",
       "      <td>Sales</td>\n",
       "      <td>-2.574708</td>\n",
       "      <td>2</td>\n",
       "      <td>Life Sciences</td>\n",
       "      <td>1</td>\n",
       "      <td>1</td>\n",
       "      <td>...</td>\n",
       "      <td>1</td>\n",
       "      <td>80</td>\n",
       "      <td>-2.339574</td>\n",
       "      <td>-1.266343</td>\n",
       "      <td>-1.160545</td>\n",
       "      <td>-0.707403</td>\n",
       "      <td>-1.924524</td>\n",
       "      <td>-1.142672</td>\n",
       "      <td>-7.396027</td>\n",
       "      <td>-0.957913</td>\n",
       "    </tr>\n",
       "    <tr>\n",
       "      <td>1</td>\n",
       "      <td>49</td>\n",
       "      <td>No</td>\n",
       "      <td>Travel_Frequently</td>\n",
       "      <td>279</td>\n",
       "      <td>Research &amp; Development</td>\n",
       "      <td>-1.186319</td>\n",
       "      <td>1</td>\n",
       "      <td>Life Sciences</td>\n",
       "      <td>1</td>\n",
       "      <td>2</td>\n",
       "      <td>...</td>\n",
       "      <td>4</td>\n",
       "      <td>80</td>\n",
       "      <td>-0.922111</td>\n",
       "      <td>-1.118766</td>\n",
       "      <td>-0.490857</td>\n",
       "      <td>-0.283049</td>\n",
       "      <td>-1.398510</td>\n",
       "      <td>-0.771227</td>\n",
       "      <td>-4.523083</td>\n",
       "      <td>-0.725184</td>\n",
       "    </tr>\n",
       "    <tr>\n",
       "      <td>2</td>\n",
       "      <td>37</td>\n",
       "      <td>Yes</td>\n",
       "      <td>Travel_Rarely</td>\n",
       "      <td>1373</td>\n",
       "      <td>Research &amp; Development</td>\n",
       "      <td>-2.232187</td>\n",
       "      <td>2</td>\n",
       "      <td>Other</td>\n",
       "      <td>1</td>\n",
       "      <td>4</td>\n",
       "      <td>...</td>\n",
       "      <td>2</td>\n",
       "      <td>80</td>\n",
       "      <td>-2.339574</td>\n",
       "      <td>-1.349215</td>\n",
       "      <td>-0.490857</td>\n",
       "      <td>-0.283049</td>\n",
       "      <td>-3.660583</td>\n",
       "      <td>-2.085272</td>\n",
       "      <td>-7.396027</td>\n",
       "      <td>-2.049313</td>\n",
       "    </tr>\n",
       "    <tr>\n",
       "      <td>3</td>\n",
       "      <td>33</td>\n",
       "      <td>No</td>\n",
       "      <td>Travel_Frequently</td>\n",
       "      <td>1392</td>\n",
       "      <td>Research &amp; Development</td>\n",
       "      <td>-1.970876</td>\n",
       "      <td>4</td>\n",
       "      <td>Life Sciences</td>\n",
       "      <td>1</td>\n",
       "      <td>5</td>\n",
       "      <td>...</td>\n",
       "      <td>3</td>\n",
       "      <td>80</td>\n",
       "      <td>-2.339574</td>\n",
       "      <td>-1.266343</td>\n",
       "      <td>-0.490857</td>\n",
       "      <td>-0.283049</td>\n",
       "      <td>-1.632348</td>\n",
       "      <td>-0.771227</td>\n",
       "      <td>-2.333433</td>\n",
       "      <td>-2.049313</td>\n",
       "    </tr>\n",
       "    <tr>\n",
       "      <td>4</td>\n",
       "      <td>27</td>\n",
       "      <td>No</td>\n",
       "      <td>Travel_Rarely</td>\n",
       "      <td>591</td>\n",
       "      <td>Research &amp; Development</td>\n",
       "      <td>-2.232187</td>\n",
       "      <td>1</td>\n",
       "      <td>Medical</td>\n",
       "      <td>1</td>\n",
       "      <td>7</td>\n",
       "      <td>...</td>\n",
       "      <td>4</td>\n",
       "      <td>80</td>\n",
       "      <td>-0.922111</td>\n",
       "      <td>-1.439603</td>\n",
       "      <td>-0.490857</td>\n",
       "      <td>-0.283049</td>\n",
       "      <td>-2.836797</td>\n",
       "      <td>-1.501159</td>\n",
       "      <td>-3.148095</td>\n",
       "      <td>-1.458226</td>\n",
       "    </tr>\n",
       "    <tr>\n",
       "      <td>...</td>\n",
       "      <td>...</td>\n",
       "      <td>...</td>\n",
       "      <td>...</td>\n",
       "      <td>...</td>\n",
       "      <td>...</td>\n",
       "      <td>...</td>\n",
       "      <td>...</td>\n",
       "      <td>...</td>\n",
       "      <td>...</td>\n",
       "      <td>...</td>\n",
       "      <td>...</td>\n",
       "      <td>...</td>\n",
       "      <td>...</td>\n",
       "      <td>...</td>\n",
       "      <td>...</td>\n",
       "      <td>...</td>\n",
       "      <td>...</td>\n",
       "      <td>...</td>\n",
       "      <td>...</td>\n",
       "      <td>...</td>\n",
       "      <td>...</td>\n",
       "    </tr>\n",
       "    <tr>\n",
       "      <td>1465</td>\n",
       "      <td>36</td>\n",
       "      <td>No</td>\n",
       "      <td>Travel_Frequently</td>\n",
       "      <td>884</td>\n",
       "      <td>Research &amp; Development</td>\n",
       "      <td>-0.216457</td>\n",
       "      <td>2</td>\n",
       "      <td>Medical</td>\n",
       "      <td>1</td>\n",
       "      <td>2061</td>\n",
       "      <td>...</td>\n",
       "      <td>3</td>\n",
       "      <td>80</td>\n",
       "      <td>-0.922111</td>\n",
       "      <td>-0.726601</td>\n",
       "      <td>-0.490857</td>\n",
       "      <td>-0.283049</td>\n",
       "      <td>-2.101267</td>\n",
       "      <td>-1.501159</td>\n",
       "      <td>-7.396027</td>\n",
       "      <td>-1.261528</td>\n",
       "    </tr>\n",
       "    <tr>\n",
       "      <td>1466</td>\n",
       "      <td>39</td>\n",
       "      <td>No</td>\n",
       "      <td>Travel_Rarely</td>\n",
       "      <td>613</td>\n",
       "      <td>Research &amp; Development</td>\n",
       "      <td>-1.434226</td>\n",
       "      <td>1</td>\n",
       "      <td>Medical</td>\n",
       "      <td>1</td>\n",
       "      <td>2062</td>\n",
       "      <td>...</td>\n",
       "      <td>1</td>\n",
       "      <td>80</td>\n",
       "      <td>-0.922111</td>\n",
       "      <td>-1.189830</td>\n",
       "      <td>-0.153826</td>\n",
       "      <td>-0.283049</td>\n",
       "      <td>-1.769647</td>\n",
       "      <td>-0.771227</td>\n",
       "      <td>-4.523083</td>\n",
       "      <td>-0.725184</td>\n",
       "    </tr>\n",
       "    <tr>\n",
       "      <td>1467</td>\n",
       "      <td>27</td>\n",
       "      <td>No</td>\n",
       "      <td>Travel_Rarely</td>\n",
       "      <td>155</td>\n",
       "      <td>Research &amp; Development</td>\n",
       "      <td>-1.760424</td>\n",
       "      <td>3</td>\n",
       "      <td>Life Sciences</td>\n",
       "      <td>1</td>\n",
       "      <td>2064</td>\n",
       "      <td>...</td>\n",
       "      <td>2</td>\n",
       "      <td>80</td>\n",
       "      <td>-0.922111</td>\n",
       "      <td>-1.439603</td>\n",
       "      <td>-1.160545</td>\n",
       "      <td>-0.283049</td>\n",
       "      <td>-1.924524</td>\n",
       "      <td>-1.501159</td>\n",
       "      <td>-7.396027</td>\n",
       "      <td>-1.261528</td>\n",
       "    </tr>\n",
       "    <tr>\n",
       "      <td>1468</td>\n",
       "      <td>49</td>\n",
       "      <td>No</td>\n",
       "      <td>Travel_Frequently</td>\n",
       "      <td>1023</td>\n",
       "      <td>Sales</td>\n",
       "      <td>-2.232187</td>\n",
       "      <td>3</td>\n",
       "      <td>Medical</td>\n",
       "      <td>1</td>\n",
       "      <td>2065</td>\n",
       "      <td>...</td>\n",
       "      <td>4</td>\n",
       "      <td>80</td>\n",
       "      <td>-2.339574</td>\n",
       "      <td>-0.726601</td>\n",
       "      <td>-0.490857</td>\n",
       "      <td>-0.525629</td>\n",
       "      <td>-1.509443</td>\n",
       "      <td>-0.880490</td>\n",
       "      <td>-7.396027</td>\n",
       "      <td>-0.626012</td>\n",
       "    </tr>\n",
       "    <tr>\n",
       "      <td>1469</td>\n",
       "      <td>34</td>\n",
       "      <td>No</td>\n",
       "      <td>Travel_Rarely</td>\n",
       "      <td>628</td>\n",
       "      <td>Research &amp; Development</td>\n",
       "      <td>-1.186319</td>\n",
       "      <td>3</td>\n",
       "      <td>Medical</td>\n",
       "      <td>1</td>\n",
       "      <td>2068</td>\n",
       "      <td>...</td>\n",
       "      <td>1</td>\n",
       "      <td>80</td>\n",
       "      <td>-2.339574</td>\n",
       "      <td>-1.439603</td>\n",
       "      <td>-0.490857</td>\n",
       "      <td>0.000000</td>\n",
       "      <td>-2.305820</td>\n",
       "      <td>-1.305446</td>\n",
       "      <td>-4.523083</td>\n",
       "      <td>-1.458226</td>\n",
       "    </tr>\n",
       "  </tbody>\n",
       "</table>\n",
       "<p>1470 rows × 35 columns</p>\n",
       "</div>"
      ],
      "text/plain": [
       "      Age Attrition     BusinessTravel  DailyRate              Department  \\\n",
       "0      41       Yes      Travel_Rarely       1102                   Sales   \n",
       "1      49        No  Travel_Frequently        279  Research & Development   \n",
       "2      37       Yes      Travel_Rarely       1373  Research & Development   \n",
       "3      33        No  Travel_Frequently       1392  Research & Development   \n",
       "4      27        No      Travel_Rarely        591  Research & Development   \n",
       "...   ...       ...                ...        ...                     ...   \n",
       "1465   36        No  Travel_Frequently        884  Research & Development   \n",
       "1466   39        No      Travel_Rarely        613  Research & Development   \n",
       "1467   27        No      Travel_Rarely        155  Research & Development   \n",
       "1468   49        No  Travel_Frequently       1023                   Sales   \n",
       "1469   34        No      Travel_Rarely        628  Research & Development   \n",
       "\n",
       "      DistanceFromHome  Education EducationField  EmployeeCount  \\\n",
       "0            -2.574708          2  Life Sciences              1   \n",
       "1            -1.186319          1  Life Sciences              1   \n",
       "2            -2.232187          2          Other              1   \n",
       "3            -1.970876          4  Life Sciences              1   \n",
       "4            -2.232187          1        Medical              1   \n",
       "...                ...        ...            ...            ...   \n",
       "1465         -0.216457          2        Medical              1   \n",
       "1466         -1.434226          1        Medical              1   \n",
       "1467         -1.760424          3  Life Sciences              1   \n",
       "1468         -2.232187          3        Medical              1   \n",
       "1469         -1.186319          3        Medical              1   \n",
       "\n",
       "      EmployeeNumber  ...  RelationshipSatisfaction StandardHours  \\\n",
       "0                  1  ...                         1            80   \n",
       "1                  2  ...                         4            80   \n",
       "2                  4  ...                         2            80   \n",
       "3                  5  ...                         3            80   \n",
       "4                  7  ...                         4            80   \n",
       "...              ...  ...                       ...           ...   \n",
       "1465            2061  ...                         3            80   \n",
       "1466            2062  ...                         1            80   \n",
       "1467            2064  ...                         2            80   \n",
       "1468            2065  ...                         4            80   \n",
       "1469            2068  ...                         1            80   \n",
       "\n",
       "      StockOptionLevel  TotalWorkingYears  TrainingTimesLastYear  \\\n",
       "0            -2.339574          -1.266343              -1.160545   \n",
       "1            -0.922111          -1.118766              -0.490857   \n",
       "2            -2.339574          -1.349215              -0.490857   \n",
       "3            -2.339574          -1.266343              -0.490857   \n",
       "4            -0.922111          -1.439603              -0.490857   \n",
       "...                ...                ...                    ...   \n",
       "1465         -0.922111          -0.726601              -0.490857   \n",
       "1466         -0.922111          -1.189830              -0.153826   \n",
       "1467         -0.922111          -1.439603              -1.160545   \n",
       "1468         -2.339574          -0.726601              -0.490857   \n",
       "1469         -2.339574          -1.439603              -0.490857   \n",
       "\n",
       "     WorkLifeBalance  YearsAtCompany YearsInCurrentRole  \\\n",
       "0          -0.707403       -1.924524          -1.142672   \n",
       "1          -0.283049       -1.398510          -0.771227   \n",
       "2          -0.283049       -3.660583          -2.085272   \n",
       "3          -0.283049       -1.632348          -0.771227   \n",
       "4          -0.283049       -2.836797          -1.501159   \n",
       "...              ...             ...                ...   \n",
       "1465       -0.283049       -2.101267          -1.501159   \n",
       "1466       -0.283049       -1.769647          -0.771227   \n",
       "1467       -0.283049       -1.924524          -1.501159   \n",
       "1468       -0.525629       -1.509443          -0.880490   \n",
       "1469        0.000000       -2.305820          -1.305446   \n",
       "\n",
       "      YearsSinceLastPromotion  YearsWithCurrManager  \n",
       "0                   -7.396027             -0.957913  \n",
       "1                   -4.523083             -0.725184  \n",
       "2                   -7.396027             -2.049313  \n",
       "3                   -2.333433             -2.049313  \n",
       "4                   -3.148095             -1.458226  \n",
       "...                       ...                   ...  \n",
       "1465                -7.396027             -1.261528  \n",
       "1466                -4.523083             -0.725184  \n",
       "1467                -7.396027             -1.261528  \n",
       "1468                -7.396027             -0.626012  \n",
       "1469                -4.523083             -1.458226  \n",
       "\n",
       "[1470 rows x 35 columns]"
      ]
     },
     "execution_count": 13,
     "metadata": {},
     "output_type": "execute_result"
    }
   ],
   "source": [
    "data"
   ]
  },
  {
   "cell_type": "code",
   "execution_count": 15,
   "metadata": {},
   "outputs": [],
   "source": [
    "box_cox_df = pd.read_csv('./boxcoxtransformed.csv')"
   ]
  },
  {
   "cell_type": "code",
   "execution_count": 16,
   "metadata": {},
   "outputs": [],
   "source": [
    "box_cox_df.drop('Unnamed: 0',axis=1,inplace=True)"
   ]
  },
  {
   "cell_type": "code",
   "execution_count": 17,
   "metadata": {},
   "outputs": [
    {
     "data": {
      "text/html": [
       "<div>\n",
       "<style scoped>\n",
       "    .dataframe tbody tr th:only-of-type {\n",
       "        vertical-align: middle;\n",
       "    }\n",
       "\n",
       "    .dataframe tbody tr th {\n",
       "        vertical-align: top;\n",
       "    }\n",
       "\n",
       "    .dataframe thead th {\n",
       "        text-align: right;\n",
       "    }\n",
       "</style>\n",
       "<table border=\"1\" class=\"dataframe\">\n",
       "  <thead>\n",
       "    <tr style=\"text-align: right;\">\n",
       "      <th></th>\n",
       "      <th>Age</th>\n",
       "      <th>Attrition</th>\n",
       "      <th>BusinessTravel</th>\n",
       "      <th>DailyRate</th>\n",
       "      <th>Department</th>\n",
       "      <th>DistanceFromHome</th>\n",
       "      <th>Education</th>\n",
       "      <th>EducationField</th>\n",
       "      <th>EmployeeCount</th>\n",
       "      <th>EmployeeNumber</th>\n",
       "      <th>...</th>\n",
       "      <th>RelationshipSatisfaction</th>\n",
       "      <th>StandardHours</th>\n",
       "      <th>StockOptionLevel</th>\n",
       "      <th>TotalWorkingYears</th>\n",
       "      <th>TrainingTimesLastYear</th>\n",
       "      <th>WorkLifeBalance</th>\n",
       "      <th>YearsAtCompany</th>\n",
       "      <th>YearsInCurrentRole</th>\n",
       "      <th>YearsSinceLastPromotion</th>\n",
       "      <th>YearsWithCurrManager</th>\n",
       "    </tr>\n",
       "  </thead>\n",
       "  <tbody>\n",
       "    <tr>\n",
       "      <td>0</td>\n",
       "      <td>41</td>\n",
       "      <td>Yes</td>\n",
       "      <td>Travel_Rarely</td>\n",
       "      <td>1102</td>\n",
       "      <td>Sales</td>\n",
       "      <td>-2.574708</td>\n",
       "      <td>2</td>\n",
       "      <td>Life Sciences</td>\n",
       "      <td>1</td>\n",
       "      <td>1</td>\n",
       "      <td>...</td>\n",
       "      <td>1</td>\n",
       "      <td>80</td>\n",
       "      <td>0</td>\n",
       "      <td>-1.266343</td>\n",
       "      <td>-1.160545</td>\n",
       "      <td>1</td>\n",
       "      <td>-1.924524</td>\n",
       "      <td>-1.142672</td>\n",
       "      <td>-7.396027</td>\n",
       "      <td>-0.957913</td>\n",
       "    </tr>\n",
       "    <tr>\n",
       "      <td>1</td>\n",
       "      <td>49</td>\n",
       "      <td>No</td>\n",
       "      <td>Travel_Frequently</td>\n",
       "      <td>279</td>\n",
       "      <td>Research &amp; Development</td>\n",
       "      <td>-1.186319</td>\n",
       "      <td>1</td>\n",
       "      <td>Life Sciences</td>\n",
       "      <td>1</td>\n",
       "      <td>2</td>\n",
       "      <td>...</td>\n",
       "      <td>4</td>\n",
       "      <td>80</td>\n",
       "      <td>1</td>\n",
       "      <td>-1.118766</td>\n",
       "      <td>-0.490857</td>\n",
       "      <td>3</td>\n",
       "      <td>-1.398510</td>\n",
       "      <td>-0.771227</td>\n",
       "      <td>-4.523083</td>\n",
       "      <td>-0.725184</td>\n",
       "    </tr>\n",
       "    <tr>\n",
       "      <td>2</td>\n",
       "      <td>37</td>\n",
       "      <td>Yes</td>\n",
       "      <td>Travel_Rarely</td>\n",
       "      <td>1373</td>\n",
       "      <td>Research &amp; Development</td>\n",
       "      <td>-2.232187</td>\n",
       "      <td>2</td>\n",
       "      <td>Other</td>\n",
       "      <td>1</td>\n",
       "      <td>4</td>\n",
       "      <td>...</td>\n",
       "      <td>2</td>\n",
       "      <td>80</td>\n",
       "      <td>0</td>\n",
       "      <td>-1.349215</td>\n",
       "      <td>-0.490857</td>\n",
       "      <td>3</td>\n",
       "      <td>-3.660583</td>\n",
       "      <td>-2.085272</td>\n",
       "      <td>-7.396027</td>\n",
       "      <td>-2.049313</td>\n",
       "    </tr>\n",
       "    <tr>\n",
       "      <td>3</td>\n",
       "      <td>33</td>\n",
       "      <td>No</td>\n",
       "      <td>Travel_Frequently</td>\n",
       "      <td>1392</td>\n",
       "      <td>Research &amp; Development</td>\n",
       "      <td>-1.970876</td>\n",
       "      <td>4</td>\n",
       "      <td>Life Sciences</td>\n",
       "      <td>1</td>\n",
       "      <td>5</td>\n",
       "      <td>...</td>\n",
       "      <td>3</td>\n",
       "      <td>80</td>\n",
       "      <td>0</td>\n",
       "      <td>-1.266343</td>\n",
       "      <td>-0.490857</td>\n",
       "      <td>3</td>\n",
       "      <td>-1.632348</td>\n",
       "      <td>-0.771227</td>\n",
       "      <td>-2.333433</td>\n",
       "      <td>-2.049313</td>\n",
       "    </tr>\n",
       "    <tr>\n",
       "      <td>4</td>\n",
       "      <td>27</td>\n",
       "      <td>No</td>\n",
       "      <td>Travel_Rarely</td>\n",
       "      <td>591</td>\n",
       "      <td>Research &amp; Development</td>\n",
       "      <td>-2.232187</td>\n",
       "      <td>1</td>\n",
       "      <td>Medical</td>\n",
       "      <td>1</td>\n",
       "      <td>7</td>\n",
       "      <td>...</td>\n",
       "      <td>4</td>\n",
       "      <td>80</td>\n",
       "      <td>1</td>\n",
       "      <td>-1.439603</td>\n",
       "      <td>-0.490857</td>\n",
       "      <td>3</td>\n",
       "      <td>-2.836797</td>\n",
       "      <td>-1.501159</td>\n",
       "      <td>-3.148094</td>\n",
       "      <td>-1.458226</td>\n",
       "    </tr>\n",
       "  </tbody>\n",
       "</table>\n",
       "<p>5 rows × 35 columns</p>\n",
       "</div>"
      ],
      "text/plain": [
       "   Age Attrition     BusinessTravel  DailyRate              Department  \\\n",
       "0   41       Yes      Travel_Rarely       1102                   Sales   \n",
       "1   49        No  Travel_Frequently        279  Research & Development   \n",
       "2   37       Yes      Travel_Rarely       1373  Research & Development   \n",
       "3   33        No  Travel_Frequently       1392  Research & Development   \n",
       "4   27        No      Travel_Rarely        591  Research & Development   \n",
       "\n",
       "   DistanceFromHome  Education EducationField  EmployeeCount  EmployeeNumber  \\\n",
       "0         -2.574708          2  Life Sciences              1               1   \n",
       "1         -1.186319          1  Life Sciences              1               2   \n",
       "2         -2.232187          2          Other              1               4   \n",
       "3         -1.970876          4  Life Sciences              1               5   \n",
       "4         -2.232187          1        Medical              1               7   \n",
       "\n",
       "   ...  RelationshipSatisfaction StandardHours  StockOptionLevel  \\\n",
       "0  ...                         1            80                 0   \n",
       "1  ...                         4            80                 1   \n",
       "2  ...                         2            80                 0   \n",
       "3  ...                         3            80                 0   \n",
       "4  ...                         4            80                 1   \n",
       "\n",
       "   TotalWorkingYears  TrainingTimesLastYear WorkLifeBalance  YearsAtCompany  \\\n",
       "0          -1.266343              -1.160545               1       -1.924524   \n",
       "1          -1.118766              -0.490857               3       -1.398510   \n",
       "2          -1.349215              -0.490857               3       -3.660583   \n",
       "3          -1.266343              -0.490857               3       -1.632348   \n",
       "4          -1.439603              -0.490857               3       -2.836797   \n",
       "\n",
       "  YearsInCurrentRole  YearsSinceLastPromotion  YearsWithCurrManager  \n",
       "0          -1.142672                -7.396027             -0.957913  \n",
       "1          -0.771227                -4.523083             -0.725184  \n",
       "2          -2.085272                -7.396027             -2.049313  \n",
       "3          -0.771227                -2.333433             -2.049313  \n",
       "4          -1.501159                -3.148094             -1.458226  \n",
       "\n",
       "[5 rows x 35 columns]"
      ]
     },
     "execution_count": 17,
     "metadata": {},
     "output_type": "execute_result"
    }
   ],
   "source": [
    "box_cox_df.head()"
   ]
  },
  {
   "cell_type": "code",
   "execution_count": 18,
   "metadata": {},
   "outputs": [],
   "source": [
    "categorical_columns = ['Attrition','BusinessTravel','Department','Education','EducationField',\\\n",
    "                       'EnvironmentSatisfaction','Gender','JobInvolvement','JobLevel',\\\n",
    "                      'JobRole','JobSatisfaction','MaritalStatus','Over18',\\\n",
    "                      'OverTime','PerformanceRating','RelationshipSatisfaction',\\\n",
    "                      'StockOptionLevel','WorkLifeBalance']"
   ]
  },
  {
   "cell_type": "code",
   "execution_count": 19,
   "metadata": {},
   "outputs": [],
   "source": [
    "for column in categorical_columns:\n",
    "    box_cox_df[column] = box_cox_df[column].astype('category')"
   ]
  },
  {
   "cell_type": "code",
   "execution_count": 20,
   "metadata": {},
   "outputs": [],
   "source": [
    "X = box_cox_df.iloc[:,box_cox_df.columns!='Attrition']"
   ]
  },
  {
   "cell_type": "code",
   "execution_count": 23,
   "metadata": {},
   "outputs": [],
   "source": [
    "transformed_data = pd.get_dummies(X)\n",
    "features=transformed_data.columns\n",
    "np_transformed = np.array(transformed_data)\n",
    "pca = PCA(0.90)    #95% variance"
   ]
  },
  {
   "cell_type": "code",
   "execution_count": 24,
   "metadata": {},
   "outputs": [
    {
     "data": {
      "text/plain": [
       "PCA(copy=True, iterated_power='auto', n_components=0.9, random_state=None,\n",
       "    svd_solver='auto', tol=0.0, whiten=False)"
      ]
     },
     "execution_count": 24,
     "metadata": {},
     "output_type": "execute_result"
    }
   ],
   "source": [
    "pca.fit(scale(transformed_data))"
   ]
  },
  {
   "cell_type": "code",
   "execution_count": 25,
   "metadata": {},
   "outputs": [
    {
     "data": {
      "text/plain": [
       "array([0.07100357, 0.04668672, 0.03655199, 0.03415231, 0.0320853 ,\n",
       "       0.02865805, 0.02664364, 0.02623724, 0.0253624 , 0.02387915,\n",
       "       0.02264375, 0.02220428, 0.02156875, 0.02092606, 0.02016837,\n",
       "       0.01932091, 0.01922091, 0.01899426, 0.01822452, 0.01799693,\n",
       "       0.01754681, 0.01686893, 0.01673703, 0.01627218, 0.0160242 ,\n",
       "       0.01587399, 0.01556294, 0.01519278, 0.01502136, 0.0146276 ,\n",
       "       0.01453964, 0.01418352, 0.01389457, 0.01369644, 0.01342509,\n",
       "       0.01334902, 0.01309276, 0.01296693, 0.01271009, 0.01257932,\n",
       "       0.01217969, 0.01193703, 0.01182691, 0.01154374, 0.01132336])"
      ]
     },
     "execution_count": 25,
     "metadata": {},
     "output_type": "execute_result"
    }
   ],
   "source": [
    "pca.explained_variance_ratio_"
   ]
  },
  {
   "cell_type": "code",
   "execution_count": 26,
   "metadata": {},
   "outputs": [
    {
     "data": {
      "text/plain": [
       "45"
      ]
     },
     "execution_count": 26,
     "metadata": {},
     "output_type": "execute_result"
    }
   ],
   "source": [
    "pca.n_components_"
   ]
  },
  {
   "cell_type": "code",
   "execution_count": 27,
   "metadata": {},
   "outputs": [],
   "source": [
    "reduced_df = pca.transform(scale(transformed_data))"
   ]
  },
  {
   "cell_type": "code",
   "execution_count": 28,
   "metadata": {},
   "outputs": [],
   "source": [
    "columns = ['pca_%i' % i for i in range(pca.n_components_)]\n",
    "df_pca = pd.DataFrame(reduced_df, columns=columns)"
   ]
  },
  {
   "cell_type": "code",
   "execution_count": 30,
   "metadata": {},
   "outputs": [],
   "source": [
    "def metrics(y_pred,y_true):\n",
    "    print ('accuracy = ' ,accuracy_score(y_pred=y_pred,y_true=y_true))\n",
    "    print ('recall = ' ,recall_score(y_pred=y_pred,y_true=y_true))\n",
    "    print ('precision = ' ,precision_score(y_pred=y_pred,y_true=y_true))\n",
    "    print ('f1 score = ' ,f1_score(y_pred=y_pred,y_true=y_true))"
   ]
  },
  {
   "cell_type": "code",
   "execution_count": 31,
   "metadata": {},
   "outputs": [],
   "source": [
    "def resample(x,y):\n",
    "    resampling=SMOTE(sampling_strategy='auto')\n",
    "    xx,yy=resampling.fit_sample(x,y)\n",
    "    return(xx,yy)"
   ]
  },
  {
   "cell_type": "code",
   "execution_count": 58,
   "metadata": {},
   "outputs": [],
   "source": [
    "def crossvalidation(obj,objtext,X,Y,folds):\n",
    "    acc=[]\n",
    "    precision=[]\n",
    "    recall=[]\n",
    "    f1score=[]\n",
    "    Xarr=np.asarray(X)\n",
    "    Yarr=np.asarray(Y)\n",
    "    if len(Xarr)==len(Yarr):\n",
    "        for i in range(folds-1):\n",
    "            if i==0 or i==folds-2:\n",
    "                print('cross flod validation fold '+ '{}'.format(i+1))\n",
    "                aX,bX=np.split(Xarr,[int(len(Xarr)*(i+1)/folds)])\n",
    "                aY,bY=np.split(Yarr,[int(len(Yarr)*(i+1)/folds)])\n",
    "                if len(aX)>len(bX):\n",
    "                    X_train,X_test,Y_train,Y_test=aX,bX,aY,bY\n",
    "                else:\n",
    "                    X_train,X_test,Y_train,Y_test=bX,aX,bY,aY\n",
    "                prediction=obj.predict(X=X_test)\n",
    "                jj=0\n",
    "                for i in range(len(list(prediction))):\n",
    "                    if (list(prediction)[i]==list(Y_test)[i]):\n",
    "                        jj+=1\n",
    "                acc.append(float(jj)/len(prediction))\n",
    "                precision.append(precision_score(y_pred=list(prediction),y_true=list(Y_test),average='weighted'))\n",
    "                recall.append(recall_score(y_pred=list(prediction),y_true=list(Y_test),average='weighted'))\n",
    "                f1score.append(f1_score(y_pred=list(prediction),y_true=list(Y_test),average='weighted'))\n",
    "            else:\n",
    "                print('cross flod validation fold '+ '{}'.format(i+1))\n",
    "                aX,bX,cX=np.split(Xarr,[int(len(Xarr)*(i)/folds),int(len(Xarr)*(i+1)/folds)])\n",
    "                aY,bY,cY=np.split(Yarr,[int(len(Xarr)*(i)/folds),int(len(Xarr)*(i+1)/folds)])\n",
    "                aX,aY=np.concatenate((aX,cX),axis=0),np.concatenate((aY,cY),axis=0)\n",
    "                X_train,X_test,Y_train,Y_test=aX,bX,aY,bY\n",
    "                print('Fold 1')\n",
    "                prediction=eval('{}'.format(objtext)+'model(X_train,X_test,Y_train)')\n",
    "                jj=0\n",
    "                for i in range(len(list(prediction))):\n",
    "                    if (list(prediction)[i]==list(Y_test)[i]):\n",
    "                        jj+=1\n",
    "                acc.append(float(jj)/len(prediction))\n",
    "                precision.append(precision_score(y_pred=list(prediction),y_true=list(Y_test),average='weighted'))\n",
    "                recall.append(recall_score(y_pred=list(prediction),y_true=list(Y_test),average='weighted'))\n",
    "                f1score.append(f1_score(y_pred=list(prediction),y_true=list(Y_test),average='weighted'))\n",
    "        pre=sum(precision)/float(len(precision))\n",
    "        rec=sum(recall)/float(len(recall))\n",
    "        f1=sum(f1score)/float(len(f1score))\n",
    "        ac=sum(acc)/float(len(acc))\n",
    "        return(acc,pre,rec,f1)\n",
    "    else:\n",
    "        raise ValueError ('length of X and Y is not equal')"
   ]
  },
  {
   "cell_type": "markdown",
   "metadata": {},
   "source": [
    "<center><font size=10>With PCA</font><center>"
   ]
  },
  {
   "cell_type": "code",
   "execution_count": 33,
   "metadata": {},
   "outputs": [],
   "source": [
    "YY=[1 if i=='Yes' else 0 for i in data['Attrition']]"
   ]
  },
  {
   "cell_type": "code",
   "execution_count": 34,
   "metadata": {},
   "outputs": [
    {
     "data": {
      "text/plain": [
       "<matplotlib.axes._subplots.AxesSubplot at 0x1136fab10>"
      ]
     },
     "execution_count": 34,
     "metadata": {},
     "output_type": "execute_result"
    },
    {
     "data": {
      "image/png": "[encoded data removed]",
      "text/plain": [
       "<Figure size 432x288 with 1 Axes>"
      ]
     },
     "metadata": {
      "needs_background": "light"
     },
     "output_type": "display_data"
    }
   ],
   "source": [
    "pd.DataFrame(data=YY)[0].value_counts().plot(kind='bar')"
   ]
  },
  {
   "cell_type": "code",
   "execution_count": 35,
   "metadata": {},
   "outputs": [],
   "source": [
    "df_pca_,YY_pca=resample(x=df_pca,y=YY)"
   ]
  },
  {
   "cell_type": "code",
   "execution_count": 36,
   "metadata": {},
   "outputs": [
    {
     "data": {
      "text/plain": [
       "<matplotlib.axes._subplots.AxesSubplot at 0x13b6cda50>"
      ]
     },
     "execution_count": 36,
     "metadata": {},
     "output_type": "execute_result"
    },
    {
     "data": {
      "image/png": "[encoded data removed]",
      "text/plain": [
       "<Figure size 432x288 with 1 Axes>"
      ]
     },
     "metadata": {
      "needs_background": "light"
     },
     "output_type": "display_data"
    }
   ],
   "source": [
    "pd.DataFrame(data=YY_pca)[0].value_counts().plot(kind='bar')"
   ]
  },
  {
   "cell_type": "code",
   "execution_count": 37,
   "metadata": {},
   "outputs": [],
   "source": [
    "XX_pca=np.asarray(df_pca_)"
   ]
  },
  {
   "cell_type": "code",
   "execution_count": 38,
   "metadata": {},
   "outputs": [],
   "source": [
    "X_train,X_test,Y_train,Y_test=train_test_split(XX_pca,YY_pca,test_size=0.2)"
   ]
  },
  {
   "cell_type": "code",
   "execution_count": 39,
   "metadata": {},
   "outputs": [],
   "source": [
    "Model_RF=RandomForestClassifier(class_weight='balanced')"
   ]
  },
  {
   "cell_type": "code",
   "execution_count": 40,
   "metadata": {},
   "outputs": [
    {
     "name": "stderr",
     "output_type": "stream",
     "text": [
      "/Library/Frameworks/Python.framework/Versions/3.7/lib/python3.7/site-packages/sklearn/ensemble/forest.py:245: FutureWarning: The default value of n_estimators will change from 10 in version 0.20 to 100 in 0.22.\n",
      "  \"10 in version 0.20 to 100 in 0.22.\", FutureWarning)\n"
     ]
    },
    {
     "data": {
      "text/plain": [
       "RandomForestClassifier(bootstrap=True, class_weight='balanced',\n",
       "                       criterion='gini', max_depth=None, max_features='auto',\n",
       "                       max_leaf_nodes=None, min_impurity_decrease=0.0,\n",
       "                       min_impurity_split=None, min_samples_leaf=1,\n",
       "                       min_samples_split=2, min_weight_fraction_leaf=0.0,\n",
       "                       n_estimators=10, n_jobs=None, oob_score=False,\n",
       "                       random_state=None, verbose=0, warm_start=False)"
      ]
     },
     "execution_count": 40,
     "metadata": {},
     "output_type": "execute_result"
    }
   ],
   "source": [
    "Model_RF.fit(X=X_train,y=Y_train)"
   ]
  },
  {
   "cell_type": "code",
   "execution_count": 41,
   "metadata": {},
   "outputs": [],
   "source": [
    "predicted_values_RF=Model_RF.predict(X=X_test)"
   ]
  },
  {
   "cell_type": "code",
   "execution_count": 42,
   "metadata": {},
   "outputs": [
    {
     "name": "stdout",
     "output_type": "stream",
     "text": [
      "Random Forest Classifier With PCA\n",
      "accuracy =  0.8927125506072875\n",
      "recall =  0.8690476190476191\n",
      "precision =  0.9163179916317992\n",
      "f1 score =  0.8920570264765784\n"
     ]
    }
   ],
   "source": [
    "print('Random Forest Classifier With PCA')\n",
    "metrics(y_pred=predicted_values_RF,y_true=Y_test)"
   ]
  },
  {
   "cell_type": "code",
   "execution_count": 59,
   "metadata": {},
   "outputs": [
    {
     "name": "stdout",
     "output_type": "stream",
     "text": [
      "cross flod validation fold 1\n",
      "cross flod validation fold 2\n",
      "Fold 1\n"
     ]
    },
    {
     "name": "stderr",
     "output_type": "stream",
     "text": [
      "/Library/Frameworks/Python.framework/Versions/3.7/lib/python3.7/site-packages/sklearn/ensemble/forest.py:245: FutureWarning: The default value of n_estimators will change from 10 in version 0.20 to 100 in 0.22.\n",
      "  \"10 in version 0.20 to 100 in 0.22.\", FutureWarning)\n",
      "/Library/Frameworks/Python.framework/Versions/3.7/lib/python3.7/site-packages/sklearn/ensemble/forest.py:245: FutureWarning: The default value of n_estimators will change from 10 in version 0.20 to 100 in 0.22.\n",
      "  \"10 in version 0.20 to 100 in 0.22.\", FutureWarning)\n"
     ]
    },
    {
     "name": "stdout",
     "output_type": "stream",
     "text": [
      "cross flod validation fold 3\n",
      "Fold 1\n",
      "cross flod validation fold 4\n"
     ]
    },
    {
     "name": "stderr",
     "output_type": "stream",
     "text": [
      "/Library/Frameworks/Python.framework/Versions/3.7/lib/python3.7/site-packages/sklearn/metrics/classification.py:1439: UndefinedMetricWarning: Recall is ill-defined and being set to 0.0 in labels with no true samples.\n",
      "  'recall', 'true', average, warn_for)\n",
      "/Library/Frameworks/Python.framework/Versions/3.7/lib/python3.7/site-packages/sklearn/metrics/classification.py:1439: UndefinedMetricWarning: F-score is ill-defined and being set to 0.0 in labels with no true samples.\n",
      "  'recall', 'true', average, warn_for)\n"
     ]
    },
    {
     "data": {
      "text/plain": [
       "([0.9797160243407708,\n",
       "  0.8701825557809331,\n",
       "  0.845841784989858,\n",
       "  0.9736842105263158],\n",
       " 0.9420787758660162,\n",
       " 0.9173561439094694,\n",
       " 0.92589260872547)"
      ]
     },
     "execution_count": 59,
     "metadata": {},
     "output_type": "execute_result"
    }
   ],
   "source": [
    "def RFmodel(X_train,X_test,Y_train):\n",
    "    Model_RF=RandomForestClassifier(class_weight='balanced')\n",
    "    Model_RF.fit(X=X_train,y=Y_train)\n",
    "    predicted_values_RF=Model_RF.predict(X=X_test)\n",
    "    return(predicted_values_RF)\n",
    "crossvalidation(Model_RF,\"RF\",XX_pca,YY_pca,5)"
   ]
  },
  {
   "cell_type": "code",
   "execution_count": 60,
   "metadata": {},
   "outputs": [],
   "source": [
    "Model_LR=LogisticRegression(class_weight='balanced')"
   ]
  },
  {
   "cell_type": "code",
   "execution_count": 61,
   "metadata": {},
   "outputs": [
    {
     "name": "stderr",
     "output_type": "stream",
     "text": [
      "/Library/Frameworks/Python.framework/Versions/3.7/lib/python3.7/site-packages/sklearn/linear_model/logistic.py:432: FutureWarning: Default solver will be changed to 'lbfgs' in 0.22. Specify a solver to silence this warning.\n",
      "  FutureWarning)\n"
     ]
    },
    {
     "data": {
      "text/plain": [
       "LogisticRegression(C=1.0, class_weight='balanced', dual=False,\n",
       "                   fit_intercept=True, intercept_scaling=1, l1_ratio=None,\n",
       "                   max_iter=100, multi_class='warn', n_jobs=None, penalty='l2',\n",
       "                   random_state=None, solver='warn', tol=0.0001, verbose=0,\n",
       "                   warm_start=False)"
      ]
     },
     "execution_count": 61,
     "metadata": {},
     "output_type": "execute_result"
    }
   ],
   "source": [
    "Model_LR.fit(X=X_train,y=Y_train)"
   ]
  },
  {
   "cell_type": "code",
   "execution_count": 62,
   "metadata": {},
   "outputs": [],
   "source": [
    "predicted_values_LR=Model_LR.predict(X=X_test)"
   ]
  },
  {
   "cell_type": "code",
   "execution_count": 63,
   "metadata": {},
   "outputs": [
    {
     "name": "stdout",
     "output_type": "stream",
     "text": [
      "Logistic Regression With PCA\n",
      "accuracy =  0.8218623481781376\n",
      "recall =  0.8253968253968254\n",
      "precision =  0.8253968253968254\n",
      "f1 score =  0.8253968253968254\n"
     ]
    }
   ],
   "source": [
    "print('Logistic Regression With PCA')\n",
    "metrics(y_pred=predicted_values_LR,y_true=Y_test)"
   ]
  },
  {
   "cell_type": "code",
   "execution_count": 67,
   "metadata": {},
   "outputs": [
    {
     "name": "stdout",
     "output_type": "stream",
     "text": [
      "cross flod validation fold 1\n",
      "cross flod validation fold 2\n",
      "Fold 1\n",
      "cross flod validation fold 3\n",
      "Fold 1\n",
      "cross flod validation fold 4\n"
     ]
    },
    {
     "name": "stderr",
     "output_type": "stream",
     "text": [
      "/Library/Frameworks/Python.framework/Versions/3.7/lib/python3.7/site-packages/sklearn/linear_model/logistic.py:432: FutureWarning: Default solver will be changed to 'lbfgs' in 0.22. Specify a solver to silence this warning.\n",
      "  FutureWarning)\n",
      "/Library/Frameworks/Python.framework/Versions/3.7/lib/python3.7/site-packages/sklearn/linear_model/logistic.py:432: FutureWarning: Default solver will be changed to 'lbfgs' in 0.22. Specify a solver to silence this warning.\n",
      "  FutureWarning)\n",
      "/Library/Frameworks/Python.framework/Versions/3.7/lib/python3.7/site-packages/sklearn/metrics/classification.py:1439: UndefinedMetricWarning: Recall is ill-defined and being set to 0.0 in labels with no true samples.\n",
      "  'recall', 'true', average, warn_for)\n",
      "/Library/Frameworks/Python.framework/Versions/3.7/lib/python3.7/site-packages/sklearn/metrics/classification.py:1439: UndefinedMetricWarning: F-score is ill-defined and being set to 0.0 in labels with no true samples.\n",
      "  'recall', 'true', average, warn_for)\n"
     ]
    },
    {
     "data": {
      "text/plain": [
       "([0.8133874239350912,\n",
       "  0.8012170385395537,\n",
       "  0.6673427991886409,\n",
       "  0.8380566801619433],\n",
       " 0.897914954701224,\n",
       " 0.7800009854563072,\n",
       " 0.8180957020091271)"
      ]
     },
     "execution_count": 67,
     "metadata": {},
     "output_type": "execute_result"
    }
   ],
   "source": [
    "def LRmodel(X_train,X_test,Y_train):\n",
    "    Model_LR=LogisticRegression(class_weight='balanced')\n",
    "    Model_LR.fit(X=X_train,y=Y_train)\n",
    "    predicted_values_LR=Model_LR.predict(X=X_test)\n",
    "    return(predicted_values_LR)\n",
    "crossvalidation(Model_LR,\"LR\",XX_pca,YY_pca,5)"
   ]
  },
  {
   "cell_type": "markdown",
   "metadata": {},
   "source": [
    "<center><font size=10>Without PCA</font><center>"
   ]
  },
  {
   "cell_type": "code",
   "execution_count": 64,
   "metadata": {},
   "outputs": [],
   "source": [
    "XX_woPCA,YY_wo=resample(x=transformed_data,y=YY)"
   ]
  },
  {
   "cell_type": "code",
   "execution_count": 65,
   "metadata": {},
   "outputs": [],
   "source": [
    "XX_woPCA=np.asarray(XX_woPCA)"
   ]
  },
  {
   "cell_type": "code",
   "execution_count": 66,
   "metadata": {},
   "outputs": [],
   "source": [
    "X_train_wo,X_test_wo,Y_train_wo,Y_test_wo=train_test_split(XX_woPCA,YY_wo,test_size=0.2)"
   ]
  },
  {
   "cell_type": "code",
   "execution_count": 68,
   "metadata": {},
   "outputs": [],
   "source": [
    "Model_RF=RandomForestClassifier(class_weight='balanced')"
   ]
  },
  {
   "cell_type": "code",
   "execution_count": 69,
   "metadata": {},
   "outputs": [
    {
     "name": "stderr",
     "output_type": "stream",
     "text": [
      "/Library/Frameworks/Python.framework/Versions/3.7/lib/python3.7/site-packages/sklearn/ensemble/forest.py:245: FutureWarning: The default value of n_estimators will change from 10 in version 0.20 to 100 in 0.22.\n",
      "  \"10 in version 0.20 to 100 in 0.22.\", FutureWarning)\n"
     ]
    },
    {
     "data": {
      "text/plain": [
       "RandomForestClassifier(bootstrap=True, class_weight='balanced',\n",
       "                       criterion='gini', max_depth=None, max_features='auto',\n",
       "                       max_leaf_nodes=None, min_impurity_decrease=0.0,\n",
       "                       min_impurity_split=None, min_samples_leaf=1,\n",
       "                       min_samples_split=2, min_weight_fraction_leaf=0.0,\n",
       "                       n_estimators=10, n_jobs=None, oob_score=False,\n",
       "                       random_state=None, verbose=0, warm_start=False)"
      ]
     },
     "execution_count": 69,
     "metadata": {},
     "output_type": "execute_result"
    }
   ],
   "source": [
    "Model_RF.fit(X=X_train_wo,y=Y_train_wo)"
   ]
  },
  {
   "cell_type": "code",
   "execution_count": 70,
   "metadata": {},
   "outputs": [],
   "source": [
    "predicted_values_RF_wo=Model_RF.predict(X=X_test_wo)"
   ]
  },
  {
   "cell_type": "code",
   "execution_count": 71,
   "metadata": {},
   "outputs": [
    {
     "name": "stdout",
     "output_type": "stream",
     "text": [
      "Random Forest Classifier Without PCA\n",
      "accuracy =  0.9109311740890689\n",
      "recall =  0.8582677165354331\n",
      "precision =  0.9646017699115044\n",
      "f1 score =  0.9083333333333333\n"
     ]
    }
   ],
   "source": [
    "print('Random Forest Classifier Without PCA')\n",
    "metrics(y_pred=predicted_values_RF_wo,y_true=Y_test_wo)"
   ]
  },
  {
   "cell_type": "code",
   "execution_count": 72,
   "metadata": {},
   "outputs": [],
   "source": [
    "Model_LR=LogisticRegression(class_weight='balanced')"
   ]
  },
  {
   "cell_type": "code",
   "execution_count": 73,
   "metadata": {},
   "outputs": [
    {
     "name": "stderr",
     "output_type": "stream",
     "text": [
      "/Library/Frameworks/Python.framework/Versions/3.7/lib/python3.7/site-packages/sklearn/linear_model/logistic.py:432: FutureWarning: Default solver will be changed to 'lbfgs' in 0.22. Specify a solver to silence this warning.\n",
      "  FutureWarning)\n"
     ]
    },
    {
     "data": {
      "text/plain": [
       "LogisticRegression(C=1.0, class_weight='balanced', dual=False,\n",
       "                   fit_intercept=True, intercept_scaling=1, l1_ratio=None,\n",
       "                   max_iter=100, multi_class='warn', n_jobs=None, penalty='l2',\n",
       "                   random_state=None, solver='warn', tol=0.0001, verbose=0,\n",
       "                   warm_start=False)"
      ]
     },
     "execution_count": 73,
     "metadata": {},
     "output_type": "execute_result"
    }
   ],
   "source": [
    "Model_LR.fit(X=X_train_wo,y=Y_train_wo)"
   ]
  },
  {
   "cell_type": "code",
   "execution_count": 74,
   "metadata": {},
   "outputs": [],
   "source": [
    "predicted_values_LR_wo=Model_LR.predict(X=X_test_wo)"
   ]
  },
  {
   "cell_type": "code",
   "execution_count": 75,
   "metadata": {},
   "outputs": [
    {
     "name": "stdout",
     "output_type": "stream",
     "text": [
      "Logistic Regression Without PCA\n",
      "accuracy =  0.8238866396761133\n",
      "recall =  0.8307086614173228\n",
      "precision =  0.8274509803921568\n",
      "f1 score =  0.8290766208251472\n"
     ]
    }
   ],
   "source": [
    "print('Logistic Regression Without PCA')\n",
    "metrics(y_pred=predicted_values_LR_wo,y_true=Y_test_wo)"
   ]
  },
  {
   "cell_type": "code",
   "execution_count": 76,
   "metadata": {},
   "outputs": [],
   "source": [
    "def feature_importance(model):\n",
    "    importances=model.feature_importances_\n",
    "    std = np.std([tree.feature_importances_ for tree in model.estimators_],axis=0)\n",
    "    indices = np.argsort(importances)[::-1]\n",
    "    for f in range(transformed_data.shape[1]):\n",
    "        print(\"%d. feature %s (%f)\" % (f + 1, features[indices[f]], importances[indices[f]]))"
   ]
  },
  {
   "cell_type": "code",
   "execution_count": 77,
   "metadata": {
    "scrolled": true
   },
   "outputs": [
    {
     "name": "stdout",
     "output_type": "stream",
     "text": [
      "1. feature OverTime_Yes (0.102470)\n",
      "2. feature JobLevel_1 (0.070768)\n",
      "3. feature OverTime_No (0.070659)\n",
      "4. feature MaritalStatus_Single (0.046791)\n",
      "5. feature StockOptionLevel_1 (0.036476)\n",
      "6. feature BusinessTravel_Travel_Frequently (0.033118)\n",
      "7. feature EnvironmentSatisfaction_1 (0.028682)\n",
      "8. feature Department_Research & Development (0.026630)\n",
      "9. feature MonthlyIncome (0.025157)\n",
      "10. feature Education_3 (0.021556)\n",
      "11. feature Age (0.021046)\n",
      "12. feature StockOptionLevel_0 (0.018406)\n",
      "13. feature DistanceFromHome (0.017604)\n",
      "14. feature TotalWorkingYears (0.017574)\n",
      "15. feature EmployeeNumber (0.017370)\n",
      "16. feature EnvironmentSatisfaction_3 (0.017303)\n",
      "17. feature YearsWithCurrManager (0.017028)\n",
      "18. feature WorkLifeBalance_3 (0.016066)\n",
      "19. feature DailyRate (0.015982)\n",
      "20. feature YearsAtCompany (0.015485)\n",
      "21. feature MonthlyRate (0.015347)\n",
      "22. feature JobLevel_2 (0.015031)\n",
      "23. feature JobRole_Sales Representative (0.014805)\n",
      "24. feature MaritalStatus_Married (0.014544)\n",
      "25. feature YearsInCurrentRole (0.014060)\n",
      "26. feature JobSatisfaction_4 (0.013903)\n",
      "27. feature HourlyRate (0.013697)\n",
      "28. feature Department_Sales (0.013653)\n",
      "29. feature EducationField_Life Sciences (0.012828)\n",
      "30. feature NumCompaniesWorked (0.010802)\n",
      "31. feature EducationField_Medical (0.010094)\n",
      "32. feature MaritalStatus_Divorced (0.009734)\n",
      "33. feature JobInvolvement_1 (0.009401)\n",
      "34. feature PercentSalaryHike (0.009104)\n",
      "35. feature JobRole_Sales Executive (0.009001)\n",
      "36. feature BusinessTravel_Travel_Rarely (0.008558)\n",
      "37. feature Education_2 (0.008509)\n",
      "38. feature JobSatisfaction_3 (0.008401)\n",
      "39. feature JobSatisfaction_1 (0.008232)\n",
      "40. feature WorkLifeBalance_2 (0.007300)\n",
      "41. feature StockOptionLevel_3 (0.007214)\n",
      "42. feature Gender_Female (0.006993)\n",
      "43. feature Gender_Male (0.006485)\n",
      "44. feature TrainingTimesLastYear (0.006405)\n",
      "45. feature EnvironmentSatisfaction_4 (0.006304)\n",
      "46. feature JobInvolvement_3 (0.006064)\n",
      "47. feature Education_1 (0.005896)\n",
      "48. feature RelationshipSatisfaction_1 (0.005883)\n",
      "49. feature WorkLifeBalance_1 (0.005658)\n",
      "50. feature StockOptionLevel_2 (0.005653)\n",
      "51. feature EducationField_Technical Degree (0.005276)\n",
      "52. feature YearsSinceLastPromotion (0.005241)\n",
      "53. feature JobRole_Research Scientist (0.004856)\n",
      "54. feature JobRole_Laboratory Technician (0.004797)\n",
      "55. feature JobInvolvement_2 (0.004425)\n",
      "56. feature RelationshipSatisfaction_4 (0.004153)\n",
      "57. feature EnvironmentSatisfaction_2 (0.003704)\n",
      "58. feature Education_4 (0.003465)\n",
      "59. feature JobLevel_3 (0.003459)\n",
      "60. feature JobRole_Manufacturing Director (0.002794)\n",
      "61. feature RelationshipSatisfaction_2 (0.002781)\n",
      "62. feature JobSatisfaction_2 (0.002772)\n",
      "63. feature PerformanceRating_4 (0.002744)\n",
      "64. feature PerformanceRating_3 (0.002556)\n",
      "65. feature RelationshipSatisfaction_3 (0.002435)\n",
      "66. feature BusinessTravel_Non-Travel (0.002288)\n",
      "67. feature JobRole_Manager (0.002174)\n",
      "68. feature EducationField_Marketing (0.002162)\n",
      "69. feature WorkLifeBalance_4 (0.001889)\n",
      "70. feature Department_Human Resources (0.001721)\n",
      "71. feature Education_5 (0.001285)\n",
      "72. feature JobRole_Healthcare Representative (0.001245)\n",
      "73. feature JobLevel_5 (0.001220)\n",
      "74. feature EducationField_Human Resources (0.000952)\n",
      "75. feature EducationField_Other (0.000941)\n",
      "76. feature JobInvolvement_4 (0.000898)\n",
      "77. feature JobLevel_4 (0.000827)\n",
      "78. feature JobRole_Human Resources (0.000716)\n",
      "79. feature JobRole_Research Director (0.000496)\n",
      "80. feature Over18_Y (0.000000)\n",
      "81. feature StandardHours (0.000000)\n",
      "82. feature EmployeeCount (0.000000)\n"
     ]
    }
   ],
   "source": [
    "feature_importance(Model_RF)"
   ]
  },
  {
   "cell_type": "code",
   "execution_count": 79,
   "metadata": {},
   "outputs": [
    {
     "name": "stdout",
     "output_type": "stream",
     "text": [
      "1.0 = 78\n",
      "0.99 = 69\n",
      "0.98 = 64\n",
      "0.97 = 60\n",
      "0.96 = 57\n",
      "0.95 = 54\n",
      "0.94 = 52\n",
      "0.93 = 50\n",
      "0.92 = 48\n",
      "0.91 = 47\n",
      "0.9 = 45\n",
      "0.89 = 43\n",
      "0.88 = 42\n",
      "0.87 = 40\n",
      "0.86 = 39\n",
      "0.85 = 38\n",
      "0.84 = 37\n",
      "0.83 = 35\n",
      "0.82 = 34\n",
      "0.81 = 33\n",
      "0.8 = 32\n",
      "0.79 = 31\n",
      "0.78 = 30\n",
      "0.77 = 29\n",
      "0.76 = 28\n",
      "0.75 = 27\n",
      "0.74 = 27\n",
      "0.73 = 26\n",
      "0.72 = 25\n",
      "0.71 = 25\n",
      "0.7 = 24\n",
      "0.69 = 23\n",
      "0.68 = 22\n",
      "0.67 = 22\n",
      "0.66 = 21\n",
      "0.65 = 20\n",
      "0.64 = 20\n",
      "0.63 = 19\n",
      "0.62 = 18\n",
      "0.61 = 18\n",
      "0.6 = 17\n",
      "0.59 = 17\n",
      "0.58 = 16\n",
      "0.57 = 15\n",
      "0.56 = 15\n",
      "0.55 = 14\n",
      "0.54 = 14\n",
      "0.53 = 13\n",
      "0.52 = 13\n",
      "0.51 = 12\n",
      "0.5 = 11\n",
      "0.49 = 11\n",
      "0.48 = 10\n",
      "0.47 = 10\n",
      "0.46 = 9\n",
      "0.45 = 9\n",
      "0.44 = 8\n",
      "0.43 = 8\n",
      "0.42 = 8\n",
      "0.41 = 7\n",
      "0.4 = 7\n",
      "0.39 = 7\n",
      "0.38 = 6\n",
      "0.37 = 6\n",
      "0.36 = 5\n",
      "0.35 = 5\n",
      "0.34 = 5\n",
      "0.33 = 5\n",
      "0.32 = 4\n",
      "0.31 = 4\n",
      "0.3 = 4\n",
      "0.29 = 3\n",
      "0.28 = 3\n",
      "0.27 = 3\n",
      "0.26 = 3\n",
      "0.25 = 3\n",
      "0.24 = 2\n",
      "0.23 = 2\n",
      "0.22 = 2\n",
      "0.21 = 2\n",
      "0.2 = 2\n",
      "0.19 = 2\n",
      "0.18 = 2\n",
      "0.17 = 1\n",
      "0.16 = 1\n",
      "0.15 = 1\n",
      "0.14 = 1\n",
      "0.13 = 1\n",
      "0.12 = 1\n",
      "0.11 = 1\n",
      "0.1 = 0\n",
      "0.09 = 0\n",
      "0.08 = 0\n",
      "0.07 = 0\n",
      "0.06 = 0\n",
      "0.05 = 0\n",
      "0.04 = 0\n",
      "0.03 = 0\n",
      "0.02 = 0\n",
      "0.01 = 0\n"
     ]
    }
   ],
   "source": [
    "importance=Model_RF.feature_importances_\n",
    "importance=np.sort(importance)[::-1]\n",
    "temp=0\n",
    "aggri=[]\n",
    "for i in list(importance):\n",
    "    temp=temp+i\n",
    "    aggri.append(temp)\n",
    "aggri=np.asarray(aggri)\n",
    "for i in range(100):\n",
    "    print (float(100-i)/100,'=', len(aggri[aggri<(float(100-i)/100)]))"
   ]
  },
  {
   "cell_type": "code",
   "execution_count": null,
   "metadata": {},
   "outputs": [],
   "source": []
  }
 ],
 "metadata": {
  "kernelspec": {
   "display_name": "Python 3",
   "language": "python",
   "name": "python3"
  },
  "language_info": {
   "codemirror_mode": {
    "name": "ipython",
    "version": 3
   },
   "file_extension": ".py",
   "mimetype": "text/x-python",
   "name": "python",
   "nbconvert_exporter": "python",
   "pygments_lexer": "ipython3",
   "version": "3.7.4"
  }
 },
 "nbformat": 4,
 "nbformat_minor": 2
}
