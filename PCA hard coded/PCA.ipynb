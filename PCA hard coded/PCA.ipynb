{
 "cells": [
  {
   "cell_type": "code",
   "execution_count": 1,
   "metadata": {},
   "outputs": [],
   "source": [
    "import numpy as np\n",
    "import pandas as pd"
   ]
  },
  {
   "cell_type": "code",
   "execution_count": 2,
   "metadata": {},
   "outputs": [],
   "source": [
    "def meanvector(d):\n",
    "    meanvectorlist=[]\n",
    "    for i in d.columns:\n",
    "        meanvectorlist.append(np.mean(d[i]))\n",
    "    return([meanvectorlist])"
   ]
  },
  {
   "cell_type": "code",
   "execution_count": 3,
   "metadata": {},
   "outputs": [],
   "source": [
    "def generateunitemat(d):\n",
    "    generateunitmat=[]\n",
    "    for i in range(len(d)):\n",
    "        generateunitmat.append([1])\n",
    "    return(generateunitmat)"
   ]
  },
  {
   "cell_type": "code",
   "execution_count": 4,
   "metadata": {},
   "outputs": [],
   "source": [
    "def datamatrix(d):\n",
    "    datalist=[]\n",
    "    for i in range(len(d)):\n",
    "        datalist.append(list(data.iloc[i]))\n",
    "    return(datalist)"
   ]
  },
  {
   "cell_type": "code",
   "execution_count": 37,
   "metadata": {},
   "outputs": [],
   "source": [
    "def PCAAnalysis(data,cutoff):\n",
    "    for i in range(len(data.columns)):\n",
    "        mean=np.mean(a=data[data.columns[i]])\n",
    "        var=0\n",
    "        kk=0\n",
    "        for k in data[data.columns[i]]:\n",
    "            var=var+(mean-k)**2\n",
    "            kk=kk+1\n",
    "        var=var/kk\n",
    "        for j in range(len(data[data.columns[i]])):\n",
    "            data[data.columns[i]][j]=(data[data.columns[i]][j]-mean)/(var)**0.5\n",
    "    Z=datamatrix(data)- np.dot(generateunitemat(data),meanvector(data))\n",
    "    covariance_matrix=len(data)**-1*np.dot(Z.transpose(),Z)\n",
    "    eigval,eigvec=np.linalg.eig(covariance_matrix)\n",
    "    temp=eigval.tolist()\n",
    "    sortedeigval=[]\n",
    "    temp.sort(reverse=True)\n",
    "    indexx=[]\n",
    "    for i in temp:\n",
    "        indexx.append(eigval.tolist().index(i))\n",
    "    for i in indexx:\n",
    "        sortedeigval.append(eigval[i])\n",
    "    varratio=np.asarray(temp)/sum(temp)\n",
    "    k=0\n",
    "    cutoffvalue=0\n",
    "    text=\"<---- cutoff PCA\"\n",
    "    for i in range(len(varratio)):\n",
    "        k=k+varratio[i]\n",
    "        if k<cutoff:\n",
    "            print(i,k)\n",
    "        if k>cutoff:\n",
    "            if text!=\"\":\n",
    "                print(i,k,text)\n",
    "                cutoffvalue=i\n",
    "                text=\"\"\n",
    "            else:\n",
    "                print(i,k)\n",
    "    PCAvec=[]\n",
    "    for i in indexx[:cutoffvalue]:\n",
    "        PCAvec.append(eigvec.transpose()[i])\n",
    "    PCAvec=np.asarray(PCAvec).transpose()\n",
    "    Data=data.values\n",
    "    projectedmat=np.dot(Data,PCAvec)\n",
    "    print(\"PCA matrix for cutoff value\")\n",
    "    print(projectedmat)\n",
    "    return(projectedmat,sortedeigval)"
   ]
  },
  {
   "cell_type": "code",
   "execution_count": 38,
   "metadata": {},
   "outputs": [],
   "source": [
    "data=pd.read_csv(\"./data.csv\")"
   ]
  },
  {
   "cell_type": "code",
   "execution_count": 39,
   "metadata": {},
   "outputs": [
    {
     "name": "stderr",
     "output_type": "stream",
     "text": [
      "/Library/Frameworks/Python.framework/Versions/3.7/lib/python3.7/site-packages/ipykernel_launcher.py:11: SettingWithCopyWarning: \n",
      "A value is trying to be set on a copy of a slice from a DataFrame\n",
      "\n",
      "See the caveats in the documentation: http://pandas.pydata.org/pandas-docs/stable/user_guide/indexing.html#returning-a-view-versus-a-copy\n",
      "  # This is added back by InteractiveShellApp.init_path()\n"
     ]
    },
    {
     "name": "stdout",
     "output_type": "stream",
     "text": [
      "0 0.36647374773447905\n",
      "1 0.6164173380458366\n",
      "2 0.7571985066086796\n",
      "3 0.8390103568827051\n",
      "4 0.8874703660876343\n",
      "5 0.9242075460338165 <---- cutoff PCA\n",
      "6 0.9574314917535894\n",
      "7 0.9760511893969817\n",
      "8 0.9879552982451424\n",
      "9 0.9961520054233014\n",
      "10 0.9977770649137766\n",
      "11 0.9992563714975229\n",
      "12 0.9999999999999999\n",
      "13 0.9999999999999999\n",
      "PCA matrix for cutoff value\n",
      "[[-5.69160491e+01 -2.14289318e+01 -1.29030465e+00  1.13952811e+01\n",
      "  -4.24060047e-01]\n",
      " [ 2.19588787e+00 -4.65343274e+00 -2.31077998e-01 -8.65615120e-03\n",
      "  -6.47940408e-01]\n",
      " [ 8.77501359e-01 -2.36791095e+00  7.93787997e-01  2.45077037e-01\n",
      "  -1.13483179e+00]\n",
      " ...\n",
      " [-6.56916814e-01 -1.12512048e-01 -3.00555537e+00 -1.58162875e+00\n",
      "   1.05091594e-01]\n",
      " [-5.81932378e-01  1.17591701e+00 -2.32683225e+00 -7.01536418e-01\n",
      "  -4.92460822e-02]\n",
      " [-3.61191050e-02  1.21722135e+00 -2.12592025e+00  4.14309329e-01\n",
      "  -1.38615431e-01]]\n"
     ]
    }
   ],
   "source": [
    "eigval=PCAAnalysis(data,0.90)"
   ]
  },
  {
   "cell_type": "code",
   "execution_count": null,
   "metadata": {},
   "outputs": [],
   "source": []
  }
 ],
 "metadata": {
  "kernelspec": {
   "display_name": "Python 3",
   "language": "python",
   "name": "python3"
  },
  "language_info": {
   "codemirror_mode": {
    "name": "ipython",
    "version": 3
   },
   "file_extension": ".py",
   "mimetype": "text/x-python",
   "name": "python",
   "nbconvert_exporter": "python",
   "pygments_lexer": "ipython3",
   "version": "3.7.4"
  }
 },
 "nbformat": 4,
 "nbformat_minor": 2
}
