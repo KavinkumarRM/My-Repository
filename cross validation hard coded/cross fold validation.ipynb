{
 "cells": [
  {
   "cell_type": "code",
   "execution_count": 1,
   "metadata": {},
   "outputs": [],
   "source": [
    "import numpy as np\n",
    "import pandas as pd\n",
    "from sklearn.metrics import precision_score,recall_score,f1_score"
   ]
  },
  {
   "cell_type": "code",
   "execution_count": 2,
   "metadata": {},
   "outputs": [],
   "source": [
    "def crossvalidation(obj,X,Y,folds):\n",
    "    acc=[]\n",
    "    precision=[]\n",
    "    recall=[]\n",
    "    f1score=[]\n",
    "    Xarr=np.asarray(X)\n",
    "    Yarr=np.asarray(Y)\n",
    "    if len(Xarr)==len(Yarr):\n",
    "        for i in range(folds-1):\n",
    "            if i==0 or i==folds-2:\n",
    "                print('cross flod validation fold '+ '{}'.format(i+1))\n",
    "                aX,bX=np.split(Xarr,[int(len(Xarr)*(i+1)/folds)])\n",
    "                aY,bY=np.split(Yarr,[int(len(Yarr)*(i+1)/folds)])\n",
    "                if len(aX)>len(bX):\n",
    "                    X_train,X_test,Y_train,Y_test=aX,bX,aY,bY\n",
    "                else:\n",
    "                    X_train,X_test,Y_train,Y_test=bX,aX,bY,aY\n",
    "                prediction=eval('{}'.format(obj)+'model(X_train,X_test,Y_train)')\n",
    "                jj=0\n",
    "                for i in range(len(list(prediction))):\n",
    "                    if (list(prediction)[i]==list(Y_test)[i]):\n",
    "                        jj+=1\n",
    "                acc.append(float(jj)/len(prediction))\n",
    "                precision.append(precision_score(y_pred=list(prediction),y_true=list(Y_test),average='weighted'))\n",
    "                recall.append(recall_score(y_pred=list(prediction),y_true=list(Y_test),average='weighted'))\n",
    "                f1score.append(f1_score(y_pred=list(prediction),y_true=list(Y_test),average='weighted'))\n",
    "            else:\n",
    "                print('cross flod validation fold '+ '{}'.format(i+1))\n",
    "                aX,bX,cX=np.split(Xarr,[int(len(Xarr)*(i)/folds),int(len(Xarr)*(i+1)/folds)])\n",
    "                aY,bY,cX=np.split(Yarr,[int(len(Xarr)*(i)/folds),int(len(Xarr)*(i+1)/folds)])\n",
    "                aX,aY=np.concatenate((aX,cX),axis=0),np.concatenate((aY,cY),axis=0)\n",
    "                X_train,X_test,Y_train,Y_test=aX,bX,aY,bY\n",
    "                print('Fold 1')\n",
    "                prediction=eval('{}'.format(obj)+'model(X_train,X_test,Y_train)')\n",
    "                jj=0\n",
    "                for i in range(len(list(prediction))):\n",
    "                    if (list(prediction)[i]==list(Y_test)[i]):\n",
    "                        jj+=1\n",
    "                acc.append(float(jj)/len(prediction))\n",
    "                precision.append(precision_score(y_pred=list(prediction),y_true=list(Y_test),average='weighted'))\n",
    "                recall.append(recall_score(y_pred=list(prediction),y_true=list(Y_test),average='weighted'))\n",
    "                f1score.append(f1_score(y_pred=list(prediction),y_true=list(Y_test),average='weighted'))\n",
    "        pre=sum(precision)/float(len(precision))\n",
    "        rec=sum(recall)/float(len(recall))\n",
    "        f1=sum(f1score)/float(len(f1score))\n",
    "        ac=sum(acc)/float(len(acc))\n",
    "        return(acc,pre,rec,f1)\n",
    "    else:\n",
    "        raise ValueError ('length of X and Y is not equal')\n"
   ]
  }
 ],
 "metadata": {
  "kernelspec": {
   "display_name": "Python 3",
   "language": "python",
   "name": "python3"
  },
  "language_info": {
   "codemirror_mode": {
    "name": "ipython",
    "version": 3
   },
   "file_extension": ".py",
   "mimetype": "text/x-python",
   "name": "python",
   "nbconvert_exporter": "python",
   "pygments_lexer": "ipython3",
   "version": "3.7.4"
  }
 },
 "nbformat": 4,
 "nbformat_minor": 2
}
